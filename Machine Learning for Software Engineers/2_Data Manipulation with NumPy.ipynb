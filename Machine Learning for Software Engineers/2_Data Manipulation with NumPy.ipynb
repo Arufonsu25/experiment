{
 "cells": [
  {
   "cell_type": "code",
   "execution_count": 1,
   "id": "673021ff-c3ab-48e2-bddc-89ebaed281f5",
   "metadata": {},
   "outputs": [],
   "source": [
    "import numpy as np"
   ]
  },
  {
   "cell_type": "markdown",
   "id": "f536aa8a-889c-435f-bc4d-cd32387805ec",
   "metadata": {
    "tags": []
   },
   "source": [
    "# Data Manipulation with NumPy"
   ]
  },
  {
   "cell_type": "markdown",
   "id": "c8ed8869-c6c8-463f-b628-a907aa6fcfbc",
   "metadata": {},
   "source": [
    "## Introduzione\n",
    "Manipolazione dei dati usando la libreria di numpy"
   ]
  },
  {
   "cell_type": "markdown",
   "id": "39bc169d-9763-453f-8b98-fb7e74c9b3fd",
   "metadata": {},
   "source": [
    "### Data Processing\n",
    "L'uso universale dei dati rende l'elaborazione dei dati, l'atto di convertire i dati grezzi in una forma significativa, un'abilità essenziale da avere."
   ]
  },
  {
   "cell_type": "markdown",
   "id": "74c024ec-abb1-4f9d-8d89-7a13f5c57b61",
   "metadata": {},
   "source": [
    "### Numpy\n",
    "Molti scenari coinvolgono principalmente set di dati numerici.\n",
    "<br>La maggior parte delle reti neurali utilizza dati di input numerici o convertiti in una forma numerica.\n",
    "<br><br>Quando abbiamo a che fare con dati numerici, la migliore libreria di py è **NumPy** che ci consente di eseguire molte operazioni sui dati numerici e convertire i dati in moduli più utilizzabili"
   ]
  },
  {
   "cell_type": "code",
   "execution_count": 2,
   "id": "e62f821d-ee2b-4139-8b65-9c0aa177596a",
   "metadata": {},
   "outputs": [
    {
     "name": "stdout",
     "output_type": "stream",
     "text": [
      "array([-1.,  2.,  5.], dtype=float32)\n"
     ]
    }
   ],
   "source": [
    "import numpy as np  # import the NumPy library\n",
    "\n",
    "# Initializing a NumPy array\n",
    "arr = np.array([-1, 2, 5], dtype=np.float32)\n",
    "\n",
    "# Print the representation of the array\n",
    "print(repr(arr))"
   ]
  },
  {
   "cell_type": "markdown",
   "id": "c4d9a34b-8c2a-4677-9f40-d80a63e65eba",
   "metadata": {
    "tags": []
   },
   "source": [
    "## NumPy Arrays"
   ]
  },
  {
   "cell_type": "markdown",
   "id": "c358e2bc-1cf2-4e28-81ca-498d4341248a",
   "metadata": {},
   "source": [
    "### Arrays\n",
    "Gli array di NumPy sono liste Python ma con funzionalità aggiuntive.<br>\n",
    "Per effettuare la conversione si può utilizzare la funzione `np.array`.<br>\n",
    "Un parametro da tenere in considerazione è `dtype`. Con questo comando si pu; effettuare il cast di un array."
   ]
  },
  {
   "cell_type": "code",
   "execution_count": 3,
   "id": "4b1f19bd-8710-427a-b2e2-5a744b645648",
   "metadata": {},
   "outputs": [
    {
     "name": "stdout",
     "output_type": "stream",
     "text": [
      "array([[0., 1., 2.],\n",
      "       [3., 4., 5.]], dtype=float32)\n"
     ]
    }
   ],
   "source": [
    "arr = np.array([[0, 1, 2], [3, 4, 5]],\n",
    "               dtype=np.float32)\n",
    "\n",
    "print(repr(arr))"
   ]
  },
  {
   "cell_type": "markdown",
   "id": "0682532a-fcf2-4b15-bfab-9ac2e47ed3e6",
   "metadata": {},
   "source": [
    "Quando gli elementi di una matrice NumPy sono tipo misto il tipo dell'array verrà reindirizzato al tipo di livello più alto.\n",
    "- Nel caso ci siano elementi di formato `int` e `float`, tutti gli elementi `int` verranno convertiti ai loro corrispettivi in `float`.\n",
    "- Invece nel caso in cui un array contenga elementi di tipo `int`, `float` e `string` verranno convertiti tutti in formato `string`."
   ]
  },
  {
   "cell_type": "code",
   "execution_count": 4,
   "id": "d46d880d-8472-48ef-b759-b7c6301c7419",
   "metadata": {},
   "outputs": [
    {
     "name": "stdout",
     "output_type": "stream",
     "text": [
      "array([0. , 0.1, 2. ])\n"
     ]
    }
   ],
   "source": [
    "arr = np.array([0, 0.1, 2])\n",
    "print(repr(arr))"
   ]
  },
  {
   "cell_type": "markdown",
   "id": "98622150-d735-4576-82c9-1bdc120c2e09",
   "metadata": {
    "tags": []
   },
   "source": [
    "### Copying\n",
    "Similmente agli array di Python, quando si fa riferimento a un array NumPy non ne crea una diverso. Quindi se cambiamo un valore usando la variabile di riferimento, verrà cambiato l'originale.<br><br>\n",
    "La funzione `copy` invece non necessita di argomenti e restituisce una copia dell'array.<br><br>\n",
    "Nel primo esempio viene effettuata la modifica sull'array originale mentre sul secondo no."
   ]
  },
  {
   "cell_type": "code",
   "execution_count": 5,
   "id": "4708d858-85ca-49ff-93cc-9eded5ed9dc2",
   "metadata": {},
   "outputs": [
    {
     "name": "stdout",
     "output_type": "stream",
     "text": [
      "Array a: array([0, 1])\n",
      "Array a: array([5, 1])\n",
      "Array b: array([9, 8])\n"
     ]
    }
   ],
   "source": [
    "a = np.array([0, 1])\n",
    "b = np.array([9, 8])\n",
    "c = a\n",
    "print('Array a: {}'.format(repr(a)))\n",
    "c[0] = 5\n",
    "print('Array a: {}'.format(repr(a)))\n",
    "\n",
    "d = b.copy()\n",
    "d[0] = 6\n",
    "print('Array b: {}'.format(repr(b)))"
   ]
  },
  {
   "cell_type": "markdown",
   "id": "fde35ed3-364a-4eb3-9e24-b73317ad76f8",
   "metadata": {},
   "source": [
    "### Casting\n",
    "Si può castare un array NumPy attraverso la funzione `astype`. Come argomento questa funzione richiede il nuovo tipo per l'array.\n",
    "<br><br>\n",
    "L'esempio che segue mostra un esempio di cating usando la funzione `astype`. Il modulo `dtype` restituisce il tipo dell'array."
   ]
  },
  {
   "cell_type": "code",
   "execution_count": 6,
   "id": "6ce1e1ec-00dc-46b7-aae1-1858f19fd391",
   "metadata": {},
   "outputs": [
    {
     "name": "stdout",
     "output_type": "stream",
     "text": [
      "int32\n",
      "float32\n"
     ]
    }
   ],
   "source": [
    "arr = np.array([0, 1, 2])\n",
    "print(arr.dtype)\n",
    "arr = arr.astype(np.float32)\n",
    "print(arr.dtype)"
   ]
  },
  {
   "cell_type": "markdown",
   "id": "7ffd58a1-a1c2-4cdf-ab7e-60bf6278c288",
   "metadata": {},
   "source": [
    "### NaN\n",
    "Quando non si vuole che un array NumPy contenga un valore in un particolare indice, si può utilizzare `np.nan` che funge da segnaposto. Un uso comune di `np.nan` è come valore di riempimento per i dati incompleti.\n",
    "<br><br>L'esempio mostra un caso di utilizzo di `np.nan`. `np.nan` non può assumere un tipo `int`. "
   ]
  },
  {
   "cell_type": "code",
   "execution_count": 7,
   "id": "41fb4c3e-1a34-4041-b534-81882f1fc0a2",
   "metadata": {},
   "outputs": [
    {
     "name": "stdout",
     "output_type": "stream",
     "text": [
      "array([nan,  1.,  2.])\n",
      "array(['nan', 'abc'], dtype='<U32')\n"
     ]
    },
    {
     "data": {
      "text/plain": [
       "array([nan,  1.,  2.], dtype=float32)"
      ]
     },
     "execution_count": 7,
     "metadata": {},
     "output_type": "execute_result"
    }
   ],
   "source": [
    "arr = np.array([np.nan, 1, 2])\n",
    "print(repr(arr))\n",
    "\n",
    "arr = np.array([np.nan, 'abc'])\n",
    "print(repr(arr))\n",
    "\n",
    "# Will result in a ValueError: If we uncomment line 8 and run again.\n",
    "#np.array([np.nan, 1, 2], dtype=np.int32)\n",
    "np.array([np.nan, 1, 2], dtype=np.float32)"
   ]
  },
  {
   "cell_type": "markdown",
   "id": "5a5e561c-cddb-4db4-827b-301f3b76444a",
   "metadata": {},
   "source": [
    "### Infinity\n",
    "Per rappresentare infinito in NumPy, si usa il valore speciale `np.inf`. Si può rappresentare anche -infinito con `-np.inf`.\n",
    "<br><br>L'esempio mostra un caso di utilizzo di `np.inf`. `np.nan` non può assumere un tipo `np.inf`."
   ]
  },
  {
   "cell_type": "code",
   "execution_count": 8,
   "id": "e6646ff8-b76c-4523-86ac-f5f781d9a27a",
   "metadata": {},
   "outputs": [
    {
     "name": "stdout",
     "output_type": "stream",
     "text": [
      "True\n",
      "array([inf,  5.])\n",
      "array([-inf,   1.])\n"
     ]
    },
    {
     "data": {
      "text/plain": [
       "array([inf,  3.], dtype=float32)"
      ]
     },
     "execution_count": 8,
     "metadata": {},
     "output_type": "execute_result"
    }
   ],
   "source": [
    "print(np.inf > 1000000)\n",
    "\n",
    "arr = np.array([np.inf, 5])\n",
    "print(repr(arr))\n",
    "\n",
    "arr = np.array([-np.inf, 1])\n",
    "print(repr(arr))\n",
    "\n",
    "# Will result in a OverflowError: If we uncomment line 10 and run again.\n",
    "#np.array([np.inf, 3], dtype=np.int32)\n",
    "np.array([np.inf, 3], dtype=np.float32)"
   ]
  },
  {
   "cell_type": "markdown",
   "id": "cbe92dc4-ed08-44fe-a6b8-1f484694256c",
   "metadata": {},
   "source": [
    "### Time to Code!"
   ]
  },
  {
   "cell_type": "markdown",
   "id": "5a8583d9-576c-4625-8aed-ed8690f6b30e",
   "metadata": {},
   "source": [
    "Array:\n",
    "- interi e np.nan\n",
    "- `np.nan` come primo elemento\n",
    "- `2`, `3`, `4`, `5` fino alla quarta posizione"
   ]
  },
  {
   "cell_type": "code",
   "execution_count": 9,
   "id": "449a2d54-ff23-4360-9c52-2b444d1891c5",
   "metadata": {},
   "outputs": [],
   "source": [
    "arr = np.array([np.nan, 2, 3, 4, 5])"
   ]
  },
  {
   "cell_type": "markdown",
   "id": "97689edf-c72f-496e-883b-a085f1e8b92f",
   "metadata": {},
   "source": [
    "- copiare l'array per modificare il primo elemento in `10`"
   ]
  },
  {
   "cell_type": "code",
   "execution_count": 10,
   "id": "706ebd17-e798-4281-aad3-082d9afcf1fd",
   "metadata": {},
   "outputs": [
    {
     "data": {
      "text/plain": [
       "array([10.,  2.,  3.,  4.,  5.])"
      ]
     },
     "execution_count": 10,
     "metadata": {},
     "output_type": "execute_result"
    }
   ],
   "source": [
    "arr2 = arr.copy()\n",
    "arr2[0] = 10\n",
    "arr2"
   ]
  },
  {
   "cell_type": "markdown",
   "id": "875648bb-b6ba-46f3-995d-57c95253d897",
   "metadata": {},
   "source": [
    "- Imposta il `float_arr` a `np.array` con gli elementi `1`, `5.4` e `3`\n",
    "- Imposta `float_arr2` con argomento `np.float32`"
   ]
  },
  {
   "cell_type": "code",
   "execution_count": 11,
   "id": "57f0a524-0be9-43e9-b1a2-193c2c35f037",
   "metadata": {},
   "outputs": [
    {
     "data": {
      "text/plain": [
       "array([10.,  2.,  3.,  4.,  5.], dtype=float32)"
      ]
     },
     "execution_count": 11,
     "metadata": {},
     "output_type": "execute_result"
    }
   ],
   "source": [
    "float_arr = np.array([1, 5.4, 3])\n",
    "float_arr2 = arr2.astype(np.float32)\n",
    "float_arr2"
   ]
  },
  {
   "cell_type": "markdown",
   "id": "5090a177-6441-4a70-b49a-7ea5879b9bc3",
   "metadata": {},
   "source": [
    "- imposta `matrice` uguale a `np.array` con una lista di liste come primo argomento e `np.float32`come argomento di `dtype`"
   ]
  },
  {
   "cell_type": "code",
   "execution_count": 12,
   "id": "5af48ce4-2cb3-4a5a-971d-481b661de318",
   "metadata": {},
   "outputs": [
    {
     "data": {
      "text/plain": [
       "array([[1., 2., 3.],\n",
       "       [4., 5., 6.]], dtype=float32)"
      ]
     },
     "execution_count": 12,
     "metadata": {},
     "output_type": "execute_result"
    }
   ],
   "source": [
    "matrix = np.array([[1, 2, 3], [4, 5, 6]],\n",
    "                  dtype=np.float32)\n",
    "matrix"
   ]
  },
  {
   "cell_type": "markdown",
   "id": "0be1ca8c-22e3-4f77-8581-d36d3302468a",
   "metadata": {},
   "source": [
    "## NumPy Basics"
   ]
  },
  {
   "cell_type": "markdown",
   "id": "6da5ff6c-e8ef-484d-a842-f30227207fc2",
   "metadata": {},
   "source": [
    "### Ranged data"
   ]
  },
  {
   "cell_type": "markdown",
   "id": "fb9b56ef-b651-465e-b1c0-9fe2c25324a1",
   "metadata": {},
   "source": [
    "`np.array` non può funziona per array con centinaia di valori. <br>NumPy fornisce un'opzione per creare matrici di dati a distanza usando `np.arange` Il concetto è quello della funzione `range` di Python e restituirà un array 1D."
   ]
  },
  {
   "cell_type": "code",
   "execution_count": 13,
   "id": "49f7ed82-9029-4c46-9329-5e14501acf66",
   "metadata": {},
   "outputs": [
    {
     "name": "stdout",
     "output_type": "stream",
     "text": [
      "array([0, 1, 2, 3, 4])\n",
      "array([0., 1., 2., 3., 4., 5.])\n",
      "array([-1,  0,  1,  2,  3])\n",
      "array([-1.5,  0.5,  2.5])\n"
     ]
    }
   ],
   "source": [
    "arr = np.arange(5)\n",
    "print(repr(arr))\n",
    "\n",
    "arr = np.arange(5.1)\n",
    "print(repr(arr))\n",
    "\n",
    "arr = np.arange(-1, 4)\n",
    "print(repr(arr))\n",
    "\n",
    "arr = np.arange(-1.5, 4, 2)\n",
    "print(repr(arr))"
   ]
  },
  {
   "cell_type": "markdown",
   "id": "36c557a5-ff45-4947-890d-9a7d4e7cbf88",
   "metadata": {},
   "source": [
    "Gli output di `np.arange` sono:\n",
    "- se come argomento viene passato un singolo numero `np.arange` restituirà una matrice con tutti numeri interi nell'intervalo [0, n)\n",
    "- se vengono passati due interi come argomenti `np.arange`restituirà una matrice con tutti gli interi nell'intervallo [m, n)\n",
    "- se vengono passati 3 argomenti `np.arange` restituirà tutti gli interi nell'intervallo [m, n) usando uno step s.\n",
    "- come `np.array`, `np.arange` esegue l'upcasting. Ha anche la keyword `dtype` per effettuare il cast manualmente.\n",
    "\n",
    "Per specificare il numero di elementi nella matrice restituita, anzichè la dimensione dello step, è possibile utilizzare la funzione `np.linspace`.\n",
    "<br><br>La fine del range è incluso per `np.linspace` a meno che l'argomento della keyword sia impostato su `False`. Per specificare il numero di elementi, si setta la keyword `num` (di default `50`)"
   ]
  },
  {
   "cell_type": "code",
   "execution_count": 14,
   "id": "2de9b57b-0c10-4b30-9734-218446410d42",
   "metadata": {},
   "outputs": [
    {
     "name": "stdout",
     "output_type": "stream",
     "text": [
      "array([ 5.,  7.,  9., 11.])\n",
      "array([5. , 6.5, 8. , 9.5])\n",
      "array([ 5,  7,  9, 11])\n"
     ]
    }
   ],
   "source": [
    "arr = np.linspace(5, 11, num=4)\n",
    "print(repr(arr))\n",
    "\n",
    "arr = np.linspace(5, 11, num=4, endpoint=False)\n",
    "print(repr(arr))\n",
    "\n",
    "arr = np.linspace(5, 11, num=4, dtype=np.int32)\n",
    "print(repr(arr))"
   ]
  },
  {
   "cell_type": "markdown",
   "id": "c5543d40-837f-446f-8717-e85666c36c75",
   "metadata": {},
   "source": [
    "### Reshaping data"
   ]
  },
  {
   "cell_type": "markdown",
   "id": "f5f67a40-1369-4abd-83f6-cc2637372f87",
   "metadata": {},
   "source": [
    "La funzione che si usa per rimodellare i dati in NumPy è `np.reshape`.\n",
    "<br>Assume una matrice e una nuova forma come argomenti richiesti. La nuova forma deve contenere esattamente tutti gli elementi nella matrice di input.\n",
    "<br><br>E' permesso utilizzare il valore speciale `-1` per una dimensione massima della nuova forma."
   ]
  },
  {
   "cell_type": "code",
   "execution_count": 15,
   "id": "b0c22937-8b6c-4e61-a0a8-c988bbd69206",
   "metadata": {},
   "outputs": [
    {
     "name": "stdout",
     "output_type": "stream",
     "text": [
      "array([[0, 1, 2, 3],\n",
      "       [4, 5, 6, 7]])\n",
      "New shape: (2, 4)\n",
      "array([[[0, 1],\n",
      "        [2, 3]],\n",
      "\n",
      "       [[4, 5],\n",
      "        [6, 7]]])\n",
      "New shape: (2, 2, 2)\n"
     ]
    }
   ],
   "source": [
    "arr = np.arange(8)\n",
    "\n",
    "reshaped_arr = np.reshape(arr, (2, 4))\n",
    "print(repr(reshaped_arr))\n",
    "print('New shape: {}'.format(reshaped_arr.shape))\n",
    "\n",
    "reshaped_arr = np.reshape(arr, (-1, 2, 2))\n",
    "print(repr(reshaped_arr))\n",
    "print('New shape: {}'.format(reshaped_arr.shape))"
   ]
  },
  {
   "cell_type": "markdown",
   "id": "119ef2d0-83cd-48f4-a9cc-bb8f6cae0449",
   "metadata": {},
   "source": [
    "Mentre `np.reshape` può eseguire qualsiasi utilità di rimodellamento di cui abbiamo bisogno, NumPy fornisce una funzione intrinseca per appiattire un array.\n",
    "<br><br>L'esempio seguente \"appiattisce\" la matrice con funzione `flatten`."
   ]
  },
  {
   "cell_type": "code",
   "execution_count": 16,
   "id": "a26b6dc6-bb24-496a-90af-1940bf917f29",
   "metadata": {},
   "outputs": [
    {
     "name": "stdout",
     "output_type": "stream",
     "text": [
      "array([[0, 1, 2, 3],\n",
      "       [4, 5, 6, 7]])\n",
      "arr shape: (2, 4)\n",
      "array([0, 1, 2, 3, 4, 5, 6, 7])\n",
      "flattened shape: (8,)\n"
     ]
    }
   ],
   "source": [
    "arr = np.arange(8)\n",
    "arr = np.reshape(arr, (2, 4))\n",
    "flattened = arr.flatten()\n",
    "print(repr(arr))\n",
    "print('arr shape: {}'.format(arr.shape))\n",
    "print(repr(flattened))\n",
    "print('flattened shape: {}'.format(flattened.shape))"
   ]
  },
  {
   "cell_type": "markdown",
   "id": "7aff15f1-5ead-42e3-b102-665c1db94839",
   "metadata": {},
   "source": [
    "### Transposing\n",
    "E' anche possibile trasporre i dati con la funzione `np.transpose`. Le righe della matrice diventano le colonne dopo la trasposizione."
   ]
  },
  {
   "cell_type": "code",
   "execution_count": 17,
   "id": "fa18d3fb-77ed-441a-b4f8-ccd06280aa19",
   "metadata": {},
   "outputs": [
    {
     "name": "stdout",
     "output_type": "stream",
     "text": [
      "array([[0, 1],\n",
      "       [2, 3],\n",
      "       [4, 5],\n",
      "       [6, 7]])\n",
      "arr shape: (4, 2)\n",
      "array([[0, 2, 4, 6],\n",
      "       [1, 3, 5, 7]])\n",
      "transposed shape: (2, 4)\n"
     ]
    }
   ],
   "source": [
    "arr = np.arange(8)\n",
    "arr = np.reshape(arr, (4, 2))\n",
    "transposed = np.transpose(arr)\n",
    "print(repr(arr))\n",
    "print('arr shape: {}'.format(arr.shape))\n",
    "print(repr(transposed))\n",
    "print('transposed shape: {}'.format(transposed.shape))"
   ]
  },
  {
   "cell_type": "markdown",
   "id": "ad1964f6-3775-4cd9-9914-789bc7093bb8",
   "metadata": {},
   "source": [
    "La funzione `np.transpose` accetta un primo argomento richiesto, che sarà l'array che si vuole trasporre. La keyword `axes` che rappresenta la nuova permutazione delle dimensioni.\n",
    "<br><br>La permutazione è una tupla/lista di numeri interi, con la stessa lunghezza del numero di dimensioni nella matrice."
   ]
  },
  {
   "cell_type": "code",
   "execution_count": 18,
   "id": "c5db3930-3e6a-46da-9d22-8912088069e7",
   "metadata": {},
   "outputs": [
    {
     "name": "stdout",
     "output_type": "stream",
     "text": [
      "arr shape: (3, 4, 2)\n",
      "transposed shape: (4, 2, 3)\n"
     ]
    }
   ],
   "source": [
    "arr = np.arange(24)\n",
    "arr = np.reshape(arr, (3, 4, 2))\n",
    "transposed = np.transpose(arr, axes=(1, 2, 0))\n",
    "print('arr shape: {}'.format(arr.shape))\n",
    "print('transposed shape: {}'.format(transposed.shape))"
   ]
  },
  {
   "cell_type": "markdown",
   "id": "3b4acb16-210f-44f1-a31d-d50dbc90d0b3",
   "metadata": {},
   "source": [
    "In questo esempio:\n",
    "- la prima vecchia dimensione è diventata la nuova terza dimensione,\n",
    "- la seconda vecchia dimensione è diventata la nuova prima dimensione e \n",
    "- la terza vecchia dimensione è diventata la nuova seconda dimensione.\n",
    "\n",
    "Il valore di default per `axes` è un'inversione di dimensione:\n",
    "- per esempio per gli array 3D il valore predefinito di `axes` è `[2,1,0].`"
   ]
  },
  {
   "cell_type": "markdown",
   "id": "90101b91-e2cb-4db5-9e2c-ce60f23ae112",
   "metadata": {},
   "source": [
    "### Zeros and ones\n",
    "Potrebbe essere necessario generare array esclusivamemte con 0 e 1 per creare set di dati fittizi rigorosamente di un'etichetta.<br>\n",
    "Per creare questi array, NumPy ha le funzioni `np.zeros` e `np.ones`. <br>Entrambe hanno un solo argomento, la forma dell'array. La funzione permette anche il casting manuale usando `dtype`."
   ]
  },
  {
   "cell_type": "code",
   "execution_count": 19,
   "id": "9885c1a2-5dfb-4efc-a927-cb71c250bd3e",
   "metadata": {},
   "outputs": [
    {
     "name": "stdout",
     "output_type": "stream",
     "text": [
      "array([0., 0., 0., 0.])\n",
      "array([[1., 1., 1.],\n",
      "       [1., 1., 1.]])\n",
      "array([[1, 1, 1],\n",
      "       [1, 1, 1]])\n"
     ]
    }
   ],
   "source": [
    "arr = np.zeros(4)\n",
    "print(repr(arr))\n",
    "\n",
    "arr = np.ones((2, 3))\n",
    "print(repr(arr))\n",
    "\n",
    "arr = np.ones((2, 3), dtype=np.int32)\n",
    "print(repr(arr))"
   ]
  },
  {
   "cell_type": "markdown",
   "id": "9e705e73-87c6-437b-9e67-a26a3c2237c7",
   "metadata": {},
   "source": [
    "Se si vuole creare una matrice di 0 e 1 con la stessa forma di un'altra matrice, si può usare `np.zeros_like` and `np.ones_like`."
   ]
  },
  {
   "cell_type": "code",
   "execution_count": 20,
   "id": "13e052e7-ec05-4596-ae99-015bcf802887",
   "metadata": {},
   "outputs": [
    {
     "name": "stdout",
     "output_type": "stream",
     "text": [
      "array([[0, 0],\n",
      "       [0, 0]])\n",
      "array([[1., 1.],\n",
      "       [1., 1.]])\n",
      "array([[1, 1],\n",
      "       [1, 1]])\n"
     ]
    }
   ],
   "source": [
    "arr = np.array([[1, 2], [3, 4]])\n",
    "print(repr(np.zeros_like(arr)))\n",
    "\n",
    "arr = np.array([[0., 1.], [1.2, 4.]])\n",
    "print(repr(np.ones_like(arr)))\n",
    "print(repr(np.ones_like(arr, dtype=np.int32)))"
   ]
  },
  {
   "cell_type": "markdown",
   "id": "05418f2d-2387-42fd-9ffa-c9604d204dbd",
   "metadata": {},
   "source": [
    "### Time to Code!"
   ]
  },
  {
   "cell_type": "markdown",
   "id": "4bbc8ae5-2b86-402b-b451-a15486401105",
   "metadata": {},
   "source": [
    "- setta `arr` uguale a `np.arange` uguale a `12`\n",
    "- poi setta `reshaped` uguale a `np.reshape` con `arr` come primo argomento e `(2, 3, 2)` come secondo argomento"
   ]
  },
  {
   "cell_type": "code",
   "execution_count": 21,
   "id": "94404d03-0b7b-4829-b81d-f97e8a2d74ac",
   "metadata": {},
   "outputs": [
    {
     "data": {
      "text/plain": [
       "array([[[ 0,  1],\n",
       "        [ 2,  3],\n",
       "        [ 4,  5]],\n",
       "\n",
       "       [[ 6,  7],\n",
       "        [ 8,  9],\n",
       "        [10, 11]]])"
      ]
     },
     "execution_count": 21,
     "metadata": {},
     "output_type": "execute_result"
    }
   ],
   "source": [
    "arr = np.arange(12)\n",
    "reshaped = np.reshape(arr, (2, 3, 2))\n",
    "reshaped"
   ]
  },
  {
   "cell_type": "markdown",
   "id": "e38e1caa-9a1f-4bd4-9f22-819e37a7ce9f",
   "metadata": {},
   "source": [
    "- setta `reshaped` come `flattened`"
   ]
  },
  {
   "cell_type": "code",
   "execution_count": 22,
   "id": "7add9bab-cffb-4406-87ff-06438d4027b1",
   "metadata": {},
   "outputs": [
    {
     "data": {
      "text/plain": [
       "array([ 0,  1,  2,  3,  4,  5,  6,  7,  8,  9, 10, 11])"
      ]
     },
     "execution_count": 22,
     "metadata": {},
     "output_type": "execute_result"
    }
   ],
   "source": [
    "flattened = reshaped.flatten()\n",
    "flattened"
   ]
  },
  {
   "cell_type": "markdown",
   "id": "1644e4b4-774e-42e9-997f-d7fd01e25274",
   "metadata": {},
   "source": [
    "- setta `transposed` uguale a `np.transpose` con `reshape` come primo argomento e la permutazione specificata per l'argomento della keyword `axes`."
   ]
  },
  {
   "cell_type": "code",
   "execution_count": 23,
   "id": "e83edc4a-b9d8-429b-bf0b-cd80652bf632",
   "metadata": {},
   "outputs": [
    {
     "data": {
      "text/plain": [
       "array([[[ 0,  6],\n",
       "        [ 1,  7]],\n",
       "\n",
       "       [[ 2,  8],\n",
       "        [ 3,  9]],\n",
       "\n",
       "       [[ 4, 10],\n",
       "        [ 5, 11]]])"
      ]
     },
     "execution_count": 23,
     "metadata": {},
     "output_type": "execute_result"
    }
   ],
   "source": [
    "transposed = np.transpose(reshaped, axes=(1, 2, 0))\n",
    "transposed"
   ]
  },
  {
   "cell_type": "markdown",
   "id": "f211a319-2fa8-485e-9417-d310068937ae",
   "metadata": {},
   "source": [
    "- creare un array con 5 `0`\n",
    "- creare un array con la stessa forma di `transposed` ma contenente solo `1` come elementi"
   ]
  },
  {
   "cell_type": "code",
   "execution_count": 24,
   "id": "00dc7dde-08e4-4d0b-8775-628037f6f139",
   "metadata": {},
   "outputs": [
    {
     "data": {
      "text/plain": [
       "array([0., 0., 0., 0., 0.])"
      ]
     },
     "execution_count": 24,
     "metadata": {},
     "output_type": "execute_result"
    }
   ],
   "source": [
    "zeros_arr = np.zeros(5)\n",
    "zeros_arr"
   ]
  },
  {
   "cell_type": "code",
   "execution_count": 25,
   "id": "82f35a67-dc68-4da8-bcbe-bac1178057d9",
   "metadata": {},
   "outputs": [
    {
     "data": {
      "text/plain": [
       "array([[[1, 1],\n",
       "        [1, 1]],\n",
       "\n",
       "       [[1, 1],\n",
       "        [1, 1]],\n",
       "\n",
       "       [[1, 1],\n",
       "        [1, 1]]])"
      ]
     },
     "execution_count": 25,
     "metadata": {},
     "output_type": "execute_result"
    }
   ],
   "source": [
    "ones_arr = np.ones_like(transposed)\n",
    "ones_arr"
   ]
  },
  {
   "cell_type": "markdown",
   "id": "bdcec3e6-6a61-4b6d-9383-e5e9b78e519e",
   "metadata": {},
   "source": [
    "- setta points uguale a `np.linspace` con `-3.5` e `1.5` come primo e secondo argomento e `101` per l'argomento `num`"
   ]
  },
  {
   "cell_type": "code",
   "execution_count": 26,
   "id": "4e8470fb-2805-4caf-a828-aa2055c3c34c",
   "metadata": {},
   "outputs": [
    {
     "data": {
      "text/plain": [
       "array([-3.5 , -3.45, -3.4 , -3.35, -3.3 , -3.25, -3.2 , -3.15, -3.1 ,\n",
       "       -3.05, -3.  , -2.95, -2.9 , -2.85, -2.8 , -2.75, -2.7 , -2.65,\n",
       "       -2.6 , -2.55, -2.5 , -2.45, -2.4 , -2.35, -2.3 , -2.25, -2.2 ,\n",
       "       -2.15, -2.1 , -2.05, -2.  , -1.95, -1.9 , -1.85, -1.8 , -1.75,\n",
       "       -1.7 , -1.65, -1.6 , -1.55, -1.5 , -1.45, -1.4 , -1.35, -1.3 ,\n",
       "       -1.25, -1.2 , -1.15, -1.1 , -1.05, -1.  , -0.95, -0.9 , -0.85,\n",
       "       -0.8 , -0.75, -0.7 , -0.65, -0.6 , -0.55, -0.5 , -0.45, -0.4 ,\n",
       "       -0.35, -0.3 , -0.25, -0.2 , -0.15, -0.1 , -0.05,  0.  ,  0.05,\n",
       "        0.1 ,  0.15,  0.2 ,  0.25,  0.3 ,  0.35,  0.4 ,  0.45,  0.5 ,\n",
       "        0.55,  0.6 ,  0.65,  0.7 ,  0.75,  0.8 ,  0.85,  0.9 ,  0.95,\n",
       "        1.  ,  1.05,  1.1 ,  1.15,  1.2 ,  1.25,  1.3 ,  1.35,  1.4 ,\n",
       "        1.45,  1.5 ])"
      ]
     },
     "execution_count": 26,
     "metadata": {},
     "output_type": "execute_result"
    }
   ],
   "source": [
    "points = np.linspace(-3.5, 1.5, num=101)\n",
    "points"
   ]
  },
  {
   "cell_type": "markdown",
   "id": "820e5e25-ecf0-4706-b534-c31f6a9f0660",
   "metadata": {},
   "source": [
    "## Math"
   ]
  },
  {
   "cell_type": "markdown",
   "id": "fcaba0c2-25a3-4d6b-a9b0-d2139e1f8bad",
   "metadata": {},
   "source": [
    "### Arithmetic\n",
    "Uno degli scopi principali di NumPy è quello di eseguire l'aritmetica su array multidimensionali. <br>Utilizzando le matrici NumPy, possiamo applicare l'aritmetica a ciascun elemento con una singola operazione."
   ]
  },
  {
   "cell_type": "code",
   "execution_count": 27,
   "id": "54d990e7-f2a7-4c91-be10-227adcaf03e0",
   "metadata": {},
   "outputs": [
    {
     "name": "stdout",
     "output_type": "stream",
     "text": [
      "array([[2, 3],\n",
      "       [4, 5]])\n"
     ]
    }
   ],
   "source": [
    "arr = np.array([[1, 2], [3, 4]])\n",
    "# Add 1 to element values\n",
    "print(repr(arr + 1))"
   ]
  },
  {
   "cell_type": "code",
   "execution_count": 28,
   "id": "017b30bd-00e7-4d0d-9b0a-02f7556beff7",
   "metadata": {},
   "outputs": [
    {
     "name": "stdout",
     "output_type": "stream",
     "text": [
      "array([[-0.2,  0.8],\n",
      "       [ 1.8,  2.8]])\n"
     ]
    }
   ],
   "source": [
    "# Subtract element values by 1.2\n",
    "print(repr(arr - 1.2))"
   ]
  },
  {
   "cell_type": "code",
   "execution_count": 29,
   "id": "c772fe82-1d54-45ba-8932-7f73719cd866",
   "metadata": {},
   "outputs": [
    {
     "name": "stdout",
     "output_type": "stream",
     "text": [
      "array([[2, 4],\n",
      "       [6, 8]])\n"
     ]
    }
   ],
   "source": [
    "# Double element values\n",
    "print(repr(arr * 2))"
   ]
  },
  {
   "cell_type": "code",
   "execution_count": 30,
   "id": "700132ff-f858-49cc-a54a-093a6ab9fc59",
   "metadata": {},
   "outputs": [
    {
     "name": "stdout",
     "output_type": "stream",
     "text": [
      "array([[0.5, 1. ],\n",
      "       [1.5, 2. ]])\n"
     ]
    }
   ],
   "source": [
    "# Halve element values\n",
    "print(repr(arr / 2))"
   ]
  },
  {
   "cell_type": "code",
   "execution_count": 31,
   "id": "17b67bb8-cd74-47e3-a989-9ad9cc1b2135",
   "metadata": {},
   "outputs": [
    {
     "name": "stdout",
     "output_type": "stream",
     "text": [
      "array([[0, 1],\n",
      "       [1, 2]], dtype=int32)\n"
     ]
    }
   ],
   "source": [
    "# Integer division (half)\n",
    "print(repr(arr // 2))"
   ]
  },
  {
   "cell_type": "code",
   "execution_count": 32,
   "id": "27b0e65e-1119-4636-b3f2-e553b0cb7684",
   "metadata": {},
   "outputs": [
    {
     "name": "stdout",
     "output_type": "stream",
     "text": [
      "array([[ 1,  4],\n",
      "       [ 9, 16]], dtype=int32)\n"
     ]
    }
   ],
   "source": [
    "# Square element values\n",
    "print(repr(arr**2))"
   ]
  },
  {
   "cell_type": "code",
   "execution_count": 33,
   "id": "a1514a5a-6079-4a42-8160-d3a9f8519c79",
   "metadata": {},
   "outputs": [
    {
     "name": "stdout",
     "output_type": "stream",
     "text": [
      "array([[1.        , 1.41421356],\n",
      "       [1.73205081, 2.        ]])\n"
     ]
    }
   ],
   "source": [
    "# Square root element values\n",
    "print(repr(arr**0.5))"
   ]
  },
  {
   "cell_type": "markdown",
   "id": "8e1eb90b-1e1c-433e-a3a2-205960962ae6",
   "metadata": {},
   "source": [
    "Utilizzando l'aritmetica di NumPy, si può facilmente modificare grandi quantità di dati numerici con poche operazioni. \n",
    "- Ad esempio, si potrebbe convertire un set di dati di temperature Fahrenheit nella loro forma Celsius equivalente."
   ]
  },
  {
   "cell_type": "code",
   "execution_count": 34,
   "id": "809b011e-a30c-42a2-8722-c6f3e7ea4d26",
   "metadata": {},
   "outputs": [
    {
     "name": "stdout",
     "output_type": "stream",
     "text": [
      "Celsius: array([  0., -20., -10., -40.])\n"
     ]
    }
   ],
   "source": [
    "def f2c(temps):\n",
    "    return (5/9)*(temps-32)\n",
    "\n",
    "fahrenheits = np.array([32, -4, 14, -40])\n",
    "celsius = f2c(fahrenheits)\n",
    "print('Celsius: {}'.format(repr(celsius)))"
   ]
  },
  {
   "cell_type": "markdown",
   "id": "4b81e540-36ea-4d0a-b3ce-b5c42dd4c9e1",
   "metadata": {},
   "source": [
    "L'esecuzione dell'aritmetica su matrici NumPy **non modifica la matrice originale** e produce invece una nuova matrice risultante dall'operazione aritmetica."
   ]
  },
  {
   "cell_type": "markdown",
   "id": "b2725a30-50ec-48fb-84a4-231fe32d9087",
   "metadata": {},
   "source": [
    "### Non-linear functions"
   ]
  },
  {
   "cell_type": "markdown",
   "id": "daeb2b2a-0f42-483f-ad74-94e88454d899",
   "metadata": {},
   "source": [
    "La funzione:\n",
    "- `np.exp` esegue un esponenziale in base `e` su un array, \n",
    "- `np.exp2` esegue un esponenziale in base `2`. \n",
    "\n",
    "Allo stesso modo, `np.log`, `np.log2` e `np.log10` eseguono tutti logaritmi su un array di input, utilizzando rispettivamente la base `e`, la base `2` e la base `10`."
   ]
  },
  {
   "cell_type": "markdown",
   "id": "9381180a-e896-4661-9812-628b0876b177",
   "metadata": {},
   "source": [
    "pigreco = `np.pi`"
   ]
  },
  {
   "cell_type": "code",
   "execution_count": 35,
   "id": "75ff78f0-599e-4236-8ded-52e2a3d9b2f4",
   "metadata": {},
   "outputs": [
    {
     "data": {
      "text/plain": [
       "array([[1, 2],\n",
       "       [3, 4]])"
      ]
     },
     "execution_count": 35,
     "metadata": {},
     "output_type": "execute_result"
    }
   ],
   "source": [
    "arr = np.array([[1, 2], [3, 4]])\n",
    "arr"
   ]
  },
  {
   "cell_type": "code",
   "execution_count": 36,
   "id": "56ca2591-424b-4863-8102-959b412eb63e",
   "metadata": {},
   "outputs": [
    {
     "name": "stdout",
     "output_type": "stream",
     "text": [
      "array([[ 2.71828183,  7.3890561 ],\n",
      "       [20.08553692, 54.59815003]])\n"
     ]
    }
   ],
   "source": [
    "# Raised to power of e\n",
    "print(repr(np.exp(arr)))"
   ]
  },
  {
   "cell_type": "code",
   "execution_count": 37,
   "id": "63a47bb6-e7fb-4ad1-b124-0ec43da55844",
   "metadata": {},
   "outputs": [
    {
     "name": "stdout",
     "output_type": "stream",
     "text": [
      "array([[ 2.,  4.],\n",
      "       [ 8., 16.]])\n"
     ]
    }
   ],
   "source": [
    "# Raised to power of 2\n",
    "print(repr(np.exp2(arr)))"
   ]
  },
  {
   "cell_type": "code",
   "execution_count": 38,
   "id": "7667859c-abcf-4143-b2d7-11523ebf5130",
   "metadata": {},
   "outputs": [
    {
     "data": {
      "text/plain": [
       "array([[ 1.        , 10.        ],\n",
       "       [ 2.71828183,  3.14159265]])"
      ]
     },
     "execution_count": 38,
     "metadata": {},
     "output_type": "execute_result"
    }
   ],
   "source": [
    "arr2 = np.array([[1, 10], [np.e, np.pi]])\n",
    "arr2"
   ]
  },
  {
   "cell_type": "code",
   "execution_count": 39,
   "id": "e49af701-e497-44c2-9609-b628689b9c6d",
   "metadata": {},
   "outputs": [
    {
     "name": "stdout",
     "output_type": "stream",
     "text": [
      "array([[0.        , 2.30258509],\n",
      "       [1.        , 1.14472989]])\n"
     ]
    }
   ],
   "source": [
    "# Natural logarithm\n",
    "print(repr(np.log(arr2)))"
   ]
  },
  {
   "cell_type": "code",
   "execution_count": 40,
   "id": "49087c23-adfa-4f9e-8b54-2d0ee81abe48",
   "metadata": {},
   "outputs": [
    {
     "name": "stdout",
     "output_type": "stream",
     "text": [
      "array([[0.        , 1.        ],\n",
      "       [0.43429448, 0.49714987]])\n"
     ]
    }
   ],
   "source": [
    "# Base 10 logarithm\n",
    "print(repr(np.log10(arr2)))"
   ]
  },
  {
   "cell_type": "markdown",
   "id": "ab8af423-5cbc-4dfb-9b49-567a085f16bc",
   "metadata": {},
   "source": [
    "Per elevare a potenza con ogni base, si usa `np.power`. Il primo argomento della funzione è la base, mentre il secondo è la potenza. Può essere applicata a un'intera matrice."
   ]
  },
  {
   "cell_type": "code",
   "execution_count": 41,
   "id": "dc684d0f-5045-4dc2-8379-8ba095a8a8ac",
   "metadata": {},
   "outputs": [
    {
     "data": {
      "text/plain": [
       "array([[1, 2],\n",
       "       [3, 4]])"
      ]
     },
     "execution_count": 41,
     "metadata": {},
     "output_type": "execute_result"
    }
   ],
   "source": [
    "arr = np.array([[1, 2], [3, 4]])\n",
    "arr"
   ]
  },
  {
   "cell_type": "code",
   "execution_count": 42,
   "id": "9055d2af-a3b2-4298-81a1-59e8d40e0e3c",
   "metadata": {},
   "outputs": [
    {
     "name": "stdout",
     "output_type": "stream",
     "text": [
      "array([[ 3,  9],\n",
      "       [27, 81]], dtype=int32)\n"
     ]
    }
   ],
   "source": [
    "# Raise 3 to power of each number in arr\n",
    "print(repr(np.power(3, arr)))"
   ]
  },
  {
   "cell_type": "code",
   "execution_count": 43,
   "id": "320e1e8f-81e7-4ce5-a38d-1550a978871f",
   "metadata": {},
   "outputs": [
    {
     "data": {
      "text/plain": [
       "array([[10.2,  4. ],\n",
       "       [ 3. ,  5. ]])"
      ]
     },
     "execution_count": 43,
     "metadata": {},
     "output_type": "execute_result"
    }
   ],
   "source": [
    "arr2 = np.array([[10.2, 4], [3, 5]])\n",
    "arr2"
   ]
  },
  {
   "cell_type": "code",
   "execution_count": 44,
   "id": "8c2e4283-732f-424a-9e02-cb90ac019058",
   "metadata": {},
   "outputs": [
    {
     "name": "stdout",
     "output_type": "stream",
     "text": [
      "array([[ 10.2,  16. ],\n",
      "       [ 27. , 625. ]])\n"
     ]
    }
   ],
   "source": [
    "# Raise arr2 to power of each number in arr\n",
    "print(repr(np.power(arr2, arr)))"
   ]
  },
  {
   "cell_type": "markdown",
   "id": "184e67b6-fbc7-49c1-b09e-83be6c44ed7c",
   "metadata": {},
   "source": [
    "https://numpy.org/doc/stable/reference/routines.math.html"
   ]
  },
  {
   "cell_type": "markdown",
   "id": "cea349f7-a1fc-4197-8ade-8b2891464147",
   "metadata": {},
   "source": [
    "### Matrix multiplication\n",
    "Poiché gli array NumPy sono vettori e matrici, ci sono funzioni per i prodotti a punti e la moltiplicazione delle matrici.\n",
    "<br>La funzione principale da usare è `np.matmul` che prende due array vettoriali/matrici come input e produce un prodotto punto o una moltiplicazione matriciale."
   ]
  },
  {
   "cell_type": "code",
   "execution_count": 45,
   "id": "2ab6c571-4b44-437c-8a33-08e60bd26c7c",
   "metadata": {},
   "outputs": [
    {
     "name": "stdout",
     "output_type": "stream",
     "text": [
      "27\n"
     ]
    }
   ],
   "source": [
    "arr1 = np.array([1, 2, 3])\n",
    "arr2 = np.array([-3, 0, 10])\n",
    "print(np.matmul(arr1, arr2))"
   ]
  },
  {
   "cell_type": "code",
   "execution_count": 46,
   "id": "9fda1274-0584-4f58-aec3-803e555c7e35",
   "metadata": {},
   "outputs": [
    {
     "name": "stdout",
     "output_type": "stream",
     "text": [
      "array([[  5,   4,  -7],\n",
      "       [  9,   8, -13],\n",
      "       [ 13,  12, -19]])\n",
      "array([[  4,   4],\n",
      "       [-11, -10]])\n"
     ]
    }
   ],
   "source": [
    "arr3 = np.array([[1, 2], [3, 4], [5, 6]])\n",
    "arr4 = np.array([[-1, 0, 1], [3, 2, -4]])\n",
    "print(repr(np.matmul(arr3, arr4)))\n",
    "print(repr(np.matmul(arr4, arr3)))\n",
    "# This will result in a ValueError: If we uncomment line 10 and run again.\n",
    "#print(repr(np.matmul(arr3, arr3)))"
   ]
  },
  {
   "cell_type": "markdown",
   "id": "3758cc20-f81d-48e9-955e-3a4cde816959",
   "metadata": {},
   "source": [
    "### Time to Code!"
   ]
  },
  {
   "cell_type": "code",
   "execution_count": 47,
   "id": "fd873486-8508-46af-ac68-46208f67dcef",
   "metadata": {},
   "outputs": [],
   "source": [
    "arr = np.array([[-0.5, 0.8, -0.1], [0.0, -1.2, 1.3]])\n",
    "arr2 = np.array([[1.2, 3.1], [1.2, 0.3], [1.5, 2.2]])"
   ]
  },
  {
   "cell_type": "markdown",
   "id": "34116ac5-9ced-44a3-ae1f-07ff6d9d0aad",
   "metadata": {},
   "source": [
    "- setta `multiplied` uguale a arr moltiplicato per `np.pi`\n",
    "- setta `added` uguale al risultato dell'aggiunta `arr` e `multiplied`\n",
    "- setta `squared` uguale a `add` con ogni suo elemento al quadrato"
   ]
  },
  {
   "cell_type": "code",
   "execution_count": 48,
   "id": "2def6b8f-7287-4550-bf3c-53a7fae5d526",
   "metadata": {},
   "outputs": [
    {
     "data": {
      "text/plain": [
       "array([[-0.5,  0.8, -0.1],\n",
       "       [ 0. , -1.2,  1.3]])"
      ]
     },
     "execution_count": 48,
     "metadata": {},
     "output_type": "execute_result"
    }
   ],
   "source": [
    "arr"
   ]
  },
  {
   "cell_type": "code",
   "execution_count": 49,
   "id": "89985de5-5bc4-48a8-9f7c-99be82a5fed3",
   "metadata": {},
   "outputs": [
    {
     "data": {
      "text/plain": [
       "array([[-1.57079633,  2.51327412, -0.31415927],\n",
       "       [ 0.        , -3.76991118,  4.08407045]])"
      ]
     },
     "execution_count": 49,
     "metadata": {},
     "output_type": "execute_result"
    }
   ],
   "source": [
    "multiplied = arr * np.pi\n",
    "multiplied"
   ]
  },
  {
   "cell_type": "code",
   "execution_count": 50,
   "id": "f5d2a8a9-af8f-48d8-b408-cd0d8b65cc1f",
   "metadata": {},
   "outputs": [
    {
     "data": {
      "text/plain": [
       "array([[-2.07079633,  3.31327412, -0.41415927],\n",
       "       [ 0.        , -4.96991118,  5.38407045]])"
      ]
     },
     "execution_count": 50,
     "metadata": {},
     "output_type": "execute_result"
    }
   ],
   "source": [
    "added = arr + multiplied\n",
    "added"
   ]
  },
  {
   "cell_type": "code",
   "execution_count": 51,
   "id": "aeceb801-b971-4540-a21f-072f6ce5c1ef",
   "metadata": {},
   "outputs": [
    {
     "data": {
      "text/plain": [
       "array([[ 4.28819743, 10.97778541,  0.1715279 ],\n",
       "       [ 0.        , 24.70001718, 28.98821461]])"
      ]
     },
     "execution_count": 51,
     "metadata": {},
     "output_type": "execute_result"
    }
   ],
   "source": [
    "squared = added**2\n",
    "squared"
   ]
  },
  {
   "cell_type": "markdown",
   "id": "54c2a656-fbd0-4faa-bb37-1d8d41389d3d",
   "metadata": {},
   "source": [
    "- setta `exponential` uguale a `np.exp` applicato a `squared`\n",
    "- setta `logged` uguale a `np.log` applicato a `arr2`"
   ]
  },
  {
   "cell_type": "code",
   "execution_count": 52,
   "id": "e032ebc2-cb71-469b-bb36-70e50b05e4a0",
   "metadata": {},
   "outputs": [
    {
     "data": {
      "text/plain": [
       "array([[7.28350596e+01, 5.85587272e+04, 1.18711726e+00],\n",
       "       [1.00000000e+00, 5.33434578e+10, 3.88527393e+12]])"
      ]
     },
     "execution_count": 52,
     "metadata": {},
     "output_type": "execute_result"
    }
   ],
   "source": [
    "exponential = np.exp(squared)\n",
    "exponential"
   ]
  },
  {
   "cell_type": "code",
   "execution_count": 53,
   "id": "23bab661-6244-4c13-a210-d4fd735fe111",
   "metadata": {},
   "outputs": [
    {
     "data": {
      "text/plain": [
       "array([[ 0.18232156,  1.13140211],\n",
       "       [ 0.18232156, -1.2039728 ],\n",
       "       [ 0.40546511,  0.78845736]])"
      ]
     },
     "execution_count": 53,
     "metadata": {},
     "output_type": "execute_result"
    }
   ],
   "source": [
    "logged = np.log(arr2)\n",
    "logged"
   ]
  },
  {
   "cell_type": "markdown",
   "id": "9d81cce3-2567-494a-b82b-ec1f1c642baa",
   "metadata": {},
   "source": [
    "- setta `matmul1` uguale a `np.matmul` con primo argomento `logged` e secondo argomento `exponential`"
   ]
  },
  {
   "cell_type": "code",
   "execution_count": 54,
   "id": "cc4eddee-21ed-417e-a96d-92f915288374",
   "metadata": {},
   "outputs": [
    {
     "data": {
      "text/plain": [
       "array([[ 1.44108036e+01,  6.03529115e+10,  4.39580713e+12],\n",
       "       [ 1.20754286e+01, -6.42240618e+10, -4.67776415e+12],\n",
       "       [ 3.03205327e+01,  4.20590657e+10,  3.06337283e+12]])"
      ]
     },
     "execution_count": 54,
     "metadata": {},
     "output_type": "execute_result"
    }
   ],
   "source": [
    "matmul1 = np.matmul(logged, exponential)\n",
    "matmul1"
   ]
  },
  {
   "cell_type": "markdown",
   "id": "3c0e9f61-ef60-457b-82b6-a472f620cb96",
   "metadata": {},
   "source": [
    "- setta `matmul2` uguale a `np.matmul` con primo argomento `exponential` e secondo argomento `logged`"
   ]
  },
  {
   "cell_type": "code",
   "execution_count": 55,
   "id": "3536aa4b-636a-4e96-93df-f2f82be7c8cd",
   "metadata": {},
   "outputs": [
    {
     "data": {
      "text/plain": [
       "array([[ 1.06902790e+04, -7.04197733e+04],\n",
       "       [ 1.58506868e+12,  2.99914875e+12]])"
      ]
     },
     "execution_count": 55,
     "metadata": {},
     "output_type": "execute_result"
    }
   ],
   "source": [
    "matmul2 = np.matmul(exponential, logged)\n",
    "matmul2"
   ]
  },
  {
   "cell_type": "markdown",
   "id": "fbbf2dcd-d4ec-4eeb-8de4-9fcf7a976cdc",
   "metadata": {},
   "source": [
    "## Random"
   ]
  },
  {
   "cell_type": "markdown",
   "id": "aa8b489f-a1fb-43c6-a1b0-7d23299091c5",
   "metadata": {},
   "source": [
    "### Random integers\n",
    "Simile al modulo di Python `random`, NumPy ha il suo modulo `np.random`.<br>\n",
    "Fornisce tutte le operazioni randomizzate necessarie e le estende a matrici multidimensionali.\n",
    "<br>Per generare numeri interi si usa la funzione `np.random.randint`."
   ]
  },
  {
   "cell_type": "code",
   "execution_count": 56,
   "id": "62ae7728-bc57-471a-98e0-a021330ad45d",
   "metadata": {},
   "outputs": [
    {
     "name": "stdout",
     "output_type": "stream",
     "text": [
      "2\n",
      "2\n",
      "5\n",
      "array([[12,  1],\n",
      "       [12,  4]])\n"
     ]
    }
   ],
   "source": [
    "print(np.random.randint(5))\n",
    "print(np.random.randint(5))\n",
    "print(np.random.randint(5, high=6))\n",
    "\n",
    "random_arr = np.random.randint(-3, high=14,\n",
    "                               size=(2, 2))\n",
    "print(repr(random_arr))"
   ]
  },
  {
   "cell_type": "markdown",
   "id": "aa6bfea7-c62b-4d89-8704-f925623e72cc",
   "metadata": {},
   "source": [
    "La funzione `np.random.randint` accetta un singolo argomento richiesto, che dipende dall'argomento della keyword `high`. \n",
    "- Se `high=None` l'argomento richiesto rappresenta l'estremità superiore dell'intervallo, esclusa, con estremità inferiore uguale a 0. <br>L'intero casuale è scelto all'intervallo [0,n)\n",
    "- Se non `high=None` l'argomento richiesto rappresenterà l'estremità inferiore (inclusiva) dell'intervallo, mentre `high` rappresenta l'estremità superiore (esclusiva).\n",
    "\n",
    "`size` definisce quanti devono essere i numeri estratti casualmente"
   ]
  },
  {
   "cell_type": "markdown",
   "id": "32c49feb-127e-42d4-a1d0-6f6b3e41251e",
   "metadata": {},
   "source": [
    "### Utility functions\n",
    "Alcune funzioni di utilità fondamentali del modulo `np.random` sono:\n",
    "- `np.random.seed` \n",
    "- e `np.random.shuffle`. \n",
    "\n",
    "Si la funzione `np.random.seed` per impostare il seme casuale, che ci permette di controllare gli output delle funzioni pseudo-casuali. La funzione accetta un singolo intero come argomento.\n",
    "\n",
    "Il codice seguente usa `np.random.seed` con lo stesso seme casuale. Gli output delle funzioni casuali in ogni esecuzione successiva sono identici quando si imposta lo stesso seme casuale."
   ]
  },
  {
   "cell_type": "code",
   "execution_count": 57,
   "id": "1604f984-e797-4483-8e09-01a3af8e8442",
   "metadata": {},
   "outputs": [
    {
     "name": "stdout",
     "output_type": "stream",
     "text": [
      "5\n",
      "array([[15, 75],\n",
      "       [12, 78]])\n"
     ]
    }
   ],
   "source": [
    "np.random.seed(1)\n",
    "print(np.random.randint(10))\n",
    "random_arr = np.random.randint(3, high=100,\n",
    "                               size=(2, 2))\n",
    "print(repr(random_arr))"
   ]
  },
  {
   "cell_type": "code",
   "execution_count": 58,
   "id": "8962f996-b4b3-4be6-bbc8-9bc73d4f31d1",
   "metadata": {},
   "outputs": [
    {
     "name": "stdout",
     "output_type": "stream",
     "text": [
      "8\n",
      "array([[18, 75],\n",
      "       [25, 46]])\n"
     ]
    }
   ],
   "source": [
    "# New seed\n",
    "np.random.seed(2)\n",
    "print(np.random.randint(10))\n",
    "random_arr = np.random.randint(3, high=100,\n",
    "                               size=(2, 2))\n",
    "print(repr(random_arr))"
   ]
  },
  {
   "cell_type": "code",
   "execution_count": 59,
   "id": "10e8a3de-2ff7-4235-ae4c-2f7ee9de1703",
   "metadata": {},
   "outputs": [
    {
     "name": "stdout",
     "output_type": "stream",
     "text": [
      "5\n",
      "array([[15, 75],\n",
      "       [12, 78]])\n"
     ]
    }
   ],
   "source": [
    "# Original seed\n",
    "np.random.seed(1)\n",
    "print(np.random.randint(10))\n",
    "random_arr = np.random.randint(3, high=100,\n",
    "                               size=(2, 2))\n",
    "print(repr(random_arr))"
   ]
  },
  {
   "cell_type": "markdown",
   "id": "a3062bc9-bf65-4eb2-b1b4-d8a26cec8dc8",
   "metadata": {},
   "source": [
    "La funzione `np.random.shuffle` consente di mescolare casualmente un array. Si noti che il rimescolamento avviene sul posto e il rimescolamento di array multidimensionali mescola solo la prima dimensione.\n",
    "\n",
    "Il codice seguente mostra gli utilizzi di esempio di `np.random.shuffle`. Si noti che solo le righe della matrice vengono mescolate."
   ]
  },
  {
   "cell_type": "code",
   "execution_count": 60,
   "id": "75a3432b-3565-4741-8117-d51b0c851aba",
   "metadata": {},
   "outputs": [
    {
     "name": "stdout",
     "output_type": "stream",
     "text": [
      "array([3, 4, 2, 5, 1])\n"
     ]
    }
   ],
   "source": [
    "vec = np.array([1, 2, 3, 4, 5])\n",
    "np.random.shuffle(vec)\n",
    "print(repr(vec))"
   ]
  },
  {
   "cell_type": "code",
   "execution_count": 61,
   "id": "62e232cd-aa03-48a7-991d-dcf8a9764801",
   "metadata": {},
   "outputs": [
    {
     "name": "stdout",
     "output_type": "stream",
     "text": [
      "array([5, 3, 4, 2, 1])\n"
     ]
    }
   ],
   "source": [
    "np.random.shuffle(vec)\n",
    "print(repr(vec))"
   ]
  },
  {
   "cell_type": "code",
   "execution_count": 62,
   "id": "73d2d730-1e8a-45fc-9f05-911da3ce8b7e",
   "metadata": {},
   "outputs": [
    {
     "name": "stdout",
     "output_type": "stream",
     "text": [
      "array([[4, 5, 6],\n",
      "       [7, 8, 9],\n",
      "       [1, 2, 3]])\n"
     ]
    }
   ],
   "source": [
    "matrix = np.array([[1, 2, 3],\n",
    "                   [4, 5, 6],\n",
    "                   [7, 8, 9]])\n",
    "np.random.shuffle(matrix)\n",
    "print(repr(matrix))"
   ]
  },
  {
   "cell_type": "markdown",
   "id": "17359316-3242-46b4-96ba-79b6ec8570cd",
   "metadata": {},
   "source": [
    "### Distributions\n",
    "Usando `np.random` si può anche estrarre campioni da distribuzioni di probabilità. <br>Per esempio `np.random.uniform` si può usare per estarre numeri reali pseudo-casuali da una distribuzione uniforme."
   ]
  },
  {
   "cell_type": "code",
   "execution_count": 63,
   "id": "d30bedeb-c79b-4d28-b494-c9e8bda2bd9c",
   "metadata": {},
   "outputs": [
    {
     "name": "stdout",
     "output_type": "stream",
     "text": [
      "0.3132735169322751\n"
     ]
    }
   ],
   "source": [
    "print(np.random.uniform())"
   ]
  },
  {
   "cell_type": "code",
   "execution_count": 64,
   "id": "3a2db658-4213-466c-8610-7311bae9cb19",
   "metadata": {},
   "outputs": [
    {
     "name": "stdout",
     "output_type": "stream",
     "text": [
      "0.4408281904196243\n"
     ]
    }
   ],
   "source": [
    "print(np.random.uniform(low=-1.5, high=2.2))"
   ]
  },
  {
   "cell_type": "code",
   "execution_count": 65,
   "id": "6cd43ca0-14ec-4eff-b26c-54cbc735cb90",
   "metadata": {},
   "outputs": [
    {
     "name": "stdout",
     "output_type": "stream",
     "text": [
      "array([0.44345289, 0.22957721, 0.53441391])\n"
     ]
    }
   ],
   "source": [
    "print(repr(np.random.uniform(size=3)))"
   ]
  },
  {
   "cell_type": "code",
   "execution_count": 66,
   "id": "4f14b0c5-3a4c-4efb-bf35-419c3f58cae0",
   "metadata": {},
   "outputs": [
    {
     "name": "stdout",
     "output_type": "stream",
     "text": [
      "array([[5.09984683, 0.85200471],\n",
      "       [0.60549667, 5.33388844]])\n"
     ]
    }
   ],
   "source": [
    "print(repr(np.random.uniform(low=-3.4, \n",
    "                             high=5.9,\n",
    "                             size=(2, 2))))"
   ]
  },
  {
   "cell_type": "markdown",
   "id": "429de727-37ca-441e-936b-43e47b01f336",
   "metadata": {},
   "source": [
    "La funzione `np.random.uniform` non ha argomenti richiesti.\n",
    "<br>Le keyword `low` e `high` rappresentano il range da cui estrarre campioni casuali.<br>Poichè come valore di default hanno 0.0 e 1.0, il range di default sarà [0, 1).\n",
    "<br> L'argomento di `size` è lo stesso per quello di `np.random.randint`.\n",
    "<br><br>Un'altra distribuzione disponibile è quella `gaussiana` usando la funzione `np.random.normal`."
   ]
  },
  {
   "cell_type": "code",
   "execution_count": 67,
   "id": "077a2503-065b-4820-a591-82d48cb47832",
   "metadata": {},
   "outputs": [
    {
     "name": "stdout",
     "output_type": "stream",
     "text": [
      "0.7252740646272712\n"
     ]
    }
   ],
   "source": [
    "print(np.random.normal())"
   ]
  },
  {
   "cell_type": "code",
   "execution_count": 68,
   "id": "d623f3e2-8a37-41f9-9e85-22e6e0fab825",
   "metadata": {},
   "outputs": [
    {
     "name": "stdout",
     "output_type": "stream",
     "text": [
      "4.772112039383628\n"
     ]
    }
   ],
   "source": [
    "print(np.random.normal(loc=1.5, scale=3.5))"
   ]
  },
  {
   "cell_type": "code",
   "execution_count": 69,
   "id": "9932bd03-d0da-48af-9e6f-9949f98a04b8",
   "metadata": {},
   "outputs": [
    {
     "name": "stdout",
     "output_type": "stream",
     "text": [
      "array([[ 2.07318791, -2.17754724],\n",
      "       [-0.89337346, -0.89545991]])\n"
     ]
    }
   ],
   "source": [
    "print(repr(np.random.normal(loc=-2.4, \n",
    "                            scale=4.0,\n",
    "                            size=(2, 2))))"
   ]
  },
  {
   "cell_type": "markdown",
   "id": "3ac17107-0046-425a-b473-75714fd62935",
   "metadata": {},
   "source": [
    "Come `np.random.uniform`, `np.random.normal` non richiede argomenti.\n",
    "<br>Gli argomenti delle keyword `loc` e `scale` rappresentano rispettivamente la `deviazione standard` e la `media` della distribuzione."
   ]
  },
  {
   "cell_type": "markdown",
   "id": "c7710efb-a1f2-4fb5-a7fa-4b9892f4fbe3",
   "metadata": {},
   "source": [
    "### Custom sampling\n",
    "NumPy permette anche di campionare da una distribuzione personalizzata con la funzione `np.random.choice`."
   ]
  },
  {
   "cell_type": "code",
   "execution_count": 70,
   "id": "29f7b43b-5feb-4410-a37f-55dce1b6a6bf",
   "metadata": {},
   "outputs": [],
   "source": [
    "colors = ['red', 'blue', 'green']"
   ]
  },
  {
   "cell_type": "code",
   "execution_count": 71,
   "id": "f1d14091-87e9-466a-94f2-952de56c2851",
   "metadata": {},
   "outputs": [
    {
     "name": "stdout",
     "output_type": "stream",
     "text": [
      "green\n"
     ]
    }
   ],
   "source": [
    "print(np.random.choice(colors))"
   ]
  },
  {
   "cell_type": "code",
   "execution_count": 72,
   "id": "1a216327-f409-4849-bc16-8a157213a746",
   "metadata": {},
   "outputs": [
    {
     "name": "stdout",
     "output_type": "stream",
     "text": [
      "array(['blue', 'red'], dtype='<U5')\n"
     ]
    }
   ],
   "source": [
    "print(repr(np.random.choice(colors, size=2)))"
   ]
  },
  {
   "cell_type": "code",
   "execution_count": 73,
   "id": "09528bd4-834b-4b30-bc02-549e86bb1836",
   "metadata": {},
   "outputs": [
    {
     "name": "stdout",
     "output_type": "stream",
     "text": [
      "array([['red', 'red'],\n",
      "       ['blue', 'red']], dtype='<U5')\n"
     ]
    }
   ],
   "source": [
    "print(repr(np.random.choice(colors, size=(2, 2),\n",
    "                            p=[0.8, 0.19, 0.01])))"
   ]
  },
  {
   "cell_type": "markdown",
   "id": "75de20f8-f4d3-446c-a072-82fb9f0ffd7d",
   "metadata": {},
   "source": [
    "L'argomento richiesto per `np.random.choice` è la probalità personalizzata da cui verranno estratti i valori. Il totale degli elementi in `p` deve essere `1`."
   ]
  },
  {
   "cell_type": "markdown",
   "id": "8fb9e7bc-8286-433f-91b9-8f9605052eec",
   "metadata": {},
   "source": [
    "### Time to Code!\n",
    "- setta `random1` uguale a `np.random.randint` con 5 come argomento\n",
    "- setta `random_arr` uguale a `np.random.randint` con `3` come primo argomento, `10` come valore di `high` e `(3, 5)` come argomento di `size`."
   ]
  },
  {
   "cell_type": "code",
   "execution_count": 74,
   "id": "5b7db3bf-fb77-4d3d-91e5-19884bc43a4e",
   "metadata": {},
   "outputs": [
    {
     "data": {
      "text/plain": [
       "4"
      ]
     },
     "execution_count": 74,
     "metadata": {},
     "output_type": "execute_result"
    }
   ],
   "source": [
    "random1 = np.random.randint(5)\n",
    "random1"
   ]
  },
  {
   "cell_type": "code",
   "execution_count": 75,
   "id": "948fdf61-323c-4708-8c41-04d1491daa50",
   "metadata": {},
   "outputs": [
    {
     "data": {
      "text/plain": [
       "array([[3, 4, 6, 7, 5],\n",
       "       [7, 3, 8, 6, 4],\n",
       "       [5, 3, 7, 4, 5]])"
      ]
     },
     "execution_count": 75,
     "metadata": {},
     "output_type": "execute_result"
    }
   ],
   "source": [
    "random_arr = np.random.randint(3, \n",
    "                               high=10, \n",
    "                               size=(3, 5))\n",
    "random_arr"
   ]
  },
  {
   "cell_type": "markdown",
   "id": "bb82127d-ed1a-4e90-929d-9d7ebf347da7",
   "metadata": {},
   "source": [
    "- setta `random_uniform` uguale a `np.random_uniform` con `low` e `high` uguali a `-2.5` e a `1.5`. `size` uguale a `5`."
   ]
  },
  {
   "cell_type": "code",
   "execution_count": 76,
   "id": "da1877eb-00fe-4e54-8ea5-d66c9112d89e",
   "metadata": {},
   "outputs": [
    {
     "data": {
      "text/plain": [
       "array([ 0.65711731, -2.08709597, -0.7084259 ,  1.13438201, -1.32554341])"
      ]
     },
     "execution_count": 76,
     "metadata": {},
     "output_type": "execute_result"
    }
   ],
   "source": [
    "random_uniform = np.random.uniform(low=-2.5, \n",
    "                                   high=1.5, \n",
    "                                   size=5)\n",
    "random_uniform\n"
   ]
  },
  {
   "cell_type": "markdown",
   "id": "07ebc474-f814-435a-90ff-fcfd99d2fbba",
   "metadata": {},
   "source": [
    "- setta `random_norm` uguale a `np.random_normal` con `loc` e `scale` uguali a `2.0` e a `3.5`. `size` uguale a `(10, 5)`."
   ]
  },
  {
   "cell_type": "code",
   "execution_count": 77,
   "id": "8e0a1abe-526f-4238-b9b8-4ae8efacf686",
   "metadata": {},
   "outputs": [
    {
     "data": {
      "text/plain": [
       "array([[-0.42081263,  0.61136266, -0.40510445, -0.95821975, -0.34936146],\n",
       "       [ 1.9556739 , -1.91058622,  2.82045494,  7.80930762,  4.59715456],\n",
       "       [ 1.32857557, -1.10670137, -0.61505403,  7.9235911 ,  2.17782714],\n",
       "       [-0.22948476,  2.6682042 ,  9.35089298,  2.42055633,  4.16021088],\n",
       "       [ 3.05059612,  0.76712554, -1.99881369,  0.77730047,  1.26887018],\n",
       "       [ 4.05318117,  4.93644195,  5.25885728,  2.99955564,  5.09799407],\n",
       "       [-0.64039279,  6.38503854,  3.79525437,  0.95667508,  3.70981351],\n",
       "       [ 1.735499  ,  5.96070286,  7.31935886,  9.64951392, -2.88773717],\n",
       "       [-3.05439832,  0.23436948,  2.56012974,  5.06659122,  3.10472232],\n",
       "       [-5.07770426,  0.92828596,  4.89791125,  2.80533157,  4.66703913]])"
      ]
     },
     "execution_count": 77,
     "metadata": {},
     "output_type": "execute_result"
    }
   ],
   "source": [
    "random_norm = np.random.normal(loc=2.0, \n",
    "                               scale=3.5, \n",
    "                               size=(10, 5))\n",
    "random_norm"
   ]
  },
  {
   "cell_type": "markdown",
   "id": "49192b3a-e75c-4789-afb2-cd1974db9302",
   "metadata": {},
   "source": [
    "- creare una lista con `'a'`, `'b'`, `'c'`, `'d'`.\n",
    "- probabilità = `[0.5, 0.1, 0.2, 0.2]`\n",
    "- setta `choice` uguale a `np.random_choice` con `choice` come promp argomento e specificano le probabilità sopra dichiarate con `p`."
   ]
  },
  {
   "cell_type": "code",
   "execution_count": 78,
   "id": "93197385-e0ee-420f-8309-8329a4d947b8",
   "metadata": {},
   "outputs": [
    {
     "data": {
      "text/plain": [
       "'a'"
      ]
     },
     "execution_count": 78,
     "metadata": {},
     "output_type": "execute_result"
    }
   ],
   "source": [
    "choices = ['a', 'b', 'c', 'd']\n",
    "choice = np.random.choice(choices, \n",
    "                          p=[0.5, 0.1, 0.2, 0.2])\n",
    "choice"
   ]
  },
  {
   "cell_type": "markdown",
   "id": "3679fb8d-5e64-4c56-92b3-f4c4044a3c92",
   "metadata": {},
   "source": [
    "- setta `arr` uguale a un array che va da `1` a `5`\n",
    "- applicare `np.random.shuffle` ad `arr`."
   ]
  },
  {
   "cell_type": "code",
   "execution_count": 79,
   "id": "0dfbb53d-5845-4253-8ded-bcff8f8b1ff5",
   "metadata": {},
   "outputs": [],
   "source": [
    "arr = np.array([1, 2, 3, 4, 5])\n",
    "np.random.shuffle(arr)"
   ]
  },
  {
   "cell_type": "markdown",
   "id": "3760a55e-f0de-40fd-9804-f8db6bd5b200",
   "metadata": {},
   "source": [
    "## Indexing\n",
    "### Array accessing\n",
    "Accedere agli array di NumPy è la stessa cosa delle liste di Python. <br>Per gli array multidimensionali la modalità la medesima dell'accesso agli elementi delle liste di liste"
   ]
  },
  {
   "cell_type": "code",
   "execution_count": 80,
   "id": "e3e4cd41-1e73-4f86-9d85-be1f6a965b97",
   "metadata": {},
   "outputs": [
    {
     "name": "stdout",
     "output_type": "stream",
     "text": [
      "1\n",
      "5\n"
     ]
    }
   ],
   "source": [
    "arr = np.array([1, 2, 3, 4, 5])\n",
    "print(arr[0])\n",
    "print(arr[4])"
   ]
  },
  {
   "cell_type": "code",
   "execution_count": 81,
   "id": "405bf95c-2462-4472-8618-75f4cc8ed30d",
   "metadata": {},
   "outputs": [
    {
     "name": "stdout",
     "output_type": "stream",
     "text": [
      "array([6, 3])\n"
     ]
    }
   ],
   "source": [
    "arr = np.array([[6, 3], [0, 2]])\n",
    "# Subarray\n",
    "print(repr(arr[0]))"
   ]
  },
  {
   "cell_type": "markdown",
   "id": "51a15196-f9e8-4435-912d-96cdc6a72ea7",
   "metadata": {},
   "source": [
    "### Slicing\n",
    "NumPy supporta anche lo slicing. Similmente a Python si usa l'operatore `:`, `arr[:]`, per lo slicing. <br>Si può anche usare l'indicizzazione negativa per slittare nella direzione inversa."
   ]
  },
  {
   "cell_type": "code",
   "execution_count": 82,
   "id": "af6a75b7-6c68-4bd4-8c36-ddf34bd63033",
   "metadata": {},
   "outputs": [
    {
     "data": {
      "text/plain": [
       "array([1, 2, 3, 4, 5])"
      ]
     },
     "execution_count": 82,
     "metadata": {},
     "output_type": "execute_result"
    }
   ],
   "source": [
    "arr = np.array([1, 2, 3, 4, 5])\n",
    "arr"
   ]
  },
  {
   "cell_type": "code",
   "execution_count": 83,
   "id": "b86075a5-84db-4c5c-8dd6-ae67b2b8648b",
   "metadata": {},
   "outputs": [
    {
     "name": "stdout",
     "output_type": "stream",
     "text": [
      "array([1, 2, 3, 4, 5])\n",
      "array([2, 3, 4, 5])\n",
      "array([3, 4])\n",
      "array([1, 2, 3, 4])\n",
      "array([4, 5])\n"
     ]
    }
   ],
   "source": [
    "print(repr(arr[:]))\n",
    "print(repr(arr[1:]))\n",
    "print(repr(arr[2:4]))\n",
    "print(repr(arr[:-1]))\n",
    "print(repr(arr[-2:]))"
   ]
  },
  {
   "cell_type": "markdown",
   "id": "507e37fb-c66c-465f-b119-091cc5994147",
   "metadata": {},
   "source": [
    "Per gli array multidimensionali, possiamo usare una `virgola` per separare le sezioni in ogni dimensione."
   ]
  },
  {
   "cell_type": "code",
   "execution_count": 84,
   "id": "8c5e8913-3bf0-4fbf-9262-137273be677c",
   "metadata": {},
   "outputs": [
    {
     "data": {
      "text/plain": [
       "array([[1, 2, 3],\n",
       "       [4, 5, 6],\n",
       "       [7, 8, 9]])"
      ]
     },
     "execution_count": 84,
     "metadata": {},
     "output_type": "execute_result"
    }
   ],
   "source": [
    "arr = np.array([[1, 2, 3],\n",
    "                [4, 5, 6],\n",
    "                [7, 8, 9]])\n",
    "arr"
   ]
  },
  {
   "cell_type": "code",
   "execution_count": 85,
   "id": "238d7a84-4307-4090-a604-a78c515ac006",
   "metadata": {},
   "outputs": [
    {
     "name": "stdout",
     "output_type": "stream",
     "text": [
      "array([[1, 2, 3],\n",
      "       [4, 5, 6],\n",
      "       [7, 8, 9]])\n",
      "array([[4, 5, 6],\n",
      "       [7, 8, 9]])\n",
      "array([3, 6, 9])\n",
      "array([[2, 3],\n",
      "       [5, 6],\n",
      "       [8, 9]])\n",
      "array([[2, 3]])\n",
      "array([2, 3])\n"
     ]
    }
   ],
   "source": [
    "print(repr(arr[:]))\n",
    "print(repr(arr[1:]))\n",
    "print(repr(arr[:, -1]))\n",
    "print(repr(arr[:, 1:]))\n",
    "print(repr(arr[0:1, 1:]))\n",
    "print(repr(arr[0, 1:]))"
   ]
  },
  {
   "cell_type": "markdown",
   "id": "89319b63-8733-4b2e-865f-0972d2b95f0d",
   "metadata": {},
   "source": [
    "### Argmin and argmax\n",
    "Oltre ad accedere ed effetuare lo slicing, è utile capire gli indici effettivi dell'elemento minimo e massimo.\n",
    "Per fare questo si possono usare le funzioni `np.argmin` e `np.argmax`"
   ]
  },
  {
   "cell_type": "code",
   "execution_count": 86,
   "id": "fea3fda9-dfe7-4b7a-a632-06e50d525291",
   "metadata": {},
   "outputs": [
    {
     "data": {
      "text/plain": [
       "array([[-2, -1, -3],\n",
       "       [ 4,  5, -6],\n",
       "       [-3,  9,  1]])"
      ]
     },
     "execution_count": 86,
     "metadata": {},
     "output_type": "execute_result"
    }
   ],
   "source": [
    "arr = np.array([[-2, -1, -3],\n",
    "                [4, 5, -6],\n",
    "                [-3, 9, 1]])\n",
    "arr"
   ]
  },
  {
   "cell_type": "code",
   "execution_count": 87,
   "id": "550a6b07-3468-46f1-9703-d1a0fdf60585",
   "metadata": {},
   "outputs": [
    {
     "name": "stdout",
     "output_type": "stream",
     "text": [
      "2\n",
      "1\n",
      "5\n"
     ]
    }
   ],
   "source": [
    "print(np.argmin(arr[0]))\n",
    "print(np.argmax(arr[2]))\n",
    "print(np.argmin(arr))"
   ]
  },
  {
   "cell_type": "markdown",
   "id": "494ed3c9-8bc6-414f-a3f9-2935356bf195",
   "metadata": {},
   "source": [
    "Le funzioni `np.argmin` e `np.argmax` hanno gli stessi argomenti. <br>\n",
    "L'argomento richiesto è la matrice di input e l'argomento della keyword `axis` che specifica la dimensione su cui applicare l'operazione."
   ]
  },
  {
   "cell_type": "code",
   "execution_count": 88,
   "id": "80aee321-4ed7-4386-abc1-d6a88c00f404",
   "metadata": {},
   "outputs": [
    {
     "data": {
      "text/plain": [
       "array([[-2, -1, -3],\n",
       "       [ 4,  5, -6],\n",
       "       [-3,  9,  1]])"
      ]
     },
     "execution_count": 88,
     "metadata": {},
     "output_type": "execute_result"
    }
   ],
   "source": [
    "arr = np.array([[-2, -1, -3],\n",
    "                [4, 5, -6],\n",
    "                [-3, 9, 1]])\n",
    "arr"
   ]
  },
  {
   "cell_type": "code",
   "execution_count": 89,
   "id": "584a4ac1-5673-4a35-b5f8-5efd94c6eeec",
   "metadata": {},
   "outputs": [
    {
     "name": "stdout",
     "output_type": "stream",
     "text": [
      "array([2, 0, 1], dtype=int64)\n"
     ]
    }
   ],
   "source": [
    "# l'indice dell'elemento di riga minimo per ogni colonna\n",
    "print(repr(np.argmin(arr, axis=0)))"
   ]
  },
  {
   "cell_type": "code",
   "execution_count": 90,
   "id": "123baab5-518f-40c2-8b67-3cdcb7aaf5a3",
   "metadata": {},
   "outputs": [
    {
     "name": "stdout",
     "output_type": "stream",
     "text": [
      "array([2, 2, 0], dtype=int64)\n"
     ]
    }
   ],
   "source": [
    "# l'indice dell'elemento di colonna minimo per ogni riga\n",
    "print(repr(np.argmin(arr, axis=1)))"
   ]
  },
  {
   "cell_type": "code",
   "execution_count": 91,
   "id": "1c527fc1-402e-4e6a-8d84-f997f7a46886",
   "metadata": {},
   "outputs": [
    {
     "name": "stdout",
     "output_type": "stream",
     "text": [
      "array([1, 1, 1], dtype=int64)\n"
     ]
    }
   ],
   "source": [
    "# applcata all'ultima dimensione\n",
    "print(repr(np.argmax(arr, axis=-1)))"
   ]
  },
  {
   "cell_type": "markdown",
   "id": "4f7ab533-a2dc-4bd0-a1a4-1c6803af2dec",
   "metadata": {},
   "source": [
    "### Time to Code!\n",
    "-  setta `elem` uguale al secondo al terzo elemento per riga"
   ]
  },
  {
   "cell_type": "code",
   "execution_count": 92,
   "id": "b2b31955-8d59-4253-ab58-d4f93921d02f",
   "metadata": {},
   "outputs": [],
   "source": [
    "def direct_index(data):\n",
    "    elem = data[1][2]\n",
    "    return elem"
   ]
  },
  {
   "cell_type": "markdown",
   "id": "e03f32ce-69fc-4f9c-8004-ed63057d8794",
   "metadata": {},
   "source": [
    "- setta `slice1` che deve contenere tutte le righe ma saltare ogni primo elemento di ogni riga\n",
    "- setta `slice2` che deve contenere tutti gli elementi delle tre righe ad eccezione degli ultimi due elementi."
   ]
  },
  {
   "cell_type": "code",
   "execution_count": 93,
   "id": "9e580212-2801-4d9a-ab72-a25d4250af26",
   "metadata": {},
   "outputs": [],
   "source": [
    "def slice_data(data):\n",
    "    slice1 = data[:, 1:]\n",
    "    slice2 = data[0:3, :-2]\n",
    "    return slice1, slice2"
   ]
  },
  {
   "cell_type": "markdown",
   "id": "bd406c1b-8e90-4f8c-9813-42f8918e032f",
   "metadata": {},
   "source": [
    "- trovare gli indici dei valori minimi\n",
    "- setta `argmin_all` uguale a `argmin_min` con `data` come argomento\n",
    "- setta `argmin1` uguale a `np.argmin` con `data` come primo argomento e specificando il valore della keyword `axis`"
   ]
  },
  {
   "cell_type": "code",
   "execution_count": 94,
   "id": "1859b0de-cfe7-418a-874f-f092f3768c5f",
   "metadata": {},
   "outputs": [],
   "source": [
    "def argmin_data(data):\n",
    "    argmin_all = np.argmin(data)\n",
    "    argmin1 = np.argmin(data, \n",
    "                        axis=1)\n",
    "    return argmin_all, argmin1"
   ]
  },
  {
   "cell_type": "markdown",
   "id": "ea0b24d3-81a2-44a5-9e6e-513409876b7b",
   "metadata": {},
   "source": [
    "- trovare gli indici dei valori massimo per ogni riga\n",
    "- settare `argmax_neg1` uguale `argmax_neg` con `data` come primo argomento e `-1` come elemento della keyword `axis`"
   ]
  },
  {
   "cell_type": "code",
   "execution_count": 95,
   "id": "b24a85e2-600c-42d5-b136-cc46f2438451",
   "metadata": {},
   "outputs": [],
   "source": [
    "def argmax_data(data):\n",
    "    argmax_neg1 = np.argmax(data, \n",
    "                            axis=-1)\n",
    "    return argmax_neg1"
   ]
  },
  {
   "cell_type": "markdown",
   "id": "223a8671-5d25-47e3-8118-c3584d30a9f4",
   "metadata": {},
   "source": [
    "## Filtering\n",
    "### Filtering data\n",
    "La chiave per filtrare i dati è attraverso operazioni di relazione di base, ad esempio `==`, `>`, `ecc.` \n",
    "<br>In NumPy, possiamo applicare operazioni di relazione di base in termini di elementi su matrici.\n",
    "<br>L'operatore `~`rappresenta la negazione booleana."
   ]
  },
  {
   "cell_type": "code",
   "execution_count": 96,
   "id": "c821dc8e-c530-44c7-9c4f-38636c530b2d",
   "metadata": {},
   "outputs": [
    {
     "data": {
      "text/plain": [
       "array([[ 0,  2,  3],\n",
       "       [ 1,  3, -6],\n",
       "       [-3, -2,  1]])"
      ]
     },
     "execution_count": 96,
     "metadata": {},
     "output_type": "execute_result"
    }
   ],
   "source": [
    "arr = np.array([[0, 2, 3],\n",
    "                [1, 3, -6],\n",
    "                [-3, -2, 1]])\n",
    "arr"
   ]
  },
  {
   "cell_type": "code",
   "execution_count": 97,
   "id": "baf91b23-a8fb-4b02-8755-c2c5aa2d3815",
   "metadata": {},
   "outputs": [
    {
     "name": "stdout",
     "output_type": "stream",
     "text": [
      "array([[False, False,  True],\n",
      "       [False,  True, False],\n",
      "       [False, False, False]])\n",
      "array([[False,  True,  True],\n",
      "       [ True,  True, False],\n",
      "       [False, False,  True]])\n",
      "array([[ True,  True,  True],\n",
      "       [False,  True,  True],\n",
      "       [ True,  True, False]])\n",
      "array([[False, False, False],\n",
      "       [ True, False, False],\n",
      "       [False, False,  True]])\n"
     ]
    }
   ],
   "source": [
    "print(repr(arr == 3))\n",
    "print(repr(arr > 0))\n",
    "print(repr(arr != 1))\n",
    "# Negated from the previous step\n",
    "print(repr(~(arr != 1)))"
   ]
  },
  {
   "cell_type": "markdown",
   "id": "bb0d595e-9d4d-4f28-8efb-810e2873f8b4",
   "metadata": {},
   "source": [
    "`np.nan` non può essere utilizzato con alcuna operazione di relazione. Quindi si usa `np.isnan`."
   ]
  },
  {
   "cell_type": "code",
   "execution_count": 98,
   "id": "daae4e72-6c25-4e85-b4ec-9e410e304ead",
   "metadata": {},
   "outputs": [
    {
     "data": {
      "text/plain": [
       "array([[ 0.,  2., nan],\n",
       "       [ 1., nan, -6.],\n",
       "       [nan, -2.,  1.]])"
      ]
     },
     "execution_count": 98,
     "metadata": {},
     "output_type": "execute_result"
    }
   ],
   "source": [
    "arr = np.array([[0, 2, np.nan],\n",
    "                [1, np.nan, -6],\n",
    "                [np.nan, -2, 1]])\n",
    "arr"
   ]
  },
  {
   "cell_type": "code",
   "execution_count": 99,
   "id": "16fac24c-ff11-4789-8081-b68b049910d1",
   "metadata": {},
   "outputs": [
    {
     "name": "stdout",
     "output_type": "stream",
     "text": [
      "array([[False, False,  True],\n",
      "       [False,  True, False],\n",
      "       [ True, False, False]])\n"
     ]
    }
   ],
   "source": [
    "print(repr(np.isnan(arr)))"
   ]
  },
  {
   "cell_type": "markdown",
   "id": "5b6212de-f140-45d0-95ab-ec99b1163488",
   "metadata": {},
   "source": [
    "Il modo in cui si esegue il filtraggio stesso è attraverso la funzione `np.where`."
   ]
  },
  {
   "cell_type": "markdown",
   "id": "77582e87-2ae6-4d1e-b61c-cca189670601",
   "metadata": {},
   "source": [
    "### Filtering in NumPy\n",
    "`np.where` accetta un primo argomento, che è una matrice booleana che rappresenta le posizioni degli elementi per cui vogliamo filtrare.\n",
    "<br><br>La tupla avrà una dimensione uguale al numero di dimensioni nei dati e ogni matrice rappresenta gli indici `True` per la dimensione corrispondente. "
   ]
  },
  {
   "cell_type": "code",
   "execution_count": 100,
   "id": "7a89cec3-4aa0-42c0-bd3d-d3cb9d3912e6",
   "metadata": {},
   "outputs": [
    {
     "name": "stdout",
     "output_type": "stream",
     "text": [
      "(array([0, 2], dtype=int64),)\n"
     ]
    }
   ],
   "source": [
    "print(repr(np.where([True, False, True])))"
   ]
  },
  {
   "cell_type": "code",
   "execution_count": 101,
   "id": "aec8d65e-bb8e-4f48-9f4a-680029beb160",
   "metadata": {},
   "outputs": [
    {
     "name": "stdout",
     "output_type": "stream",
     "text": [
      "(array([1, 3], dtype=int64),)\n"
     ]
    }
   ],
   "source": [
    "arr = np.array([0, 3, 5, 3, 1])\n",
    "print(repr(np.where(arr == 3)))"
   ]
  },
  {
   "cell_type": "code",
   "execution_count": 102,
   "id": "040cb15b-5b10-4198-aba7-ee5216db07c8",
   "metadata": {},
   "outputs": [
    {
     "name": "stdout",
     "output_type": "stream",
     "text": [
      "array([0, 0, 1, 2], dtype=int64)\n",
      "array([1, 2, 0, 0], dtype=int64)\n",
      "array([ 2,  3,  1, -3])\n"
     ]
    }
   ],
   "source": [
    "arr = np.array([[0, 2, 3],\n",
    "                [1, 0, 0],\n",
    "                [-3, 0, 0]])\n",
    "x_ind, y_ind = np.where(arr != 0)\n",
    "print(repr(x_ind)) # x indices of non-zero elements\n",
    "print(repr(y_ind)) # y indices of non-zero elements\n",
    "print(repr(arr[x_ind, y_ind]))"
   ]
  },
  {
   "cell_type": "markdown",
   "id": "7d60e3e2-468d-49e5-8a36-2511d7451f4e",
   "metadata": {},
   "source": [
    "`np.where` può essere usata anche con 3 argomenti. Il secondo e il terzo argomento rappresentano i rimpiazzamenti se la condizione è `True` o `False`."
   ]
  },
  {
   "cell_type": "code",
   "execution_count": 103,
   "id": "2e2f97df-65ff-45f6-89dc-7d6d218d0ee8",
   "metadata": {},
   "outputs": [],
   "source": [
    "np_filter = np.array([[True, False], [False, True]])\n",
    "positives = np.array([[1, 2], [3, 4]])\n",
    "negatives = np.array([[-2, -5], [-1, -8]])"
   ]
  },
  {
   "cell_type": "code",
   "execution_count": 104,
   "id": "badb5cf6-c420-4254-b0fc-e596ea4632cf",
   "metadata": {},
   "outputs": [
    {
     "name": "stdout",
     "output_type": "stream",
     "text": [
      "array([[ 1, -5],\n",
      "       [-1,  4]])\n"
     ]
    }
   ],
   "source": [
    "print(repr(np.where(np_filter, positives, negatives)))"
   ]
  },
  {
   "cell_type": "code",
   "execution_count": 105,
   "id": "f804cb38-2cfc-4d77-bfd2-aadadf9700dc",
   "metadata": {},
   "outputs": [
    {
     "name": "stdout",
     "output_type": "stream",
     "text": [
      "array([[-2, -5],\n",
      "       [ 3,  4]])\n"
     ]
    }
   ],
   "source": [
    "np_filter = positives > 2\n",
    "print(repr(np.where(np_filter, positives, negatives)))"
   ]
  },
  {
   "cell_type": "code",
   "execution_count": 106,
   "id": "01771fca-505c-4efd-bcab-a4d324d01ac4",
   "metadata": {},
   "outputs": [
    {
     "name": "stdout",
     "output_type": "stream",
     "text": [
      "array([[-2, -5],\n",
      "       [-1, -8]])\n"
     ]
    }
   ],
   "source": [
    "np_filter = negatives > 0\n",
    "print(repr(np.where(np_filter, positives, negatives)))"
   ]
  },
  {
   "cell_type": "markdown",
   "id": "8515bb5c-5d3e-4e33-8f7e-2520d786d60a",
   "metadata": {},
   "source": [
    "Se si volesse utilizzare un valore di sostituzione costante, `-1` si potrebbe incorporare un `broadcasting`."
   ]
  },
  {
   "cell_type": "code",
   "execution_count": 107,
   "id": "2b77fd9c-f639-4d1a-ad5d-453b53c6cff4",
   "metadata": {},
   "outputs": [],
   "source": [
    "np_filter = np.array([[True, False], [False, True]])\n",
    "positives = np.array([[1, 2], [3, 4]])"
   ]
  },
  {
   "cell_type": "code",
   "execution_count": 108,
   "id": "afa0575b-036b-4301-8414-5154a8f0f974",
   "metadata": {},
   "outputs": [
    {
     "name": "stdout",
     "output_type": "stream",
     "text": [
      "array([[ 1, -1],\n",
      "       [-1,  4]])\n"
     ]
    }
   ],
   "source": [
    "print(repr(np.where(np_filter, positives, -1)))"
   ]
  },
  {
   "cell_type": "markdown",
   "id": "ba173107-fe66-4e0b-90cf-a0baa007dc42",
   "metadata": {},
   "source": [
    "### Axis-wise filtering\n",
    "Se si volesse fitrare su una singola riga o colonna di dati, ci sono le funzioni `np.any` e `np.all`. Le funzioni restituiscono una matrice booleana."
   ]
  },
  {
   "cell_type": "code",
   "execution_count": 109,
   "id": "e68fc480-ed07-4ebf-a272-e514794f84db",
   "metadata": {},
   "outputs": [
    {
     "data": {
      "text/plain": [
       "array([[-2, -1, -3],\n",
       "       [ 4,  5, -6],\n",
       "       [ 3,  9,  1]])"
      ]
     },
     "execution_count": 109,
     "metadata": {},
     "output_type": "execute_result"
    }
   ],
   "source": [
    "arr = np.array([[-2, -1, -3],\n",
    "                [4, 5, -6],\n",
    "                [3, 9, 1]])\n",
    "arr"
   ]
  },
  {
   "cell_type": "code",
   "execution_count": 110,
   "id": "9c535f61-9607-41f7-a581-9b9bd61ac597",
   "metadata": {},
   "outputs": [
    {
     "name": "stdout",
     "output_type": "stream",
     "text": [
      "array([[False, False, False],\n",
      "       [ True,  True, False],\n",
      "       [ True,  True,  True]])\n",
      "True\n",
      "False\n"
     ]
    }
   ],
   "source": [
    "print(repr(arr > 0))\n",
    "print(np.any(arr > 0))\n",
    "print(np.all(arr > 0))"
   ]
  },
  {
   "cell_type": "markdown",
   "id": "82056d25-e61c-4d56-a31f-81641a188b70",
   "metadata": {},
   "source": [
    "la funzione `np.any` equivale all'esecuzione di un OR logico (`||`), mentre la funzione `np.all` equivale a un AND logico (`&&`) sul primo argomento.\n",
    "<br><br>Quando viene passato un solo argomento, la funzione viene applicata all'intera matrice di input, quindi il valore restituito è un singolo.<br><br>Se si utilizza un input multidimensionale e si specifica l'argomento della keyword `àxis` l'output sarà una matrice.\n",
    "<br>Gli argomenti di `axis` sono gli stessi descritti per le funzioni `np.argmin` e `np.argmax`"
   ]
  },
  {
   "cell_type": "code",
   "execution_count": 111,
   "id": "334f59fc-6f8b-4f0a-ac6b-b9eb97c4ac64",
   "metadata": {},
   "outputs": [
    {
     "data": {
      "text/plain": [
       "array([[-2, -1, -3],\n",
       "       [ 4,  5, -6],\n",
       "       [ 3,  9,  1]])"
      ]
     },
     "execution_count": 111,
     "metadata": {},
     "output_type": "execute_result"
    }
   ],
   "source": [
    "arr = np.array([[-2, -1, -3],\n",
    "                [4, 5, -6],\n",
    "                [3, 9, 1]])\n",
    "arr"
   ]
  },
  {
   "cell_type": "code",
   "execution_count": 112,
   "id": "3c80ebf4-ce3b-4727-8156-1e6e49d315f8",
   "metadata": {},
   "outputs": [
    {
     "name": "stdout",
     "output_type": "stream",
     "text": [
      "array([[False, False, False],\n",
      "       [ True,  True, False],\n",
      "       [ True,  True,  True]])\n",
      "array([ True,  True,  True])\n",
      "array([False,  True,  True])\n",
      "array([False, False,  True])\n"
     ]
    }
   ],
   "source": [
    "print(repr(arr > 0))\n",
    "print(repr(np.any(arr > 0, axis=0)))\n",
    "print(repr(np.any(arr > 0, axis=1)))\n",
    "print(repr(np.all(arr > 0, axis=1)))"
   ]
  },
  {
   "cell_type": "markdown",
   "id": "904f55c2-0394-47b7-9a8c-f59dae8547f2",
   "metadata": {},
   "source": [
    "`np.any` e `np.all` si possono utilizzare contemporaneamente a `np.where`"
   ]
  },
  {
   "cell_type": "code",
   "execution_count": 113,
   "id": "c1919bbe-740f-4ca5-923f-28640294290a",
   "metadata": {},
   "outputs": [
    {
     "data": {
      "text/plain": [
       "array([[-2, -1, -3],\n",
       "       [ 4,  5, -6],\n",
       "       [ 3,  9,  1]])"
      ]
     },
     "execution_count": 113,
     "metadata": {},
     "output_type": "execute_result"
    }
   ],
   "source": [
    "arr = np.array([[-2, -1, -3],\n",
    "                [4, 5, -6],\n",
    "                [3, 9, 1]])\n",
    "arr"
   ]
  },
  {
   "cell_type": "code",
   "execution_count": 114,
   "id": "5c92ab25-5b12-41a0-a5f1-89c1448b21f7",
   "metadata": {},
   "outputs": [
    {
     "name": "stdout",
     "output_type": "stream",
     "text": [
      "[False  True  True]\n",
      "array([[ 4,  5, -6],\n",
      "       [ 3,  9,  1]])\n"
     ]
    }
   ],
   "source": [
    "has_positive = np.any(arr > 0, axis=1)\n",
    "print(has_positive)\n",
    "print(repr(arr[np.where(has_positive)]))"
   ]
  },
  {
   "cell_type": "markdown",
   "id": "a788697b-f666-4448-930e-2a1b9aea256c",
   "metadata": {},
   "source": [
    "### Time to Code!"
   ]
  },
  {
   "cell_type": "markdown",
   "id": "edd58b50-93e5-4386-b062-4866a96d769c",
   "metadata": {},
   "source": [
    "- setta `x_ind, y_ind` uguale a `np.where` applicata con la condizione `data>0`"
   ]
  },
  {
   "cell_type": "code",
   "execution_count": 115,
   "id": "e947ae11-dc11-46ef-a3f7-0b681341062e",
   "metadata": {},
   "outputs": [],
   "source": [
    "def get_positives(data):\n",
    "    x_ind, y_ind = np.where(data > 0)\n",
    "    return data[x_ind, y_ind]"
   ]
  },
  {
   "cell_type": "markdown",
   "id": "9fd619f8-30d1-494b-802f-f8dd8457e70a",
   "metadata": {},
   "source": [
    "- setta `zeros` uguale a `np.zeros_like` con `data` come argomento\n",
    "- setta `zero_replace` uguale a `np.where` con la condizione `data>0`; il secondo argomento sarà `data` e il terzo sarà `zeros`."
   ]
  },
  {
   "cell_type": "code",
   "execution_count": 116,
   "id": "964305f3-1c44-408a-ba40-a1739f9a8777",
   "metadata": {},
   "outputs": [],
   "source": [
    "def replace_zeros(data):\n",
    "    zeros = np.zeros_like(data)\n",
    "    zero_replace = np.where(data > 0, data, zeros)\n",
    "    return zero_replace"
   ]
  },
  {
   "cell_type": "markdown",
   "id": "e7999cca-0411-4f42-839d-84bb76b8e491",
   "metadata": {},
   "source": [
    "- setta `neg_one_replace` uguale a `np.where` con la condizione `data>0`; il secondo argomento sarà `data` e il terzo sarà `-1`."
   ]
  },
  {
   "cell_type": "code",
   "execution_count": 117,
   "id": "73ed4103-0960-4a07-b1c9-749b11ce7a91",
   "metadata": {},
   "outputs": [],
   "source": [
    "def replace_neg_one(data):\n",
    "    neg_one_replace = np.where(data > 0, data, -1)\n",
    "    return neg_one_replace"
   ]
  },
  {
   "cell_type": "markdown",
   "id": "4c39fa22-b496-4481-9602-ca04d22ef70e",
   "metadata": {},
   "source": [
    "- setta `coin_flips` uguale a `np.where` con la condizione `np.random.randint` con `2` come primo argomento e `datashape` come argomento della keyword `size`.\n",
    "- setta `bool_coin_flips` uguale a `coin_flips` castato `np.bool` con la funzione `np.astype`.\n",
    "- setta `one_replace` uguale a `np.where` con `bool_coin_flips`, `data`, e `1`."
   ]
  },
  {
   "cell_type": "code",
   "execution_count": 118,
   "id": "082669ba-4305-4a10-8c4c-6bfa2c211fda",
   "metadata": {},
   "outputs": [],
   "source": [
    "def coin_flip_filter(data):\n",
    "    coin_flips = np.random.randint(2, size=data.shape)\n",
    "    bool_coin_flips = coin_flips.astype(np.bool)\n",
    "    one_replace = np.where(bool_coin_flips, data, 1)\n",
    "    return one_replace"
   ]
  },
  {
   "cell_type": "markdown",
   "id": "216a7b2f-fad7-4d87-a49a-a54eef1e03d0",
   "metadata": {},
   "source": [
    "## Statistics\n",
    "### Analysis\n",
    "Per esempio, si può ottenere valori minimi e massimi di un array NumPy usando le funzioni `min` e `max`.\n",
    "<br>Gli argomenti di `axis` sono gli stessi descritti per le funzioni `np.argmin` e `np.argmax`"
   ]
  },
  {
   "cell_type": "code",
   "execution_count": 119,
   "id": "498219e8-4590-42a0-b19a-5d5d170d60ae",
   "metadata": {},
   "outputs": [
    {
     "data": {
      "text/plain": [
       "array([[  0,  72,   3],\n",
       "       [  1,   3, -60],\n",
       "       [ -3,  -2,   4]])"
      ]
     },
     "execution_count": 119,
     "metadata": {},
     "output_type": "execute_result"
    }
   ],
   "source": [
    "arr = np.array([[0, 72, 3],\n",
    "                [1, 3, -60],\n",
    "                [-3, -2, 4]])\n",
    "arr"
   ]
  },
  {
   "cell_type": "code",
   "execution_count": 120,
   "id": "8c1d817d-863e-4c50-a698-16c459e89989",
   "metadata": {},
   "outputs": [
    {
     "name": "stdout",
     "output_type": "stream",
     "text": [
      "-60\n",
      "72\n"
     ]
    }
   ],
   "source": [
    "print(arr.min())\n",
    "print(arr.max())"
   ]
  },
  {
   "cell_type": "code",
   "execution_count": 121,
   "id": "2272657e-ebf9-4b2a-8f19-fb697502514e",
   "metadata": {},
   "outputs": [
    {
     "name": "stdout",
     "output_type": "stream",
     "text": [
      "array([ -3,  -2, -60])\n",
      "array([72,  3,  4])\n"
     ]
    }
   ],
   "source": [
    "print(repr(arr.min(axis=0)))\n",
    "print(repr(arr.max(axis=-1)))"
   ]
  },
  {
   "cell_type": "markdown",
   "id": "838f8a18-84c2-4a85-82dc-a3227f18ee28",
   "metadata": {},
   "source": [
    "### Statistical metrics\n",
    "Numpy fornisce anche funzioni statistiche per calcolare per esempio la media, la varianza e la mediana: `np.mean`, `np.var`, `np.median`.\n",
    "<br> `np.median` applicata senza considerare `axis` prende la mediana della matrice appiattita."
   ]
  },
  {
   "cell_type": "code",
   "execution_count": 122,
   "id": "9ae010d5-d127-49a7-b73c-2ce27ed4b1a0",
   "metadata": {},
   "outputs": [
    {
     "data": {
      "text/plain": [
       "array([[  0,  72,   3],\n",
       "       [  1,   3, -60],\n",
       "       [ -3,  -2,   4]])"
      ]
     },
     "execution_count": 122,
     "metadata": {},
     "output_type": "execute_result"
    }
   ],
   "source": [
    "arr = np.array([[0, 72, 3],\n",
    "                [1, 3, -60],\n",
    "                [-3, -2, 4]])\n",
    "arr"
   ]
  },
  {
   "cell_type": "code",
   "execution_count": 123,
   "id": "0bd368de-2494-47b7-ad9a-d7569ea6d7d3",
   "metadata": {},
   "outputs": [
    {
     "name": "stdout",
     "output_type": "stream",
     "text": [
      "2.0\n",
      "977.3333333333334\n",
      "1.0\n",
      "array([ 3.,  1., -2.])\n"
     ]
    }
   ],
   "source": [
    "print(np.mean(arr))\n",
    "print(np.var(arr))\n",
    "print(np.median(arr))\n",
    "print(repr(np.median(arr, axis=-1)))"
   ]
  },
  {
   "cell_type": "markdown",
   "id": "5b7d9ac4-fd7a-4173-9ea6-bf6361da5efa",
   "metadata": {},
   "source": [
    "https://numpy.org/doc/stable/reference/routines.statistics.html"
   ]
  },
  {
   "cell_type": "markdown",
   "id": "53680a54-55ca-4b8a-aed6-fd1f99c9478a",
   "metadata": {},
   "source": [
    "### Time to Code!"
   ]
  },
  {
   "cell_type": "markdown",
   "id": "bf6bb9ee-20a6-4d0a-870b-1b359e82951c",
   "metadata": {},
   "source": [
    "- setta `overall_min` uguale a `data.min` applicata senza argomenti\n",
    "- setta `overall_max` uguale a `data.max` applicata senza argomenti"
   ]
  },
  {
   "cell_type": "code",
   "execution_count": 124,
   "id": "fbf2ed43-1de6-4d86-b0e4-611d53fdb85e",
   "metadata": {},
   "outputs": [],
   "source": [
    "def get_min_max(data):\n",
    "    overall_min = data.min()\n",
    "    overall_max = data.max()\n",
    "    return overall_min, overall_max"
   ]
  },
  {
   "cell_type": "markdown",
   "id": "7119dc5a-82a2-4f4e-95d1-b4fec40fc682",
   "metadata": {},
   "source": [
    "- setta `min0` uguale a `data.min` con `0` come argomento della keyword `axis`"
   ]
  },
  {
   "cell_type": "code",
   "execution_count": 125,
   "id": "4b36cdd6-879e-4494-ae99-8d4946849c6c",
   "metadata": {},
   "outputs": [],
   "source": [
    "def col_min(data):\n",
    "    min0 = data.min(axis=0)\n",
    "    return min0"
   ]
  },
  {
   "cell_type": "markdown",
   "id": "550c5be0-b627-44fa-9d21-054f548e1ad6",
   "metadata": {},
   "source": [
    "- setta `mean` uguale a `np.mean` applicato a `data`\n",
    "- setta `median` uguale a `np.median` applicato a `data`\n",
    "- setta `var` uguale a `np.var` applicato a `data`"
   ]
  },
  {
   "cell_type": "code",
   "execution_count": 126,
   "id": "f760d067-daaf-4be6-9938-61af039c558a",
   "metadata": {},
   "outputs": [],
   "source": [
    "def basic_stats(data):\n",
    "    mean = np.mean(data)\n",
    "    median = np.median(data)\n",
    "    var = np.var(data)\n",
    "    return mean, median, var"
   ]
  },
  {
   "cell_type": "markdown",
   "id": "9d53d617-19cc-4ae9-a4c5-78119169c179",
   "metadata": {},
   "source": [
    "## Aggregation\n",
    "### Summation\n",
    "La funzione `np.sum` accetta un array NumPy come argomento obbligatorio e utilizza la keyword `axis`.\n",
    "<br>Se l'argomento della parola chiave non è specificato, `np.sum` restituisce la somma complessiva della matrice."
   ]
  },
  {
   "cell_type": "code",
   "execution_count": 127,
   "id": "bb8d6109-3b7c-4bd4-a603-d23797e4ca5e",
   "metadata": {},
   "outputs": [
    {
     "data": {
      "text/plain": [
       "array([[  0,  72,   3],\n",
       "       [  1,   3, -60],\n",
       "       [ -3,  -2,   4]])"
      ]
     },
     "execution_count": 127,
     "metadata": {},
     "output_type": "execute_result"
    }
   ],
   "source": [
    "arr = np.array([[0, 72, 3],\n",
    "                [1, 3, -60],\n",
    "                [-3, -2, 4]])\n",
    "arr"
   ]
  },
  {
   "cell_type": "code",
   "execution_count": 128,
   "id": "ce8d2677-dd23-4a59-acae-b2aabbe62060",
   "metadata": {},
   "outputs": [
    {
     "name": "stdout",
     "output_type": "stream",
     "text": [
      "18\n",
      "array([ -2,  73, -53])\n",
      "array([ 75, -56,  -1])\n"
     ]
    }
   ],
   "source": [
    "print(np.sum(arr))\n",
    "print(repr(np.sum(arr, axis=0)))\n",
    "print(repr(np.sum(arr, axis=1)))"
   ]
  },
  {
   "cell_type": "markdown",
   "id": "588edf6b-6e71-452d-9916-bc9620656216",
   "metadata": {},
   "source": [
    "In aggiunta alla classica somma, NumPy può calcolare la somma cumulata usando `np.cumsum`. Come `np.sum`, `np.cumsum` richiede un argomento e usa `axis`.\n",
    "<br>Se l'argomento della keyword `axis` non è specificato, verranno restituite le somme cumulative per la matrice appiattita"
   ]
  },
  {
   "cell_type": "code",
   "execution_count": 129,
   "id": "ecfe2993-dde3-44c2-98d6-6d6adca71ae9",
   "metadata": {},
   "outputs": [
    {
     "data": {
      "text/plain": [
       "array([[  0,  72,   3],\n",
       "       [  1,   3, -60],\n",
       "       [ -3,  -2,   4]])"
      ]
     },
     "execution_count": 129,
     "metadata": {},
     "output_type": "execute_result"
    }
   ],
   "source": [
    "arr = np.array([[0, 72, 3],\n",
    "                [1, 3, -60],\n",
    "                [-3, -2, 4]])\n",
    "arr"
   ]
  },
  {
   "cell_type": "code",
   "execution_count": 130,
   "id": "6a7682e2-391a-4b64-a871-bd6c7e258e05",
   "metadata": {},
   "outputs": [
    {
     "name": "stdout",
     "output_type": "stream",
     "text": [
      "array([ 0, 72, 75, 76, 79, 19, 16, 14, 18], dtype=int32)\n",
      "array([[  0,  72,   3],\n",
      "       [  1,  75, -57],\n",
      "       [ -2,  73, -53]], dtype=int32)\n",
      "array([[  0,  72,  75],\n",
      "       [  1,   4, -56],\n",
      "       [ -3,  -5,  -1]], dtype=int32)\n"
     ]
    }
   ],
   "source": [
    "print(repr(np.cumsum(arr)))\n",
    "print(repr(np.cumsum(arr, axis=0)))\n",
    "print(repr(np.cumsum(arr, axis=1)))"
   ]
  },
  {
   "cell_type": "markdown",
   "id": "159952f7-d011-4793-8f3d-75d71c63420a",
   "metadata": {},
   "source": [
    "### Concatenation\n",
    "In NumPy, concatenare equivale a combinare più array in uno. La funzione che utilizziamo per farlo è `np.concatenate`. \n",
    "Come le funzioni della somma, `np.concatenate` usa l'argomento della keyword `axis`. Tuttavia, il valore predefinito per `axis` è `0`."
   ]
  },
  {
   "cell_type": "code",
   "execution_count": 131,
   "id": "46e971e4-7b09-446c-b4c4-307d1fb5a02e",
   "metadata": {},
   "outputs": [
    {
     "data": {
      "text/plain": [
       "array([[  0,  72,   3],\n",
       "       [  1,   3, -60],\n",
       "       [ -3,  -2,   4]])"
      ]
     },
     "execution_count": 131,
     "metadata": {},
     "output_type": "execute_result"
    }
   ],
   "source": [
    "arr1 = np.array([[0, 72, 3],\n",
    "                 [1, 3, -60],\n",
    "                 [-3, -2, 4]])\n",
    "arr1"
   ]
  },
  {
   "cell_type": "code",
   "execution_count": 132,
   "id": "7a46d8d2-dbe5-4987-a89f-63f328c70d9f",
   "metadata": {},
   "outputs": [
    {
     "data": {
      "text/plain": [
       "array([[-15,   6,   1],\n",
       "       [  8,   9,  -4],\n",
       "       [  5, -21,  18]])"
      ]
     },
     "execution_count": 132,
     "metadata": {},
     "output_type": "execute_result"
    }
   ],
   "source": [
    "arr2 = np.array([[-15, 6, 1],\n",
    "                 [8, 9, -4],\n",
    "                 [5, -21, 18]])\n",
    "arr2"
   ]
  },
  {
   "cell_type": "code",
   "execution_count": 133,
   "id": "90a5d9a9-a6d4-43cd-b05d-4a7b26606a2c",
   "metadata": {},
   "outputs": [
    {
     "name": "stdout",
     "output_type": "stream",
     "text": [
      "array([[  0,  72,   3],\n",
      "       [  1,   3, -60],\n",
      "       [ -3,  -2,   4],\n",
      "       [-15,   6,   1],\n",
      "       [  8,   9,  -4],\n",
      "       [  5, -21,  18]])\n",
      "array([[  0,  72,   3, -15,   6,   1],\n",
      "       [  1,   3, -60,   8,   9,  -4],\n",
      "       [ -3,  -2,   4,   5, -21,  18]])\n",
      "array([[-15,   6,   1,   0,  72,   3],\n",
      "       [  8,   9,  -4,   1,   3, -60],\n",
      "       [  5, -21,  18,  -3,  -2,   4]])\n"
     ]
    }
   ],
   "source": [
    "print(repr(np.concatenate([arr1, arr2])))\n",
    "print(repr(np.concatenate([arr1, arr2], axis=1)))\n",
    "print(repr(np.concatenate([arr2, arr1], axis=1)))"
   ]
  },
  {
   "cell_type": "markdown",
   "id": "0d7d4ec0-6a97-4f59-8ed0-8d7684be5dd6",
   "metadata": {},
   "source": [
    "### Time to Code!"
   ]
  },
  {
   "cell_type": "markdown",
   "id": "34ae73ea-232c-4c21-81f0-82300de9ebee",
   "metadata": {},
   "source": [
    "- setta `total_sum` uguale a `np.sum` applicato a `data`\n",
    "- setta `col_sum` uguale a `np.sum` applicato a `data` con `axis` uguale a 0"
   ]
  },
  {
   "cell_type": "code",
   "execution_count": 134,
   "id": "4ba168bf-ba30-4212-8e78-d929b3f91ec3",
   "metadata": {},
   "outputs": [],
   "source": [
    "def get_sums(data):\n",
    "    total_sum = np.sum(data)\n",
    "    col_sum = np.sum(data, axis=0)\n",
    "    return total_sum, col_sum"
   ]
  },
  {
   "cell_type": "markdown",
   "id": "4e7c1677-be3b-493b-9885-ef823006ab6b",
   "metadata": {},
   "source": [
    "- setta `row_cumsum` uguale a `np.cumsum` applicato a `data` con `axis` uguale a `1`"
   ]
  },
  {
   "cell_type": "code",
   "execution_count": 135,
   "id": "dcd63dc4-1e19-44d6-afb3-d19ad9fa0f11",
   "metadata": {},
   "outputs": [],
   "source": [
    "def get_cumsum(data):\n",
    "    row_cumsum = np.cumsum(data, axis=1)\n",
    "    return row_cumsum"
   ]
  },
  {
   "cell_type": "markdown",
   "id": "3d0b4950-fa41-4bb8-826c-9adf2b02b96f",
   "metadata": {},
   "source": [
    "- setta `col_concat` uguale a `np.concatenate` applicato alla lista `data1` e `data2`\n",
    "- setta `row_concat` uguale a `np.concatenate` applicato a `data` con `axis` uguale a `1`"
   ]
  },
  {
   "cell_type": "code",
   "execution_count": 136,
   "id": "4952da71-aeea-4b45-97b1-eeefb9914bda",
   "metadata": {},
   "outputs": [],
   "source": [
    "def concat_arrays(data1, data2):\n",
    "    col_concat = np.concatenate([data1, data2])\n",
    "    row_concat = np.concatenate([data1, data2], axis=1)\n",
    "    return col_concat, row_concat"
   ]
  },
  {
   "cell_type": "markdown",
   "id": "8be5a6dc-9fe7-42b4-9c6c-fbbf49b0614e",
   "metadata": {},
   "source": [
    "## Saving Data\n",
    "### Saving\n",
    "Dopo aver eseguito la manipolazione dei dati con NumPy, si usa salvare i dati in un file per un uso futuro. Si utilizza la funzione `np.save`.\n",
    "<br>Il primo argomento per la funzione `np.save` è il nome/percorso del file in cui vogliamo salvare i nostri dati. \n",
    "<br>Il nome/percorso del file deve avere l'estensione `\".npy\"`. \n",
    "<br>Il secondo argomento per la funzione `np.save` sono i dati NumPy che vogliamo salvare.\n",
    "<br><br>La funzione non ha nessun valore restituito. Se il file `.npy` viene chiamato con lo stesso nome di un file già esistente, quest'ultimo verrà sovrascritto."
   ]
  },
  {
   "cell_type": "code",
   "execution_count": 137,
   "id": "7b0f5078-68b8-47e5-8166-aa2fcc07eb64",
   "metadata": {},
   "outputs": [],
   "source": [
    "arr = np.array([1, 2, 3])\n",
    "# Saves to 'arr.npy'\n",
    "np.save('arr.npy', arr)\n",
    "# Also saves to 'arr.npy'\n",
    "np.save('arr', arr)"
   ]
  },
  {
   "cell_type": "markdown",
   "id": "0d16d6b7-a265-43cb-83d4-ce0c36c97e7c",
   "metadata": {},
   "source": [
    "### Loading\n",
    "Dopo aver salvato i dati li si possono ricaricare usando `np.load`.<br>La funzione richiede come argomento il nome/percorso che contiene i dati salvati. Ritornerà i dati che sono stati salvati."
   ]
  },
  {
   "cell_type": "code",
   "execution_count": 138,
   "id": "f08f74b7-4963-4e3c-9d2a-c43843a52b68",
   "metadata": {},
   "outputs": [
    {
     "name": "stdout",
     "output_type": "stream",
     "text": [
      "array([1, 2, 3])\n"
     ]
    }
   ],
   "source": [
    "arr = np.array([1, 2, 3])\n",
    "np.save('arr.npy', arr)\n",
    "load_arr = np.load('arr.npy')\n",
    "print(repr(load_arr))\n",
    "\n",
    "# Will result in a FileNotFoundError: If we uncomment line 7 and run again.\n",
    "#load_arr = np.load('arr')"
   ]
  },
  {
   "cell_type": "markdown",
   "id": "bd92e62e-25ad-4cf3-894c-29c952be334c",
   "metadata": {},
   "source": [
    "### Time to Code!"
   ]
  },
  {
   "cell_type": "markdown",
   "id": "2624cfcc-c040-4c64-b082-c56b74511718",
   "metadata": {},
   "source": [
    "- setta `points` uguale a `np.random.uniform`, con `low` e `high` uguali a `-2.5` e a `2.5`. Avrà `size` uguale a `(100, 2)`.\n",
    "- salva il file"
   ]
  },
  {
   "cell_type": "code",
   "execution_count": 139,
   "id": "b0554dbc-a0c6-4926-9b11-a68090201069",
   "metadata": {},
   "outputs": [],
   "source": [
    "def save_points(save_file):\n",
    "    points = np.random.uniform(\n",
    "        low=-2.5, \n",
    "        high=2.5, \n",
    "        size=(100, 2))\n",
    "    np.save(save_file, points)"
   ]
  }
 ],
 "metadata": {
  "kernelspec": {
   "display_name": "Python 3 (ipykernel)",
   "language": "python",
   "name": "python3"
  },
  "language_info": {
   "codemirror_mode": {
    "name": "ipython",
    "version": 3
   },
   "file_extension": ".py",
   "mimetype": "text/x-python",
   "name": "python",
   "nbconvert_exporter": "python",
   "pygments_lexer": "ipython3",
   "version": "3.9.7"
  }
 },
 "nbformat": 4,
 "nbformat_minor": 5
}
