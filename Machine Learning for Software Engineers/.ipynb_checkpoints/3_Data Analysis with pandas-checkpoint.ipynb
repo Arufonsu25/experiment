{
 "cells": [
  {
   "cell_type": "code",
   "execution_count": 172,
   "id": "72935f1b-d0c7-4cd2-b1d3-c5ec9788c5cb",
   "metadata": {},
   "outputs": [],
   "source": [
    "import pandas as pd\n",
    "import numpy as np\n",
    "from IPython.display import Image\n",
    "import matplotlib.pyplot as plt"
   ]
  },
  {
   "cell_type": "markdown",
   "id": "ce86e723-006e-4c8a-878e-42f1e0134678",
   "metadata": {},
   "source": [
    "# Data Analysis with pandas"
   ]
  },
  {
   "cell_type": "markdown",
   "id": "1a591d1c-ce27-4945-989f-736b2dfca54a",
   "metadata": {},
   "source": [
    "## Introduction\n",
    "https://www.seanlahman.com/baseball-archive/statistics/"
   ]
  },
  {
   "cell_type": "markdown",
   "id": "9747cb19-e4bf-4475-bd97-6ac9e21089a8",
   "metadata": {},
   "source": [
    "## Data analysis\n",
    "Prima di eseguire qualsiasi attività con un set di dati, è consigliabile eseguire un'analisi preliminare dei dati. L'analisi dei dati ci consente di comprendere il set di dati, trovare potenziali valori anomali e capire quali caratteristiche del set di dati sono più importanti per la nostra applicazione."
   ]
  },
  {
   "cell_type": "markdown",
   "id": "40441287-3308-4b8b-a5d8-25854ed07c2d",
   "metadata": {},
   "source": [
    "## Pandas\n",
    "Poiché la maggior parte dei framework di Machine Learning sono basati su Python, è utile utilizzare un toolkit di analisi dati basato su Python come pandas. "
   ]
  },
  {
   "cell_type": "markdown",
   "id": "62d8c163-5356-4377-b9a2-96c53f6adbbd",
   "metadata": {},
   "source": [
    "## Matplotlib and pyplot\n",
    "La libreria che verrà usata per la visualizzazione dei dati in Python è `Matplotlib`, in particolare l'API `pyplot`, che fornisce una varietà di strumenti di plottaggio da semplici grafici a linee a immagini avanzate come mappe di calore e grafici 3D"
   ]
  },
  {
   "cell_type": "markdown",
   "id": "9b2e316f-1c3e-426d-ab77-a3847b6238f7",
   "metadata": {},
   "source": [
    "## Series"
   ]
  },
  {
   "cell_type": "markdown",
   "id": "055f571f-8d82-4451-8182-7f2e63ef395f",
   "metadata": {},
   "source": [
    "### 1-D data\n",
    "Per i dati a una dimensione si usa l'oggetto `pandas.Series`. Una serie viene creata tramite il costruttore `pd.Series`, che non accetta argomenti richiesti ma ha una varietà di argomenti di parole chiave.\n",
    "<br>La keyword `data` contiene come argomento la struttura che verra convertita in `Series`.\n",
    "<br>La keyword `dtype` permette di castare i valori presenti all'interno della `Series`."
   ]
  },
  {
   "cell_type": "code",
   "execution_count": 2,
   "id": "04b70445-0b96-430b-8187-11c94e6e56bf",
   "metadata": {},
   "outputs": [
    {
     "name": "stdout",
     "output_type": "stream",
     "text": [
      "Series([], dtype: float64)\n",
      "\n"
     ]
    }
   ],
   "source": [
    "# Creating an empty series, will result in DeprecationWarning\n",
    "#series = pd.Series()\n",
    "\n",
    "# Passing dtype as a parameter to Series for an empty series to avoid DeprecationWarning\n",
    "# Creating an empty series\n",
    "series = pd.Series(dtype='float64')\n",
    "# Newline to separate series print statements\n",
    "print('{}\\n'.format(series))"
   ]
  },
  {
   "cell_type": "code",
   "execution_count": 3,
   "id": "4c24b0fe-8fa9-45ac-a77d-6c776fbdfe87",
   "metadata": {},
   "outputs": [
    {
     "name": "stdout",
     "output_type": "stream",
     "text": [
      "0    5\n",
      "dtype: int64\n",
      "\n"
     ]
    }
   ],
   "source": [
    "series = pd.Series(5)\n",
    "print('{}\\n'.format(series))"
   ]
  },
  {
   "cell_type": "code",
   "execution_count": 4,
   "id": "cf083723-0a70-4ebb-9ef3-945fc166c506",
   "metadata": {},
   "outputs": [
    {
     "name": "stdout",
     "output_type": "stream",
     "text": [
      "0    1\n",
      "1    2\n",
      "2    3\n",
      "dtype: int64\n",
      "\n"
     ]
    }
   ],
   "source": [
    "series = pd.Series([1, 2, 3])\n",
    "print('{}\\n'.format(series))"
   ]
  },
  {
   "cell_type": "code",
   "execution_count": 5,
   "id": "559403f1-9758-4cfa-883d-854828e3ea9b",
   "metadata": {},
   "outputs": [
    {
     "name": "stdout",
     "output_type": "stream",
     "text": [
      "0    1.0\n",
      "1    2.2\n",
      "dtype: float64\n",
      "\n"
     ]
    }
   ],
   "source": [
    "series = pd.Series([1, 2.2]) # upcasting\n",
    "print('{}\\n'.format(series))"
   ]
  },
  {
   "cell_type": "code",
   "execution_count": 6,
   "id": "52147e3b-03dc-4de6-beb8-064913999cc2",
   "metadata": {},
   "outputs": [
    {
     "name": "stdout",
     "output_type": "stream",
     "text": [
      "0    1.0\n",
      "1    2.0\n",
      "dtype: float32\n",
      "\n"
     ]
    }
   ],
   "source": [
    "arr = np.array([1, 2])\n",
    "series = pd.Series(arr, dtype=np.float32)\n",
    "print('{}\\n'.format(series))"
   ]
  },
  {
   "cell_type": "code",
   "execution_count": 7,
   "id": "c2ea8e0e-31fe-41b8-94c7-4de137331bc3",
   "metadata": {},
   "outputs": [
    {
     "name": "stdout",
     "output_type": "stream",
     "text": [
      "0    [1, 2]\n",
      "1    [3, 4]\n",
      "dtype: object\n",
      "\n"
     ]
    }
   ],
   "source": [
    "series = pd.Series([[1, 2], [3, 4]])\n",
    "print('{}\\n'.format(series))"
   ]
  },
  {
   "cell_type": "markdown",
   "id": "54b60bdc-d69c-4c6f-95b3-7ac8ef484abb",
   "metadata": {},
   "source": [
    "### Index\n",
    "L'indice predefinito va da `0` a `n - 1`, dove `n` è il numero di elementi nella serie. \n",
    "<br>Tuttavia, si può specificare un indice personalizzato tramite l'argomento della keyword `index`."
   ]
  },
  {
   "cell_type": "code",
   "execution_count": 8,
   "id": "0d0069df-18c1-4a51-a783-e07b3c4638a6",
   "metadata": {},
   "outputs": [
    {
     "name": "stdout",
     "output_type": "stream",
     "text": [
      "a    1\n",
      "b    2\n",
      "c    3\n",
      "dtype: int64\n",
      "\n"
     ]
    }
   ],
   "source": [
    "series = pd.Series([1, 2, 3], index=['a', 'b', 'c'])\n",
    "print('{}\\n'.format(series))"
   ]
  },
  {
   "cell_type": "code",
   "execution_count": 9,
   "id": "7c5fb767-f408-49ca-898f-c55401c3f3d6",
   "metadata": {},
   "outputs": [
    {
     "name": "stdout",
     "output_type": "stream",
     "text": [
      "a      1\n",
      "8      2\n",
      "0.3    3\n",
      "dtype: int64\n",
      "\n"
     ]
    }
   ],
   "source": [
    "series = pd.Series([1, 2, 3], index=['a', 8, 0.3])\n",
    "print('{}\\n'.format(series))"
   ]
  },
  {
   "cell_type": "markdown",
   "id": "b515ce95-8253-4077-9ac3-a1f65c612614",
   "metadata": {},
   "source": [
    "La keyword `index` necessita di essere una lista o un array con la stessa lunghezza della keyword `data`.\n",
    "<br>L'indice può essere `intero`, con `virgola`, `stringa`."
   ]
  },
  {
   "cell_type": "markdown",
   "id": "f9d6c906-8b95-4da4-9a3d-96b5afd2530b",
   "metadata": {},
   "source": [
    "### Dictionary input\n",
    "Un altro modo di settare l'indice di una Series è utilizzando un dizionario Python come argomento della keyword `data`. <br> Le chiavi del dizionario saranno gli indici della Series, mentre ogni singola chiave è l'etichetta per il suo valore corrispondente."
   ]
  },
  {
   "cell_type": "code",
   "execution_count": 10,
   "id": "add1de1c-067d-4eaa-8244-43bb6538703d",
   "metadata": {},
   "outputs": [
    {
     "name": "stdout",
     "output_type": "stream",
     "text": [
      "a    1\n",
      "b    2\n",
      "c    3\n",
      "dtype: int64\n",
      "\n"
     ]
    }
   ],
   "source": [
    "series = pd.Series({'a':1, 'b':2, 'c':3})\n",
    "print('{}\\n'.format(series))"
   ]
  },
  {
   "cell_type": "code",
   "execution_count": 11,
   "id": "6409ded9-d06d-497c-bb1f-e7dd81f18146",
   "metadata": {},
   "outputs": [
    {
     "name": "stdout",
     "output_type": "stream",
     "text": [
      "b    2\n",
      "a    1\n",
      "c    3\n",
      "dtype: int64\n",
      "\n"
     ]
    }
   ],
   "source": [
    "series = pd.Series({'b':2, 'a':1, 'c':3})\n",
    "print('{}\\n'.format(series))"
   ]
  },
  {
   "cell_type": "markdown",
   "id": "eeededbc-3233-4a4c-b0cf-badaed231f35",
   "metadata": {},
   "source": [
    "### Time to Code!"
   ]
  },
  {
   "cell_type": "markdown",
   "id": "3e06ae9d-d9e8-4ffc-abd5-836da02741b3",
   "metadata": {},
   "source": [
    "- setta `s1` uguale a ``pd.Series` con la lista `[1, 3, 5.2]`."
   ]
  },
  {
   "cell_type": "code",
   "execution_count": 12,
   "id": "28d5870b-b917-476a-b1ab-525dff26959a",
   "metadata": {},
   "outputs": [
    {
     "data": {
      "text/plain": [
       "0    1.0\n",
       "1    3.0\n",
       "2    5.2\n",
       "dtype: float64"
      ]
     },
     "execution_count": 12,
     "metadata": {},
     "output_type": "execute_result"
    }
   ],
   "source": [
    "s1 = pd.Series([1, 3, 5.2])\n",
    "s1"
   ]
  },
  {
   "cell_type": "markdown",
   "id": "4a727ab2-2a36-48d6-9028-eff9e82f51f0",
   "metadata": {},
   "source": [
    "- setta `s2` uguale a `s1` moltiplicato per `[0.1, 0.2, 0.3]`.\n",
    "\n"
   ]
  },
  {
   "cell_type": "code",
   "execution_count": 13,
   "id": "81a22f30-36d2-4d02-946a-cf54454b1724",
   "metadata": {},
   "outputs": [
    {
     "data": {
      "text/plain": [
       "0    0.10\n",
       "1    0.60\n",
       "2    1.56\n",
       "dtype: float64"
      ]
     },
     "execution_count": 13,
     "metadata": {},
     "output_type": "execute_result"
    }
   ],
   "source": [
    "s2 = s1 * [0.1, 0.2, 0.3]\n",
    "s2"
   ]
  },
  {
   "cell_type": "markdown",
   "id": "c473548a-b28a-4b45-bbbf-7841fd389c08",
   "metadata": {},
   "source": [
    "- setta `s3` uguale a `pd.Series` con `[1, 3, 8, np.nan]` come primo argomento e `['a', 'b', 'c', 'd']` come argomento della keyword `index`."
   ]
  },
  {
   "cell_type": "code",
   "execution_count": 14,
   "id": "e4a41ceb-408a-424d-9c1f-b89456dcb2a2",
   "metadata": {},
   "outputs": [
    {
     "data": {
      "text/plain": [
       "a    1.0\n",
       "b    3.0\n",
       "c    8.0\n",
       "d    NaN\n",
       "dtype: float64"
      ]
     },
     "execution_count": 14,
     "metadata": {},
     "output_type": "execute_result"
    }
   ],
   "source": [
    "s3 = pd.Series([1, 3, 8, np.nan], index=['a', 'b', 'c', 'd'])\n",
    "s3"
   ]
  },
  {
   "cell_type": "markdown",
   "id": "240b07c0-bb49-43ab-b178-8d350da8d03e",
   "metadata": {},
   "source": [
    "- setta `s4` uguale a `pd.Series` con `{'a':0, 'b':1,'c':2}`"
   ]
  },
  {
   "cell_type": "code",
   "execution_count": 15,
   "id": "83e1ba1f-87d7-434e-8286-adea0ee350a2",
   "metadata": {},
   "outputs": [
    {
     "data": {
      "text/plain": [
       "a    0\n",
       "b    1\n",
       "c    2\n",
       "dtype: int64"
      ]
     },
     "execution_count": 15,
     "metadata": {},
     "output_type": "execute_result"
    }
   ],
   "source": [
    "s4 = pd.Series({'a' : 0, 'b': 1, 'c' : 2})\n",
    "s4"
   ]
  },
  {
   "cell_type": "markdown",
   "id": "bd00296a-9a08-4a4c-8f01-e179ab0e6c25",
   "metadata": {},
   "source": [
    "## DataFrame\n",
    "### 2-D data\n",
    "Poiché i dati tabulari contengono righe e colonne, sono 2D. Per lavorare con i dati 2D, usiamo l'oggetto `pandas.DataFrame`, a cui ci si riferisce con DataFrame.\n",
    "<br>Per creare un DataFrame si usa `pd.DataFrame`.\n",
    "<br>Rispetto alle `Series` si aggiunge una keyword `columns`."
   ]
  },
  {
   "cell_type": "code",
   "execution_count": 16,
   "id": "072de556-8d35-472c-ae54-6194b75c552b",
   "metadata": {},
   "outputs": [
    {
     "name": "stdout",
     "output_type": "stream",
     "text": [
      "Empty DataFrame\n",
      "Columns: []\n",
      "Index: []\n",
      "\n"
     ]
    }
   ],
   "source": [
    "df = pd.DataFrame()\n",
    "# Newline added to separate DataFrames\n",
    "print('{}\\n'.format(df))"
   ]
  },
  {
   "cell_type": "code",
   "execution_count": 17,
   "id": "b003dcd1-3ec8-451e-98cd-62ee4ce87ef7",
   "metadata": {},
   "outputs": [
    {
     "data": {
      "text/html": [
       "<div>\n",
       "<style scoped>\n",
       "    .dataframe tbody tr th:only-of-type {\n",
       "        vertical-align: middle;\n",
       "    }\n",
       "\n",
       "    .dataframe tbody tr th {\n",
       "        vertical-align: top;\n",
       "    }\n",
       "\n",
       "    .dataframe thead th {\n",
       "        text-align: right;\n",
       "    }\n",
       "</style>\n",
       "<table border=\"1\" class=\"dataframe\">\n",
       "  <thead>\n",
       "    <tr style=\"text-align: right;\">\n",
       "      <th></th>\n",
       "      <th>0</th>\n",
       "    </tr>\n",
       "  </thead>\n",
       "  <tbody>\n",
       "    <tr>\n",
       "      <th>0</th>\n",
       "      <td>5</td>\n",
       "    </tr>\n",
       "    <tr>\n",
       "      <th>1</th>\n",
       "      <td>6</td>\n",
       "    </tr>\n",
       "  </tbody>\n",
       "</table>\n",
       "</div>"
      ],
      "text/plain": [
       "   0\n",
       "0  5\n",
       "1  6"
      ]
     },
     "execution_count": 17,
     "metadata": {},
     "output_type": "execute_result"
    }
   ],
   "source": [
    "df = pd.DataFrame([5, 6])\n",
    "df"
   ]
  },
  {
   "cell_type": "code",
   "execution_count": 18,
   "id": "42eb2fdd-5a72-46b5-b01e-a93bcd8d4cd0",
   "metadata": {},
   "outputs": [
    {
     "data": {
      "text/html": [
       "<div>\n",
       "<style scoped>\n",
       "    .dataframe tbody tr th:only-of-type {\n",
       "        vertical-align: middle;\n",
       "    }\n",
       "\n",
       "    .dataframe tbody tr th {\n",
       "        vertical-align: top;\n",
       "    }\n",
       "\n",
       "    .dataframe thead th {\n",
       "        text-align: right;\n",
       "    }\n",
       "</style>\n",
       "<table border=\"1\" class=\"dataframe\">\n",
       "  <thead>\n",
       "    <tr style=\"text-align: right;\">\n",
       "      <th></th>\n",
       "      <th>0</th>\n",
       "      <th>1</th>\n",
       "    </tr>\n",
       "  </thead>\n",
       "  <tbody>\n",
       "    <tr>\n",
       "      <th>0</th>\n",
       "      <td>5</td>\n",
       "      <td>6</td>\n",
       "    </tr>\n",
       "  </tbody>\n",
       "</table>\n",
       "</div>"
      ],
      "text/plain": [
       "   0  1\n",
       "0  5  6"
      ]
     },
     "execution_count": 18,
     "metadata": {},
     "output_type": "execute_result"
    }
   ],
   "source": [
    "df = pd.DataFrame([[5,6]])\n",
    "df"
   ]
  },
  {
   "cell_type": "code",
   "execution_count": 19,
   "id": "2b95f0af-87ac-4377-9412-7598d89c2842",
   "metadata": {},
   "outputs": [
    {
     "data": {
      "text/html": [
       "<div>\n",
       "<style scoped>\n",
       "    .dataframe tbody tr th:only-of-type {\n",
       "        vertical-align: middle;\n",
       "    }\n",
       "\n",
       "    .dataframe tbody tr th {\n",
       "        vertical-align: top;\n",
       "    }\n",
       "\n",
       "    .dataframe thead th {\n",
       "        text-align: right;\n",
       "    }\n",
       "</style>\n",
       "<table border=\"1\" class=\"dataframe\">\n",
       "  <thead>\n",
       "    <tr style=\"text-align: right;\">\n",
       "      <th></th>\n",
       "      <th>c1</th>\n",
       "      <th>c2</th>\n",
       "    </tr>\n",
       "  </thead>\n",
       "  <tbody>\n",
       "    <tr>\n",
       "      <th>r1</th>\n",
       "      <td>5</td>\n",
       "      <td>6</td>\n",
       "    </tr>\n",
       "    <tr>\n",
       "      <th>r2</th>\n",
       "      <td>1</td>\n",
       "      <td>3</td>\n",
       "    </tr>\n",
       "  </tbody>\n",
       "</table>\n",
       "</div>"
      ],
      "text/plain": [
       "    c1  c2\n",
       "r1   5   6\n",
       "r2   1   3"
      ]
     },
     "execution_count": 19,
     "metadata": {},
     "output_type": "execute_result"
    }
   ],
   "source": [
    "df = pd.DataFrame([[5, 6], [1, 3]],\n",
    "                  index=['r1', 'r2'],\n",
    "                  columns=['c1', 'c2'])\n",
    "df"
   ]
  },
  {
   "cell_type": "code",
   "execution_count": 20,
   "id": "bdddc287-8219-4049-9da7-cd8534fbbbe6",
   "metadata": {},
   "outputs": [
    {
     "data": {
      "text/html": [
       "<div>\n",
       "<style scoped>\n",
       "    .dataframe tbody tr th:only-of-type {\n",
       "        vertical-align: middle;\n",
       "    }\n",
       "\n",
       "    .dataframe tbody tr th {\n",
       "        vertical-align: top;\n",
       "    }\n",
       "\n",
       "    .dataframe thead th {\n",
       "        text-align: right;\n",
       "    }\n",
       "</style>\n",
       "<table border=\"1\" class=\"dataframe\">\n",
       "  <thead>\n",
       "    <tr style=\"text-align: right;\">\n",
       "      <th></th>\n",
       "      <th>c1</th>\n",
       "      <th>c2</th>\n",
       "    </tr>\n",
       "  </thead>\n",
       "  <tbody>\n",
       "    <tr>\n",
       "      <th>r1</th>\n",
       "      <td>1</td>\n",
       "      <td>3</td>\n",
       "    </tr>\n",
       "    <tr>\n",
       "      <th>r2</th>\n",
       "      <td>2</td>\n",
       "      <td>4</td>\n",
       "    </tr>\n",
       "  </tbody>\n",
       "</table>\n",
       "</div>"
      ],
      "text/plain": [
       "    c1  c2\n",
       "r1   1   3\n",
       "r2   2   4"
      ]
     },
     "execution_count": 20,
     "metadata": {},
     "output_type": "execute_result"
    }
   ],
   "source": [
    "df = pd.DataFrame({'c1': [1, 2], 'c2': [3, 4]},\n",
    "                  index=['r1', 'r2'])\n",
    "df"
   ]
  },
  {
   "cell_type": "markdown",
   "id": "7d851ada-0145-4549-8cc0-6154c1c6a51b",
   "metadata": {},
   "source": [
    "## Upcasting\n",
    "Quando bisogna inizializzare un DataFrame di tipi diversi, l'upcasting avviene per colonna. `dtype` restituisce i tipi in ogni colonna come serie."
   ]
  },
  {
   "cell_type": "code",
   "execution_count": 21,
   "id": "1fc5378a-e20b-403e-814e-623886b52ed1",
   "metadata": {},
   "outputs": [
    {
     "name": "stdout",
     "output_type": "stream",
     "text": [
      "     0  1\n",
      "0  5.0  6\n",
      "1  1.2  3\n",
      "\n",
      "0    float64\n",
      "1      int64\n",
      "dtype: object\n"
     ]
    }
   ],
   "source": [
    "upcast = pd.DataFrame([[5, 6], [1.2, 3]])\n",
    "print('{}\\n'.format(upcast))\n",
    "# Datatypes of each column\n",
    "print(upcast.dtypes)"
   ]
  },
  {
   "cell_type": "markdown",
   "id": "51da8b17-1e9f-4dc7-8635-51f8892e7577",
   "metadata": {},
   "source": [
    "## Aggiunta di righe\n",
    "Possiamo aggiungere righe a un dato DataFrame attraverso la funzione `append`. L'argomento richesto sono o una Serie o un DataFrame, con le righe da aggiungere.<br><br>\n",
    "`append` ritorna il DataFrame modificato senza modificare l'originale. \n",
    "<br>Inotre quando si aggiunge una Series al DataFrame, bisogna specificare il `name` per la Series o usare `ignore_index`. `ignore_index=True` cambierà le etichette di riga a indici interi."
   ]
  },
  {
   "cell_type": "code",
   "execution_count": 22,
   "id": "297407ec-afb7-43be-b1c7-a7b12d67f211",
   "metadata": {},
   "outputs": [
    {
     "name": "stdout",
     "output_type": "stream",
     "text": [
      "      0  1\n",
      "0   5.0  6\n",
      "1   1.2  3\n",
      "r3  0.0  0\n",
      "\n",
      "     0  1\n",
      "0  5.0  6\n",
      "1  1.2  3\n",
      "2  0.0  0\n",
      "\n"
     ]
    }
   ],
   "source": [
    "df = pd.DataFrame([[5, 6], [1.2, 3]])\n",
    "ser = pd.Series([0, 0], name='r3')\n",
    "\n",
    "df_app = df.append(ser)\n",
    "print('{}\\n'.format(df_app))\n",
    "\n",
    "df_app = df.append(ser, ignore_index=True)\n",
    "print('{}\\n'.format(df_app))"
   ]
  },
  {
   "cell_type": "code",
   "execution_count": 23,
   "id": "e20551e9-34bd-420a-b673-6f73a87abb90",
   "metadata": {},
   "outputs": [
    {
     "name": "stdout",
     "output_type": "stream",
     "text": [
      "     0  1\n",
      "0  5.0  6\n",
      "1  1.2  3\n",
      "0  0.0  0\n",
      "1  9.0  9\n",
      "\n"
     ]
    }
   ],
   "source": [
    "df2 = pd.DataFrame([[0,0],[9,9]])\n",
    "df_app = df.append(df2)\n",
    "print('{}\\n'.format(df_app))"
   ]
  },
  {
   "cell_type": "markdown",
   "id": "6a98241a-6f5d-4d32-925e-3ab08f76e24e",
   "metadata": {},
   "source": [
    "## Cancellare i dati\n",
    "Si possono cancellare righe o colonne da un dato DataFRame attraverso la funzione `drop`. Non sono richiesti argomenti ma la keyword ma gli argomenti delle parole chiave della funzione danno 2 modi per elimnare righe/colonne da un DataFrame:\n",
    "- Il primo modo è usare la keyword `labels` per specificare le etichette di righe/colonne che si vogliono eliminare. Si usa accanto a `axis` (valore di default=0) per eliminare dall'asse di riga o di colonna. \n",
    "- Il secondo modo è usare direttamente `index` o `columns` per specificare etichette di riga o di colonna, senza il bisogno di usare `axis` ."
   ]
  },
  {
   "cell_type": "code",
   "execution_count": 24,
   "id": "956bedb6-fb18-4199-8808-9f241a052646",
   "metadata": {},
   "outputs": [
    {
     "name": "stdout",
     "output_type": "stream",
     "text": [
      "    c1  c2  c3\n",
      "r1   1   3   5\n",
      "r2   2   4   6 \n",
      "\n",
      "    c1  c2  c3\n",
      "r2   2   4   6\n",
      "\n"
     ]
    }
   ],
   "source": [
    "df = pd.DataFrame({'c1': [1, 2], 'c2': [3, 4],\n",
    "                   'c3': [5, 6]},\n",
    "                  index=['r1', 'r2'])\n",
    "print(df, \"\\n\")\n",
    "# Drop row r1\n",
    "df_drop = df.drop(labels='r1')\n",
    "print('{}\\n'.format(df_drop))"
   ]
  },
  {
   "cell_type": "code",
   "execution_count": 25,
   "id": "1c5f7a45-f563-4edd-80a3-e71ead865f06",
   "metadata": {},
   "outputs": [
    {
     "name": "stdout",
     "output_type": "stream",
     "text": [
      "    c2\n",
      "r1   3\n",
      "r2   4\n",
      "\n"
     ]
    }
   ],
   "source": [
    "# Drop columns c1, c3\n",
    "df_drop = df.drop(labels=['c1', 'c3'], axis=1)\n",
    "print('{}\\n'.format(df_drop))"
   ]
  },
  {
   "cell_type": "code",
   "execution_count": 26,
   "id": "36dc412f-a78a-4715-ad80-c3f29bd2ea7f",
   "metadata": {},
   "outputs": [
    {
     "name": "stdout",
     "output_type": "stream",
     "text": [
      "    c1  c2  c3\n",
      "r1   1   3   5\n",
      "\n"
     ]
    }
   ],
   "source": [
    "df_drop = df.drop(index='r2')\n",
    "print('{}\\n'.format(df_drop))"
   ]
  },
  {
   "cell_type": "code",
   "execution_count": 27,
   "id": "84c2b7ff-ae1c-482a-a0b8-0210e8cc0e40",
   "metadata": {},
   "outputs": [
    {
     "name": "stdout",
     "output_type": "stream",
     "text": [
      "    c1  c3\n",
      "r1   1   5\n",
      "r2   2   6\n",
      "\n"
     ]
    }
   ],
   "source": [
    "df_drop = df.drop(columns='c2')\n",
    "print('{}\\n'.format(df_drop))"
   ]
  },
  {
   "cell_type": "code",
   "execution_count": 28,
   "id": "3505d738-4ab7-4fa1-aace-ad9155d0b236",
   "metadata": {},
   "outputs": [
    {
     "name": "stdout",
     "output_type": "stream",
     "text": [
      "    c1  c3\n",
      "r1   1   5\n",
      "r2   2   6\n",
      "\n"
     ]
    }
   ],
   "source": [
    "df.drop(index='r2', columns='c2')\n",
    "print('{}\\n'.format(df_drop))"
   ]
  },
  {
   "cell_type": "markdown",
   "id": "a53a8ded-2b48-4003-8918-76406bfdf610",
   "metadata": {},
   "source": [
    "Come `append`, la funzione `drop` ritorna un dataFrame modificato ma senza cambiare l'originale."
   ]
  },
  {
   "cell_type": "markdown",
   "id": "03b2e483-8697-4610-a993-c2fb9b394a3a",
   "metadata": {},
   "source": [
    "## Time to Code!"
   ]
  },
  {
   "cell_type": "markdown",
   "id": "eaaf52f2-06f8-4b55-9012-1965a1f2d0ff",
   "metadata": {},
   "source": [
    "- dizionario: 'c1':[0, 1, 2, 3], 'c2':[5, 6, 7, 8]\n",
    "- indice: ['r1', 'r2', 'r3', 'r4']\n",
    "- setta `df` uguale a `pd.DataFrame` con il dizionario specificato come primo argomento e la lista degli indici come argomento della keyword `index`."
   ]
  },
  {
   "cell_type": "code",
   "execution_count": 29,
   "id": "9381b120-bd39-45d4-b828-20f2b9970af9",
   "metadata": {},
   "outputs": [
    {
     "data": {
      "text/html": [
       "<div>\n",
       "<style scoped>\n",
       "    .dataframe tbody tr th:only-of-type {\n",
       "        vertical-align: middle;\n",
       "    }\n",
       "\n",
       "    .dataframe tbody tr th {\n",
       "        vertical-align: top;\n",
       "    }\n",
       "\n",
       "    .dataframe thead th {\n",
       "        text-align: right;\n",
       "    }\n",
       "</style>\n",
       "<table border=\"1\" class=\"dataframe\">\n",
       "  <thead>\n",
       "    <tr style=\"text-align: right;\">\n",
       "      <th></th>\n",
       "      <th>c1</th>\n",
       "      <th>c2</th>\n",
       "    </tr>\n",
       "  </thead>\n",
       "  <tbody>\n",
       "    <tr>\n",
       "      <th>r1</th>\n",
       "      <td>0</td>\n",
       "      <td>5</td>\n",
       "    </tr>\n",
       "    <tr>\n",
       "      <th>r2</th>\n",
       "      <td>1</td>\n",
       "      <td>6</td>\n",
       "    </tr>\n",
       "    <tr>\n",
       "      <th>r3</th>\n",
       "      <td>2</td>\n",
       "      <td>7</td>\n",
       "    </tr>\n",
       "    <tr>\n",
       "      <th>r4</th>\n",
       "      <td>3</td>\n",
       "      <td>8</td>\n",
       "    </tr>\n",
       "  </tbody>\n",
       "</table>\n",
       "</div>"
      ],
      "text/plain": [
       "    c1  c2\n",
       "r1   0   5\n",
       "r2   1   6\n",
       "r3   2   7\n",
       "r4   3   8"
      ]
     },
     "execution_count": 29,
     "metadata": {},
     "output_type": "execute_result"
    }
   ],
   "source": [
    "df = pd.DataFrame({'c1': [0, 1, 2, 3], 'c2': [5, 6, 7, 8]},\n",
    "                  index=['r1', 'r2', 'r3', 'r4'])\n",
    "df"
   ]
  },
  {
   "cell_type": "markdown",
   "id": "926a8a76-d30d-4570-9ff3-55fc42e9d6a0",
   "metadata": {},
   "source": [
    "- colonne: ['c1, 'c2']\n",
    "- riga: ['r5']\n",
    "- setta `row_df` uguale a `pd.DataFrame` con `[[9, 9]]` come primo argomento e `columns` e `index` con gli elementi specificati."
   ]
  },
  {
   "cell_type": "code",
   "execution_count": 30,
   "id": "b6321190-c1dc-4558-98bc-19e987d724b3",
   "metadata": {},
   "outputs": [
    {
     "data": {
      "text/html": [
       "<div>\n",
       "<style scoped>\n",
       "    .dataframe tbody tr th:only-of-type {\n",
       "        vertical-align: middle;\n",
       "    }\n",
       "\n",
       "    .dataframe tbody tr th {\n",
       "        vertical-align: top;\n",
       "    }\n",
       "\n",
       "    .dataframe thead th {\n",
       "        text-align: right;\n",
       "    }\n",
       "</style>\n",
       "<table border=\"1\" class=\"dataframe\">\n",
       "  <thead>\n",
       "    <tr style=\"text-align: right;\">\n",
       "      <th></th>\n",
       "      <th>c1</th>\n",
       "      <th>c2</th>\n",
       "    </tr>\n",
       "  </thead>\n",
       "  <tbody>\n",
       "    <tr>\n",
       "      <th>r5</th>\n",
       "      <td>9</td>\n",
       "      <td>9</td>\n",
       "    </tr>\n",
       "  </tbody>\n",
       "</table>\n",
       "</div>"
      ],
      "text/plain": [
       "    c1  c2\n",
       "r5   9   9"
      ]
     },
     "execution_count": 30,
     "metadata": {},
     "output_type": "execute_result"
    }
   ],
   "source": [
    "row_df = pd.DataFrame([[9, 9]], \n",
    "                      columns=['c1', 'c2'], \n",
    "                      index=['r5'])\n",
    "row_df"
   ]
  },
  {
   "cell_type": "markdown",
   "id": "09429f4e-6410-47f5-8d00-1bd6f455d227",
   "metadata": {},
   "source": [
    "- setta `df_app` uguale a `df.append` con `row_df` come unico argomento.\n",
    "- poi setta `df_drop` uguale a `df_app.drop` con `'r2'` come argomento della keyword `labels`."
   ]
  },
  {
   "cell_type": "code",
   "execution_count": 31,
   "id": "c27a2734-9e3f-4b3f-bc8b-6f35234a867c",
   "metadata": {},
   "outputs": [
    {
     "data": {
      "text/html": [
       "<div>\n",
       "<style scoped>\n",
       "    .dataframe tbody tr th:only-of-type {\n",
       "        vertical-align: middle;\n",
       "    }\n",
       "\n",
       "    .dataframe tbody tr th {\n",
       "        vertical-align: top;\n",
       "    }\n",
       "\n",
       "    .dataframe thead th {\n",
       "        text-align: right;\n",
       "    }\n",
       "</style>\n",
       "<table border=\"1\" class=\"dataframe\">\n",
       "  <thead>\n",
       "    <tr style=\"text-align: right;\">\n",
       "      <th></th>\n",
       "      <th>c1</th>\n",
       "      <th>c2</th>\n",
       "    </tr>\n",
       "  </thead>\n",
       "  <tbody>\n",
       "    <tr>\n",
       "      <th>r1</th>\n",
       "      <td>0</td>\n",
       "      <td>5</td>\n",
       "    </tr>\n",
       "    <tr>\n",
       "      <th>r2</th>\n",
       "      <td>1</td>\n",
       "      <td>6</td>\n",
       "    </tr>\n",
       "    <tr>\n",
       "      <th>r3</th>\n",
       "      <td>2</td>\n",
       "      <td>7</td>\n",
       "    </tr>\n",
       "    <tr>\n",
       "      <th>r4</th>\n",
       "      <td>3</td>\n",
       "      <td>8</td>\n",
       "    </tr>\n",
       "    <tr>\n",
       "      <th>r5</th>\n",
       "      <td>9</td>\n",
       "      <td>9</td>\n",
       "    </tr>\n",
       "  </tbody>\n",
       "</table>\n",
       "</div>"
      ],
      "text/plain": [
       "    c1  c2\n",
       "r1   0   5\n",
       "r2   1   6\n",
       "r3   2   7\n",
       "r4   3   8\n",
       "r5   9   9"
      ]
     },
     "execution_count": 31,
     "metadata": {},
     "output_type": "execute_result"
    }
   ],
   "source": [
    "df_app = df.append(row_df)\n",
    "df_app"
   ]
  },
  {
   "cell_type": "code",
   "execution_count": 32,
   "id": "6d0d157a-18c1-4a31-b898-2a0d57711a6b",
   "metadata": {},
   "outputs": [
    {
     "data": {
      "text/html": [
       "<div>\n",
       "<style scoped>\n",
       "    .dataframe tbody tr th:only-of-type {\n",
       "        vertical-align: middle;\n",
       "    }\n",
       "\n",
       "    .dataframe tbody tr th {\n",
       "        vertical-align: top;\n",
       "    }\n",
       "\n",
       "    .dataframe thead th {\n",
       "        text-align: right;\n",
       "    }\n",
       "</style>\n",
       "<table border=\"1\" class=\"dataframe\">\n",
       "  <thead>\n",
       "    <tr style=\"text-align: right;\">\n",
       "      <th></th>\n",
       "      <th>c1</th>\n",
       "      <th>c2</th>\n",
       "    </tr>\n",
       "  </thead>\n",
       "  <tbody>\n",
       "    <tr>\n",
       "      <th>r1</th>\n",
       "      <td>0</td>\n",
       "      <td>5</td>\n",
       "    </tr>\n",
       "    <tr>\n",
       "      <th>r3</th>\n",
       "      <td>2</td>\n",
       "      <td>7</td>\n",
       "    </tr>\n",
       "    <tr>\n",
       "      <th>r4</th>\n",
       "      <td>3</td>\n",
       "      <td>8</td>\n",
       "    </tr>\n",
       "    <tr>\n",
       "      <th>r5</th>\n",
       "      <td>9</td>\n",
       "      <td>9</td>\n",
       "    </tr>\n",
       "  </tbody>\n",
       "</table>\n",
       "</div>"
      ],
      "text/plain": [
       "    c1  c2\n",
       "r1   0   5\n",
       "r3   2   7\n",
       "r4   3   8\n",
       "r5   9   9"
      ]
     },
     "execution_count": 32,
     "metadata": {},
     "output_type": "execute_result"
    }
   ],
   "source": [
    "df_drop = df_app.drop(labels='r2')\n",
    "df_drop"
   ]
  },
  {
   "cell_type": "markdown",
   "id": "e439d2fa-63f3-4ce8-a300-fcb2c0cc1bdf",
   "metadata": {},
   "source": [
    "## Combining\n",
    "### Concat\n",
    "Per concatenare più DataFrame, si usa la funzione `pd.concat`"
   ]
  },
  {
   "cell_type": "code",
   "execution_count": 33,
   "id": "4ddce460-62f9-458f-8bf5-b84ea4e5b7fd",
   "metadata": {},
   "outputs": [],
   "source": [
    "df1 = pd.DataFrame({'c1':[1,2], 'c2':[3,4]},\n",
    "                   index=['r1','r2'])\n",
    "df2 = pd.DataFrame({'c1':[5,6], 'c2':[7,8]},\n",
    "                   index=['r1','r2'])\n",
    "df3 = pd.DataFrame({'c1':[5,6], 'c2':[7,8]})"
   ]
  },
  {
   "cell_type": "code",
   "execution_count": 34,
   "id": "694233a1-e960-4d74-afd4-4b5c9f1ff16e",
   "metadata": {},
   "outputs": [
    {
     "name": "stdout",
     "output_type": "stream",
     "text": [
      "    c1  c2  c1  c2\n",
      "r1   1   3   5   7\n",
      "r2   2   4   6   8\n",
      "\n"
     ]
    }
   ],
   "source": [
    "concat = pd.concat([df1, df2], axis=1)\n",
    "# Newline to separate print statements\n",
    "print('{}\\n'.format(concat))"
   ]
  },
  {
   "cell_type": "code",
   "execution_count": 35,
   "id": "ef03b3c5-c312-40b3-b8d5-9691940b2ac5",
   "metadata": {},
   "outputs": [
    {
     "name": "stdout",
     "output_type": "stream",
     "text": [
      "    c1  c2\n",
      "r1   5   7\n",
      "r2   6   8\n",
      "r1   1   3\n",
      "r2   2   4\n",
      "0    5   7\n",
      "1    6   8\n",
      "\n"
     ]
    }
   ],
   "source": [
    "concat = pd.concat([df2, df1, df3])\n",
    "print('{}\\n'.format(concat))"
   ]
  },
  {
   "cell_type": "code",
   "execution_count": 36,
   "id": "aee58eba-b4d8-47fb-8afd-4a70c76c4c11",
   "metadata": {},
   "outputs": [
    {
     "name": "stdout",
     "output_type": "stream",
     "text": [
      "     c1   c2   c1   c2\n",
      "r1  1.0  3.0  NaN  NaN\n",
      "r2  2.0  4.0  NaN  NaN\n",
      "0   NaN  NaN  5.0  7.0\n",
      "1   NaN  NaN  6.0  8.0\n",
      "\n"
     ]
    }
   ],
   "source": [
    "concat = pd.concat([df1, df3], axis=1)\n",
    "print('{}\\n'.format(concat))"
   ]
  },
  {
   "cell_type": "markdown",
   "id": "da07011b-5987-4056-b1a1-151e5c600db7",
   "metadata": {},
   "source": [
    "La funzione `pd.concat` prende in elenco oggetti di Pandas, normamente liste di DataFrame, da concatenare.\n",
    "`Axis`:\n",
    "- `axis=0` concatena le righe\n",
    "- `axis=1` concatena le colonne"
   ]
  },
  {
   "cell_type": "markdown",
   "id": "aba3af97-4460-4952-8d0a-212491a64719",
   "metadata": {},
   "source": [
    "### Merging\n",
    "Per fondere più DataFrame si usa la funzione `pd.merge` che prende i DataFrame come argomenti richiesti"
   ]
  },
  {
   "cell_type": "code",
   "execution_count": 37,
   "id": "3cf3a630-1140-49f8-9753-baaf3b5f9d26",
   "metadata": {},
   "outputs": [
    {
     "name": "stdout",
     "output_type": "stream",
     "text": [
      "        name pos  year\n",
      "0   john doe  1B  2000\n",
      "1   al smith   C  2004\n",
      "2  sam black   P  2008\n",
      "3   john doe  2B  2003\n",
      "\n",
      "        name pos  year\n",
      "0   john doe  1B  2000\n",
      "1   al smith   C  2004\n",
      "2  sam black   P  2008\n",
      "3   john doe  2B  2003\n",
      "\n"
     ]
    }
   ],
   "source": [
    "mlb_df1 = pd.DataFrame({'name': ['john doe', 'al smith', 'sam black', 'john doe'],\n",
    "                        'pos': ['1B', 'C', 'P', '2B'],\n",
    "                        'year': [2000, 2004, 2008, 2003]})\n",
    "mlb_df2 = pd.DataFrame({'name': ['john doe', 'al smith', 'jack lee'],\n",
    "                        'year': [2000, 2004, 2012],\n",
    "                        'rbi': [80, 100, 12]})\n",
    "                        \n",
    "print('{}\\n'.format(mlb_df1))\n",
    "print('{}\\n'.format(mlb_df1))"
   ]
  },
  {
   "cell_type": "code",
   "execution_count": 38,
   "id": "995cd4ee-bc7c-42cf-8ff6-9734f4ff745a",
   "metadata": {},
   "outputs": [
    {
     "name": "stdout",
     "output_type": "stream",
     "text": [
      "       name pos  year  rbi\n",
      "0  john doe  1B  2000   80\n",
      "1  al smith   C  2004  100\n",
      "\n"
     ]
    }
   ],
   "source": [
    "mlb_merged = pd.merge(mlb_df1, mlb_df2)\n",
    "print('{}\\n'.format(mlb_merged))"
   ]
  },
  {
   "cell_type": "markdown",
   "id": "4a109bc0-3d74-4c2c-8658-9de5a86951e5",
   "metadata": {},
   "source": [
    "- setta `row_concat` uguale a `pd.concat` con `[df1, df2]` come unico argomento."
   ]
  },
  {
   "cell_type": "code",
   "execution_count": 39,
   "id": "5bcbb51c-6607-4b56-8a6b-ff5b4bb2fe82",
   "metadata": {},
   "outputs": [],
   "source": [
    "def concat_rows(df1, df2):\n",
    "    row_concat = pd.concat([df1, df2])\n",
    "    return row_concat"
   ]
  },
  {
   "cell_type": "markdown",
   "id": "8ead456a-5568-428e-9933-ba55c7368bcf",
   "metadata": {},
   "source": [
    "- setta `col_concat` uguale a `pd.concat` con `[df1, df2]` come primo argomento aggiungendo `axis` uguale a `1`."
   ]
  },
  {
   "cell_type": "code",
   "execution_count": 40,
   "id": "b27b6869-3d17-4454-ad57-a1cb9ac42575",
   "metadata": {},
   "outputs": [],
   "source": [
    "def concat_cols(df1, df2):\n",
    "    col_concat = pd.concat([df1, df2], axis=1)\n",
    "    return col_concat"
   ]
  },
  {
   "cell_type": "markdown",
   "id": "e9187138-5c03-433c-b1c1-5231e25e136a",
   "metadata": {},
   "source": [
    "- setta `merged_df` uguale a `pd.merge` con `df1` e `df2` come primo argomento e secondo argomento."
   ]
  },
  {
   "cell_type": "code",
   "execution_count": 41,
   "id": "d8eb587e-0c24-4227-bc54-dad52cbb1340",
   "metadata": {},
   "outputs": [],
   "source": [
    "def merge_dfs(df1, df2):\n",
    "    merged_df = pd.merge(df1, df2)\n",
    "    return merged_df"
   ]
  },
  {
   "cell_type": "markdown",
   "id": "b4631d09-0754-4fff-8dc7-b02bafed0f8e",
   "metadata": {},
   "source": [
    "## Indexing\n",
    "### Direct indexing\n",
    "Quando si esegue l'indicizzazione in un DataFrame:\n",
    "- è possibile trattare il DataFrame come un dizionario di oggetti Series, in cui ogni colonna rappresenta una serie. - Ogni etichetta di colonna diventa quindi una chiave, permettendo di recuperare direttamente le colonne usando la notazione tra parentesi simile a un dizionario.\n",
    "\n"
   ]
  },
  {
   "cell_type": "code",
   "execution_count": 42,
   "id": "83a6ae2e-3463-45ac-bf97-fb7d1cd5abce",
   "metadata": {},
   "outputs": [
    {
     "name": "stdout",
     "output_type": "stream",
     "text": [
      "    c1  c2  c3\n",
      "r1   1   4   7\n",
      "r2   2   5   8\n",
      "r3   3   6   9\n",
      "\n"
     ]
    }
   ],
   "source": [
    "df = pd.DataFrame({'c1': [1, 2, 3], 'c2': [4, 5, 6],\n",
    "                   'c3': [7, 8, 9]}, \n",
    "                  index=['r1', 'r2', 'r3'])\n",
    "print('{}\\n'.format(df))"
   ]
  },
  {
   "cell_type": "code",
   "execution_count": 43,
   "id": "01d8c76a-7bdf-42c2-addb-619404d46594",
   "metadata": {},
   "outputs": [
    {
     "name": "stdout",
     "output_type": "stream",
     "text": [
      "    c1  c2  c3\n",
      "r1   1   4   7\n",
      "r2   2   5   8\n",
      "\n"
     ]
    }
   ],
   "source": [
    "first_two_rows = df[0:2]\n",
    "print('{}\\n'.format(first_two_rows))"
   ]
  },
  {
   "cell_type": "code",
   "execution_count": 44,
   "id": "05c17ef3-6b49-4abf-b0c0-65105278a8b7",
   "metadata": {},
   "outputs": [
    {
     "name": "stdout",
     "output_type": "stream",
     "text": [
      "    c1  c2  c3\n",
      "r2   2   5   8\n",
      "r3   3   6   9\n",
      "\n"
     ]
    }
   ],
   "source": [
    "last_two_rows = df['r2':'r3']\n",
    "print('{}\\n'.format(last_two_rows))"
   ]
  },
  {
   "cell_type": "code",
   "execution_count": 45,
   "id": "1a359274-a1c3-44a0-b841-947f81a94b10",
   "metadata": {},
   "outputs": [],
   "source": [
    "# There will be a KeyError when we uncomment the line 13 and run again\n",
    "#df['r1']"
   ]
  },
  {
   "cell_type": "markdown",
   "id": "0168ece0-4a98-40a0-b019-d85e13646e9f",
   "metadata": {},
   "source": [
    "Quando si usa lo slicing, l'indice dopo `:` è escluso"
   ]
  },
  {
   "cell_type": "markdown",
   "id": "02376efe-e4ee-4ef3-aa5d-9094dd730d48",
   "metadata": {},
   "source": [
    "### Other indexing\n",
    "Si usa `iloc` per accedere alle righe basandosi sull'indice intero. Si può accedere a una singola riga come una Series, e specificare una particolare riga per accederci attraverso una lista di interi o un array di booleani."
   ]
  },
  {
   "cell_type": "code",
   "execution_count": 46,
   "id": "33736941-51ab-469c-af3c-eff8d501ff94",
   "metadata": {},
   "outputs": [
    {
     "name": "stdout",
     "output_type": "stream",
     "text": [
      "    c1  c2  c3\n",
      "r1   1   4   7\n",
      "r2   2   5   8\n",
      "r3   3   6   9\n",
      "\n"
     ]
    }
   ],
   "source": [
    "df = pd.DataFrame({'c1': [1, 2, 3], 'c2': [4, 5, 6],\n",
    "                   'c3': [7, 8, 9]}, \n",
    "                  index=['r1', 'r2', 'r3'])        \n",
    "print('{}\\n'.format(df))"
   ]
  },
  {
   "cell_type": "code",
   "execution_count": 47,
   "id": "1b08de66-7d63-421e-b92b-5ebe9208e552",
   "metadata": {},
   "outputs": [
    {
     "name": "stdout",
     "output_type": "stream",
     "text": [
      "c1    2\n",
      "c2    5\n",
      "c3    8\n",
      "Name: r2, dtype: int64\n",
      "\n"
     ]
    }
   ],
   "source": [
    "print('{}\\n'.format(df.iloc[1]))"
   ]
  },
  {
   "cell_type": "code",
   "execution_count": 48,
   "id": "5de8cc78-b0ba-4f86-b8c9-30ebb40533bc",
   "metadata": {},
   "outputs": [
    {
     "name": "stdout",
     "output_type": "stream",
     "text": [
      "    c1  c2  c3\n",
      "r1   1   4   7\n",
      "r3   3   6   9\n",
      "\n"
     ]
    }
   ],
   "source": [
    "print('{}\\n'.format(df.iloc[[0, 2]]))"
   ]
  },
  {
   "cell_type": "code",
   "execution_count": 49,
   "id": "c91304b6-e8c0-4bbf-8446-59c330a58272",
   "metadata": {},
   "outputs": [
    {
     "name": "stdout",
     "output_type": "stream",
     "text": [
      "    c1  c2  c3\n",
      "r2   2   5   8\n",
      "r3   3   6   9\n",
      "\n"
     ]
    }
   ],
   "source": [
    "bool_list = [False, True, True]\n",
    "print('{}\\n'.format(df.iloc[bool_list]))"
   ]
  },
  {
   "cell_type": "markdown",
   "id": "a90d11f9-68a8-4654-b69c-ba09333756e5",
   "metadata": {},
   "source": [
    "`loc` provvede a fare lo stesso di `iloc` ma usa le etichette di riga piuttosto degli indici interi.\n",
    "<br>Inotre, con `loc` si può eseguire l'indicizzazione delle colonne insieme all'indicizzazione delle righe e impostare nuovi valori in un DataFrame per righe e colonne specifiche."
   ]
  },
  {
   "cell_type": "code",
   "execution_count": 50,
   "id": "e7ebabe1-f27c-4450-a132-20824f0ad362",
   "metadata": {},
   "outputs": [
    {
     "name": "stdout",
     "output_type": "stream",
     "text": [
      "    c1  c2  c3\n",
      "r1   1   4   7\n",
      "r2   2   5   8\n",
      "r3   3   6   9\n",
      "\n"
     ]
    }
   ],
   "source": [
    "df = pd.DataFrame({'c1': [1, 2, 3], \n",
    "                   'c2': [4, 5, 6],\n",
    "                   'c3': [7, 8, 9]}, \n",
    "                  index=['r1', 'r2', 'r3'])     \n",
    "print('{}\\n'.format(df))"
   ]
  },
  {
   "cell_type": "code",
   "execution_count": 51,
   "id": "958cf2d3-632f-4c68-9612-de6672e8ebb3",
   "metadata": {},
   "outputs": [
    {
     "name": "stdout",
     "output_type": "stream",
     "text": [
      "c1    2\n",
      "c2    5\n",
      "c3    8\n",
      "Name: r2, dtype: int64\n",
      "\n"
     ]
    }
   ],
   "source": [
    "print('{}\\n'.format(df.loc['r2']))"
   ]
  },
  {
   "cell_type": "code",
   "execution_count": 52,
   "id": "78956d20-92ad-4e41-8f2c-1df2a38653aa",
   "metadata": {},
   "outputs": [
    {
     "name": "stdout",
     "output_type": "stream",
     "text": [
      "    c1  c2  c3\n",
      "r2   2   5   8\n",
      "r3   3   6   9\n",
      "\n"
     ]
    }
   ],
   "source": [
    "bool_list = [False, True, True]\n",
    "print('{}\\n'.format(df.loc[bool_list]))"
   ]
  },
  {
   "cell_type": "code",
   "execution_count": 53,
   "id": "3e2fe107-6784-4936-aa64-478376ba6a28",
   "metadata": {},
   "outputs": [
    {
     "name": "stdout",
     "output_type": "stream",
     "text": [
      "Single val: 4\n",
      "\n"
     ]
    }
   ],
   "source": [
    "single_val = df.loc['r1', 'c2']\n",
    "print('Single val: {}\\n'.format(single_val))"
   ]
  },
  {
   "cell_type": "code",
   "execution_count": 54,
   "id": "1371c0a4-6acd-4c26-b3b7-758284a72453",
   "metadata": {},
   "outputs": [
    {
     "name": "stdout",
     "output_type": "stream",
     "text": [
      "r1    4\n",
      "r3    6\n",
      "Name: c2, dtype: int64\n",
      "\n"
     ]
    }
   ],
   "source": [
    "print('{}\\n'.format(df.loc[['r1', 'r3'], 'c2']))"
   ]
  },
  {
   "cell_type": "code",
   "execution_count": 55,
   "id": "be609e6c-2c8d-428b-b046-9fe981e593ac",
   "metadata": {},
   "outputs": [
    {
     "name": "stdout",
     "output_type": "stream",
     "text": [
      "    c1  c2  c3\n",
      "r1   1   0   7\n",
      "r2   2   5   8\n",
      "r3   3   0   9\n",
      "\n"
     ]
    }
   ],
   "source": [
    "df.loc[['r1', 'r3'], 'c2'] = 0\n",
    "print('{}\\n'.format(df))"
   ]
  },
  {
   "cell_type": "markdown",
   "id": "db030ec2-100f-4b25-9ad9-dfb0736ee129",
   "metadata": {},
   "source": [
    "### Time to Code!"
   ]
  },
  {
   "cell_type": "markdown",
   "id": "ac1f8cca-07f3-4325-9267-ee29ba205910",
   "metadata": {},
   "source": [
    "- setta `col_1` uguale a `df` direttamente indicizzato con `c1` come chiave\n",
    "- setta `row_12` uguale a `df` direttamente indicizzato con `0:2` come chiavi"
   ]
  },
  {
   "cell_type": "code",
   "execution_count": 56,
   "id": "5ba7146c-2db4-40d8-8224-7f623f4fa78d",
   "metadata": {},
   "outputs": [
    {
     "data": {
      "text/plain": [
       "r1    1\n",
       "r2    2\n",
       "r3    3\n",
       "Name: c1, dtype: int64"
      ]
     },
     "execution_count": 56,
     "metadata": {},
     "output_type": "execute_result"
    }
   ],
   "source": [
    "col_1 = df['c1']\n",
    "col_1"
   ]
  },
  {
   "cell_type": "code",
   "execution_count": 57,
   "id": "2c414eca-df48-49a8-a69d-22a7b355cc9e",
   "metadata": {},
   "outputs": [
    {
     "data": {
      "text/html": [
       "<div>\n",
       "<style scoped>\n",
       "    .dataframe tbody tr th:only-of-type {\n",
       "        vertical-align: middle;\n",
       "    }\n",
       "\n",
       "    .dataframe tbody tr th {\n",
       "        vertical-align: top;\n",
       "    }\n",
       "\n",
       "    .dataframe thead th {\n",
       "        text-align: right;\n",
       "    }\n",
       "</style>\n",
       "<table border=\"1\" class=\"dataframe\">\n",
       "  <thead>\n",
       "    <tr style=\"text-align: right;\">\n",
       "      <th></th>\n",
       "      <th>c1</th>\n",
       "      <th>c2</th>\n",
       "      <th>c3</th>\n",
       "    </tr>\n",
       "  </thead>\n",
       "  <tbody>\n",
       "    <tr>\n",
       "      <th>r1</th>\n",
       "      <td>1</td>\n",
       "      <td>0</td>\n",
       "      <td>7</td>\n",
       "    </tr>\n",
       "    <tr>\n",
       "      <th>r2</th>\n",
       "      <td>2</td>\n",
       "      <td>5</td>\n",
       "      <td>8</td>\n",
       "    </tr>\n",
       "  </tbody>\n",
       "</table>\n",
       "</div>"
      ],
      "text/plain": [
       "    c1  c2  c3\n",
       "r1   1   0   7\n",
       "r2   2   5   8"
      ]
     },
     "execution_count": 57,
     "metadata": {},
     "output_type": "execute_result"
    }
   ],
   "source": [
    "row_12 = df[0:2]\n",
    "row_12"
   ]
  },
  {
   "cell_type": "markdown",
   "id": "1ca6c0ba-6774-4027-ae93-392bb07694bc",
   "metadata": {},
   "source": [
    "- setta `row_13` uguale a `df.iloc` indicizzato con `[0, 2]` come chiavi"
   ]
  },
  {
   "cell_type": "code",
   "execution_count": 58,
   "id": "8347be51-06a1-4c46-b98b-74117f24d64e",
   "metadata": {},
   "outputs": [
    {
     "data": {
      "text/html": [
       "<div>\n",
       "<style scoped>\n",
       "    .dataframe tbody tr th:only-of-type {\n",
       "        vertical-align: middle;\n",
       "    }\n",
       "\n",
       "    .dataframe tbody tr th {\n",
       "        vertical-align: top;\n",
       "    }\n",
       "\n",
       "    .dataframe thead th {\n",
       "        text-align: right;\n",
       "    }\n",
       "</style>\n",
       "<table border=\"1\" class=\"dataframe\">\n",
       "  <thead>\n",
       "    <tr style=\"text-align: right;\">\n",
       "      <th></th>\n",
       "      <th>c1</th>\n",
       "      <th>c2</th>\n",
       "      <th>c3</th>\n",
       "    </tr>\n",
       "  </thead>\n",
       "  <tbody>\n",
       "    <tr>\n",
       "      <th>r1</th>\n",
       "      <td>1</td>\n",
       "      <td>0</td>\n",
       "      <td>7</td>\n",
       "    </tr>\n",
       "    <tr>\n",
       "      <th>r3</th>\n",
       "      <td>3</td>\n",
       "      <td>0</td>\n",
       "      <td>9</td>\n",
       "    </tr>\n",
       "  </tbody>\n",
       "</table>\n",
       "</div>"
      ],
      "text/plain": [
       "    c1  c2  c3\n",
       "r1   1   0   7\n",
       "r3   3   0   9"
      ]
     },
     "execution_count": 58,
     "metadata": {},
     "output_type": "execute_result"
    }
   ],
   "source": [
    "row_13 = df.iloc[[0, 2]]\n",
    "row_13"
   ]
  },
  {
   "cell_type": "markdown",
   "id": "aeccc8bf-d4b1-4481-8ca8-459c689515c1",
   "metadata": {},
   "source": [
    "- indici: ['r2','r3']\n",
    "- colonne: 'c2'\n",
    "- setta `df.loc` uguale a `12` indicizzato con le specifiche chiavi di riga e colonna."
   ]
  },
  {
   "cell_type": "code",
   "execution_count": 59,
   "id": "c693f504-32c8-48d1-813d-e29ad40771a1",
   "metadata": {},
   "outputs": [],
   "source": [
    "df.loc[['r2', 'r3'], 'c2'] = 12"
   ]
  },
  {
   "cell_type": "markdown",
   "id": "5e2d2603-729f-42d7-a585-ca8e732d4700",
   "metadata": {},
   "source": [
    "## File I/O\n",
    "### Reading data\n",
    "File più comuni:\n",
    "- csv\n",
    "- excel\n",
    "- json\n",
    "### CSV"
   ]
  },
  {
   "cell_type": "code",
   "execution_count": 60,
   "id": "5d5c267b-27a7-44cc-8c5c-8d1638fd226e",
   "metadata": {},
   "outputs": [],
   "source": [
    "## data.csv contains baseball data\n",
    "# df = pd.read_csv('data.csv')\n",
    "## Newline to separate print statements\n",
    "# print('{}\\n'.format(df))"
   ]
  },
  {
   "cell_type": "markdown",
   "id": "7d950848-c593-4081-b7ae-297db74c303a",
   "metadata": {},
   "source": [
    "Quando si usa `index_col`, si specifica quale colonna si vuole che venga usata come etichetta di riga"
   ]
  },
  {
   "cell_type": "code",
   "execution_count": 61,
   "id": "fdac155e-e04b-4e2c-9408-e54ea21d784e",
   "metadata": {},
   "outputs": [],
   "source": [
    "# df = pd.read_csv('data.csv', index_col=0)\n",
    "# print('{}\\n'.format(df))"
   ]
  },
  {
   "cell_type": "code",
   "execution_count": 62,
   "id": "f5e32b61-fae6-4710-b827-bd970f5ee893",
   "metadata": {},
   "outputs": [],
   "source": [
    "# df = pd.read_csv('data.csv', index_col=1)\n",
    "# print('{}\\n'.format(df))"
   ]
  },
  {
   "cell_type": "code",
   "execution_count": 63,
   "id": "c877124d-a99b-40ac-8ba1-d1ddaec55c9a",
   "metadata": {},
   "outputs": [
    {
     "data": {
      "image/png": "[encoded data removed]",
      "text/plain": [
       "<IPython.core.display.Image object>"
      ]
     },
     "execution_count": 63,
     "metadata": {},
     "output_type": "execute_result"
    }
   ],
   "source": [
    "Image(\"file_i-o_csv.png\")"
   ]
  },
  {
   "cell_type": "markdown",
   "id": "30a557bb-fc5b-4874-8871-c252d8500979",
   "metadata": {},
   "source": [
    "### Excel\n",
    "Con `sheet_name` si può ottenere un foglio di calcolo specifico passando il suo indice o un numero intero.\n",
    "<br>Inoltre si ottiene un dizionario ordinato di fogli di calcolo se si passa un elenco di numeri interi o nomi di fogli: settando `sheet_name=None` ritornano tutti i fogli in un dizionario ordinato.\n",
    "<br><br>Anche in excel si può utilizzare `index_col`"
   ]
  },
  {
   "cell_type": "code",
   "execution_count": 64,
   "id": "48b09a99-61d5-4e8e-9728-f746bee4d62a",
   "metadata": {},
   "outputs": [],
   "source": [
    "## data.csv contains baseball data\n",
    "# df = pd.read_excel('data.xlsx')\n",
    "## Newline to separate print statements\n",
    "# print('{}\\n'.format(df))"
   ]
  },
  {
   "cell_type": "code",
   "execution_count": 65,
   "id": "5e10b728-e3e0-4f98-9d9b-97a3ce3464b6",
   "metadata": {},
   "outputs": [],
   "source": [
    "# print('Sheet 1 (0-indexed) DataFrame:')\n",
    "# df = pd.read_excel('data.xlsx', sheet_name=1)\n",
    "# print('{}\\n'.format(df))"
   ]
  },
  {
   "cell_type": "code",
   "execution_count": 66,
   "id": "d15ddd78-8c36-42d3-995a-fa2f52a12476",
   "metadata": {},
   "outputs": [],
   "source": [
    "# print('MIL DataFrame:')\n",
    "# df = pd.read_excel('data.xlsx', sheet_name='MIL')\n",
    "# print('{}\\n'.format(df))"
   ]
  },
  {
   "cell_type": "code",
   "execution_count": 67,
   "id": "b8396dff-ba58-47c8-90e5-7833b3df04d2",
   "metadata": {},
   "outputs": [],
   "source": [
    "## Sheets 0 and 1\n",
    "# df_dict = pd.read_excel('data.xlsx', sheet_name=[0, 1])\n",
    "# print('{}\\n'.format(df_dict[1]))"
   ]
  },
  {
   "cell_type": "code",
   "execution_count": 68,
   "id": "58fc27fa-bf38-4ed4-af47-4b51113c9a51",
   "metadata": {},
   "outputs": [],
   "source": [
    "## All Sheets\n",
    "# df_dict = pd.read_excel('data.xlsx', sheet_name=None)\n",
    "# print(df_dict.keys())"
   ]
  },
  {
   "cell_type": "code",
   "execution_count": 69,
   "id": "3e54540c-165f-429a-b931-39d782fdf950",
   "metadata": {},
   "outputs": [
    {
     "data": {
      "image/png": "[encoded data removed]",
      "text/plain": [
       "<IPython.core.display.Image object>"
      ]
     },
     "execution_count": 69,
     "metadata": {},
     "output_type": "execute_result"
    }
   ],
   "source": [
    "Image(\"file_i-o_excel.png\")"
   ]
  },
  {
   "cell_type": "markdown",
   "id": "3af97488-a1db-4ab0-97bb-eb1f1eb3c12b",
   "metadata": {},
   "source": [
    "### JSON\n",
    "I dizionari di formato JSON hanno una struttura simile a un dizionario di Python.\n",
    "- E' possibile utilizzare il modulo `json` per convertire dizionari in dati JSON.\n",
    "\n",
    "Quando non si usano keyword, `pd.read_json` considera ogni chiave esterna dei dati JSON come un'etichetta di colonna e ogni chiave interna come un'etichetta di riga.\n",
    "<br><br>Quando si imposta `oriente=\"index\"`, le chiavi esterne sono considerate come etichette di riga e le chiavi interne sono trattate come etichette di colonna."
   ]
  },
  {
   "cell_type": "code",
   "execution_count": 70,
   "id": "1292ee7d-b805-4cf0-b953-77c96db80377",
   "metadata": {},
   "outputs": [],
   "source": [
    "## data is the JSON data (as a Python dict)\n",
    "# print('{}\\n'.format(data))"
   ]
  },
  {
   "cell_type": "code",
   "execution_count": 71,
   "id": "47aafa31-b02d-4bd2-b5b3-3d87103d78c4",
   "metadata": {},
   "outputs": [],
   "source": [
    "# df1 = pd.read_json('data.json')\n",
    "# print('{}\\n'.format(df1))"
   ]
  },
  {
   "cell_type": "code",
   "execution_count": 72,
   "id": "c3d4279c-0a58-4ad8-95b1-3162001451db",
   "metadata": {},
   "outputs": [],
   "source": [
    "# df2 = pd.read_json('data.json', orient='index')\n",
    "# print('{}\\n'.format(df2))"
   ]
  },
  {
   "cell_type": "code",
   "execution_count": 73,
   "id": "830bf55b-c49e-4dd2-b550-e6218ae1d731",
   "metadata": {},
   "outputs": [
    {
     "data": {
      "image/png": "[encoded data removed]",
      "text/plain": [
       "<IPython.core.display.Image object>"
      ]
     },
     "execution_count": 73,
     "metadata": {},
     "output_type": "execute_result"
    }
   ],
   "source": [
    "Image(\"file_i-o_json.png\")"
   ]
  },
  {
   "cell_type": "markdown",
   "id": "b33740b2-82c3-4ca0-a220-494fd30b412f",
   "metadata": {},
   "source": [
    "## Writing to files\n",
    "Simile alle funzioni di lettura dei file, ciascuna delle funzioni di scrittura ha dozzine di argomenti di parole chiave. Ipiù comuni:\n",
    "\n",
    "### CSV\n",
    "Quando non si usano keyword, `to_csv` scriverà le etichette di riga come prima colonna del file CSV. Questo va bene se le etichette di riga sono significative.\n",
    "<br><br>Nel caso in cui le etichette di riga siano numeri, si imposti `ìndex=False` per specificare che non si scrivono le etichette di riga nel file CSV."
   ]
  },
  {
   "cell_type": "code",
   "execution_count": 74,
   "id": "f0bd884f-fdd1-4df3-b7ba-a33b1cf246da",
   "metadata": {},
   "outputs": [],
   "source": [
    "## Predefined mlb_df\n",
    "# print('{}\\n'.format(mlb_df))"
   ]
  },
  {
   "cell_type": "code",
   "execution_count": 75,
   "id": "e44e0fda-b424-4b0e-b830-da1cac2c92a0",
   "metadata": {},
   "outputs": [],
   "source": [
    "## Index is kept when writing\n",
    "# mlb_df.to_csv('data.csv')\n",
    "# df = pd.read_csv('data.csv')\n",
    "# print('{}\\n'.format(df))"
   ]
  },
  {
   "cell_type": "code",
   "execution_count": 76,
   "id": "04ddce24-6529-4257-8dda-1cdb9ef9897a",
   "metadata": {},
   "outputs": [],
   "source": [
    "## Index is not kept when writing\n",
    "# mlb_df.to_csv('data.csv', index=False)\n",
    "# df = pd.read_csv('data.csv')\n",
    "# print('{}\\n'.format(df))"
   ]
  },
  {
   "cell_type": "code",
   "execution_count": 77,
   "id": "1c6a61c7-0608-4ed8-b342-dfd9a9152ac4",
   "metadata": {},
   "outputs": [
    {
     "data": {
      "image/png": "[encoded data removed]",
      "text/plain": [
       "<IPython.core.display.Image object>"
      ]
     },
     "execution_count": 77,
     "metadata": {},
     "output_type": "execute_result"
    }
   ],
   "source": [
    "Image(\"file_i-o_csv1.png\")"
   ]
  },
  {
   "cell_type": "markdown",
   "id": "22c4165d-1e24-4d14-86ab-35060e1aabb4",
   "metadata": {},
   "source": [
    "### Excel\n",
    "La funzione `to_excel` scriverà solo un singolo DataFrame in un foglio di calcolo. <br><br> Tuttavia, se si vuole scrivere più fogli di calcolo in una cartella di lavoro di Excel, prima si carica il file excel dentro `pd.ExcelWriter` poi si usa ExcelWriter come primo argomento di `to_excel`.\n",
    "<br><br>Quando non si specifica l'argomento della keyword `sheet_name`, il foglio excel in cui si scrive viene chiamato 'Sheet1'.<br> Si possono passare nomi personalizzati in `sheet_name` per evitare di scrivere costantemente su `\"Sheet1\"`."
   ]
  },
  {
   "cell_type": "code",
   "execution_count": 78,
   "id": "69077985-9943-44a3-996d-74ff48bfa54e",
   "metadata": {},
   "outputs": [],
   "source": [
    "## Predefined DataFrames\n",
    "# print('{}\\n'.format(mlb_df1))\n",
    "# print('{}\\n'.format(mlb_df2))"
   ]
  },
  {
   "cell_type": "code",
   "execution_count": 79,
   "id": "21ace230-f920-4ad8-80b2-a9ad9432fe49",
   "metadata": {},
   "outputs": [],
   "source": [
    "# with pd.ExcelWriter('data.xlsx') as writer:\n",
    "#    mlb_df1.to_excel(writer, index=False, sheet_name='NYY')\n",
    "#    mlb_df2.to_excel(writer, index=False, sheet_name='BOS')"
   ]
  },
  {
   "cell_type": "code",
   "execution_count": 80,
   "id": "1b83f950-5a93-481f-bcfe-d14cab9485c8",
   "metadata": {},
   "outputs": [],
   "source": [
    "# df_dict = pd.read_excel('data.xlsx', sheet_name=None)\n",
    "# print(df_dict.keys())\n",
    "# print('{}\\n'.format(df_dict['BOS']))"
   ]
  },
  {
   "cell_type": "code",
   "execution_count": 81,
   "id": "effa693f-140d-4a06-934d-fe0527ef0276",
   "metadata": {},
   "outputs": [
    {
     "data": {
      "image/png": "[encoded data removed]",
      "text/plain": [
       "<IPython.core.display.Image object>"
      ]
     },
     "execution_count": 81,
     "metadata": {},
     "output_type": "execute_result"
    }
   ],
   "source": [
    "Image(\"file_i-o_excel1.png\")"
   ]
  },
  {
   "cell_type": "markdown",
   "id": "adabd7f5-d6a1-4330-91db-e7ec7c9056e3",
   "metadata": {},
   "source": [
    "### JSON\n",
    "La funzione `to_json` usa anche la parola chiave della keyword `orient` che era parte di `pd.read_json`. Come in `pd.read_json`, l'impostazione `orient='index'` setterà le chiavi esterne del file JSON a etichetta di riga e le chiavi interne come etichette di colonna."
   ]
  },
  {
   "cell_type": "code",
   "execution_count": 82,
   "id": "919d2f2a-77d0-4bc3-af99-b707b9c3e505",
   "metadata": {},
   "outputs": [],
   "source": [
    "## Predefined df\n",
    "# print('{}\\n'.format(df))"
   ]
  },
  {
   "cell_type": "code",
   "execution_count": 83,
   "id": "0796abe5-8370-4771-b988-d967526414e7",
   "metadata": {},
   "outputs": [],
   "source": [
    "# df.to_json('data.json')\n",
    "# df2 = pd.read_json('data.json')\n",
    "# print('{}\\n'.format(df2))"
   ]
  },
  {
   "cell_type": "code",
   "execution_count": 84,
   "id": "77bab551-cf33-4365-b331-5e3e32832112",
   "metadata": {},
   "outputs": [],
   "source": [
    "# df.to_json('data.json', orient='index')\n",
    "# df2 = pd.read_json('data.json')\n",
    "# print('{}\\n'.format(df2))"
   ]
  },
  {
   "cell_type": "code",
   "execution_count": 85,
   "id": "ef49ecfe-5679-43bd-a07b-468f292e2c1e",
   "metadata": {},
   "outputs": [],
   "source": [
    "# df2 = pd.read_json('data.json', orient='index')\n",
    "# print('{}\\n'.format(df2))"
   ]
  },
  {
   "cell_type": "code",
   "execution_count": 86,
   "id": "b57f82ba-d99f-4fac-bc12-29e1ffb04489",
   "metadata": {},
   "outputs": [
    {
     "data": {
      "image/png": "[encoded data removed]",
      "text/plain": [
       "<IPython.core.display.Image object>"
      ]
     },
     "execution_count": 86,
     "metadata": {},
     "output_type": "execute_result"
    }
   ],
   "source": [
    "Image(\"file_i-o_json1.png\")"
   ]
  },
  {
   "cell_type": "markdown",
   "id": "8de550d2-b5a8-469c-a939-35c46edad566",
   "metadata": {},
   "source": [
    "### Time to Code!\n",
    "- setta `stats_df` uguale a `pd.read_csv` applicato a `stats.csv`\n",
    "- setta `salary_df` uguale a `pd.read_csv` applicato a `salary.csv`"
   ]
  },
  {
   "cell_type": "code",
   "execution_count": 87,
   "id": "10ee8868-2e6c-47a9-89a4-96e282a6e550",
   "metadata": {},
   "outputs": [],
   "source": [
    "# stats_df = pd.read_csv('stats.csv')\n",
    "# salary_df = pd.read_csv('salary.csv')"
   ]
  },
  {
   "cell_type": "markdown",
   "id": "cd65ddc5-41f9-416a-8d52-b6ad072d78d6",
   "metadata": {},
   "source": [
    "- setta `df` uguale a `pd.merge` con `stats.csv` e `salary.csv` come primo e secondo argomento"
   ]
  },
  {
   "cell_type": "code",
   "execution_count": 88,
   "id": "bddd3fe8-b764-4e21-8c47-e558b91b5a12",
   "metadata": {},
   "outputs": [],
   "source": [
    "#df = pd.merge(stats_df, salary_df)"
   ]
  },
  {
   "cell_type": "markdown",
   "id": "927bb9c4-74b8-4e05-b405-717b93ae7d05",
   "metadata": {},
   "source": [
    "Si chiami `df.to_csv` con `out.csv` come primo argomento e `False` come argomento della keyword `index`"
   ]
  },
  {
   "cell_type": "code",
   "execution_count": 89,
   "id": "3ab72294-b1f1-47d4-85c1-a3a14f95248f",
   "metadata": {},
   "outputs": [],
   "source": [
    "# df.to_csv('out.csv', index=False)"
   ]
  },
  {
   "cell_type": "markdown",
   "id": "f477c548-70b6-4e25-81a5-3386b6fc6bfa",
   "metadata": {},
   "source": [
    "## Grouping\n",
    "### Grouping by column\n",
    "Quando si ha a che fare con grandi quantità di dati, si può raggruppare i dati. Si potrebbe raggruppare un ampio set di dati per annno. Pandas come funzione fornisce `groupby`."
   ]
  },
  {
   "cell_type": "code",
   "execution_count": 90,
   "id": "5d1d1126-a140-4c4c-a0fe-3e62eebfea59",
   "metadata": {},
   "outputs": [],
   "source": [
    "## Predefined df of MLB stats\n",
    "# print('{}\\n'.format(df))"
   ]
  },
  {
   "cell_type": "code",
   "execution_count": 91,
   "id": "e5d8843b-cf94-485b-a684-126f7d880dbb",
   "metadata": {},
   "outputs": [],
   "source": [
    "# groups = df.groupby('yearID')\n",
    "# for name, group in groups:\n",
    "#   print('Year: {}'.format(name))\n",
    "#   print('{}\\n'.format(group))"
   ]
  },
  {
   "cell_type": "code",
   "execution_count": 92,
   "id": "14778dc7-e3c6-41f2-8c95-66e54cb83980",
   "metadata": {},
   "outputs": [],
   "source": [
    "# print('{}\\n'.format(groups.get_group(2016)))\n",
    "# print('{}\\n'.format(groups.sum()))\n",
    "# print('{}\\n'.format(groups.mean()))"
   ]
  },
  {
   "cell_type": "code",
   "execution_count": 93,
   "id": "126d4e3b-1dcd-439c-abae-92aa06712fde",
   "metadata": {},
   "outputs": [
    {
     "data": {
      "image/png": "[encoded data removed]",
      "text/plain": [
       "<IPython.core.display.Image object>"
      ]
     },
     "execution_count": 93,
     "metadata": {},
     "output_type": "execute_result"
    }
   ],
   "source": [
    "Image(\"groupby1.png\")"
   ]
  },
  {
   "cell_type": "markdown",
   "id": "8d66828d-d9ce-48c7-976f-9540a9f7a564",
   "metadata": {},
   "source": [
    "Si può applicare una funzione di aggregazione al groupby come `sum` e `mean`.\n",
    "<br><br>Inoltre si può anche filtrare i gruppi usando `filter`. La funzione `filter` assume un-altra funzione come argomento richiesto, che specifica come si vuole filtrare i gruppi. L'output di `filter` è la concatenazione di tutti i gruppi che passano il filtro."
   ]
  },
  {
   "cell_type": "code",
   "execution_count": 94,
   "id": "20d6d873-e171-451b-8906-66f5df40d855",
   "metadata": {},
   "outputs": [],
   "source": [
    "# no2015 = groups.filter(lambda x: x.name > 2015)\n",
    "# print(no2015)"
   ]
  },
  {
   "cell_type": "code",
   "execution_count": 95,
   "id": "c0101265-136c-44d8-b3d5-0d4631fac34f",
   "metadata": {},
   "outputs": [
    {
     "data": {
      "image/png": "[encoded data removed]",
      "text/plain": [
       "<IPython.core.display.Image object>"
      ]
     },
     "execution_count": 95,
     "metadata": {},
     "output_type": "execute_result"
    }
   ],
   "source": [
    "Image(\"groupby_filter.png\")"
   ]
  },
  {
   "cell_type": "markdown",
   "id": "f98f7269-69fd-4b79-8649-bfd62cfa8250",
   "metadata": {},
   "source": [
    "La funzione `lambda` passa dentro `filter` e ritorna `True` se il gruppo (presentato come `x`) rappresenta un anno maggiore del 2015."
   ]
  },
  {
   "cell_type": "markdown",
   "id": "1365b1b5-04e6-4417-8598-6cdd9a830d6b",
   "metadata": {},
   "source": [
    "## Multiple columns\n",
    "Se a `groupby` si passa una lista di colonne si può raggruppare per più colonne. Il raggruppamento per più colonne può essere utile quando più funzionalità di dati hanno molti valori diversi. "
   ]
  },
  {
   "cell_type": "code",
   "execution_count": 96,
   "id": "a1cd2645-1b6e-4518-8da4-3111ad43c50b",
   "metadata": {},
   "outputs": [],
   "source": [
    "## player_df is predefined\n",
    "# groups = player_df.groupby(['yearID', 'teamID'])"
   ]
  },
  {
   "cell_type": "code",
   "execution_count": 97,
   "id": "7f7f79df-fbdf-4103-a3ce-d62e05858fca",
   "metadata": {},
   "outputs": [],
   "source": [
    "# for name, group in groups:\n",
    "#     print('Year, Team: {}'.format(name))\n",
    "#     print('{}\\n'.format(group))"
   ]
  },
  {
   "cell_type": "code",
   "execution_count": 98,
   "id": "52512497-1fde-406f-a05c-bceb1b885e99",
   "metadata": {},
   "outputs": [],
   "source": [
    "# print(groups.sum())"
   ]
  },
  {
   "cell_type": "code",
   "execution_count": 99,
   "id": "096ed259-e851-4493-92a2-cb2bcc8b6dda",
   "metadata": {},
   "outputs": [
    {
     "data": {
      "image/png": "[encoded data removed]",
      "text/plain": [
       "<IPython.core.display.Image object>"
      ]
     },
     "execution_count": 99,
     "metadata": {},
     "output_type": "execute_result"
    }
   ],
   "source": [
    "Image(\"groupby_multiple.png\")"
   ]
  },
  {
   "cell_type": "markdown",
   "id": "fa601d52-03d0-4d97-9561-3e85ec4c8d27",
   "metadata": {},
   "source": [
    "### Time to Code!\n",
    "- setta `year_group` uguale a `df.groupby` con `yearID` come unico argomento"
   ]
  },
  {
   "cell_type": "code",
   "execution_count": 100,
   "id": "ec701abc-3e5d-48ad-8ebf-2eccc4455453",
   "metadata": {},
   "outputs": [],
   "source": [
    "# year_group = df.groupby('yearID')"
   ]
  },
  {
   "cell_type": "markdown",
   "id": "8671dfcc-ee52-41f7-a594-6b5a221236ee",
   "metadata": {},
   "source": [
    "- setta `year_stats` uguale a `year_group.sum` applicato senza argomenti."
   ]
  },
  {
   "cell_type": "code",
   "execution_count": 101,
   "id": "fa9fd3fa-4a5c-49a2-8cc3-a5a73b217f3b",
   "metadata": {},
   "outputs": [],
   "source": [
    "# year_stats = year_group.sum()"
   ]
  },
  {
   "cell_type": "markdown",
   "id": "48a6b029-59e1-4aee-8409-a72f041609e5",
   "metadata": {},
   "source": [
    "- setta `hr_2017` uguale a `year_stats.loc` con `2007` come indice di riga e `HR` come indice di colonna."
   ]
  },
  {
   "cell_type": "code",
   "execution_count": 102,
   "id": "64666359-d79b-402d-86ff-f0fe7b6bfc0a",
   "metadata": {},
   "outputs": [],
   "source": [
    "# hr_2017 = year_stats.loc[2017, 'HR']"
   ]
  },
  {
   "cell_type": "markdown",
   "id": "0682a39c-f739-4cbf-95b2-3dfbee508c4a",
   "metadata": {},
   "source": [
    "- setta `year_team_group` uguale a `df.groupby` applicato con la lista `[‘yearID’, ‘teamID’]`."
   ]
  },
  {
   "cell_type": "code",
   "execution_count": 103,
   "id": "9d7e2492-8aa1-47d0-9917-d5cc5aa9d544",
   "metadata": {},
   "outputs": [],
   "source": [
    "# year_team_group = df.groupby(['yearID', 'teamID'])"
   ]
  },
  {
   "cell_type": "markdown",
   "id": "efc6bc9e-9237-432b-b756-05ebbc554f0a",
   "metadata": {},
   "source": [
    "- setta `year_team_stats` uguale a `year_team_group.sum()` applicato senza argomenti."
   ]
  },
  {
   "cell_type": "code",
   "execution_count": 104,
   "id": "c6fa1381-8db1-436b-811f-d428881dcbfa",
   "metadata": {},
   "outputs": [],
   "source": [
    "# year_team_stats = year_team_group.sum()"
   ]
  },
  {
   "cell_type": "markdown",
   "id": "02d50564-c48c-4853-827f-c2ca6736bb1a",
   "metadata": {},
   "source": [
    "## Features\n",
    "### Quantitative vs. categorical\n",
    "Spesso ci si riferisce alle colonne di un DataFrame come alle caratteristiche del set di dati che rappresenta che possono essere **quantitative** o **categoriche**.\n",
    "- Una caratteristica quantitativa, ad esempio altezza o peso, è una caratteristica che può essere misurata numericamente. Queste sono caratteristiche per cui potremmo calcolare la somma, la media o altre metriche numeriche.\n",
    "- Una caratteristica categorica, ad esempio genere o luogo di nascita, è quella in cui i valori sono categorie che potrebbero essere utilizzate per raggruppare il set di dati. Queste caratteristche si usano con la funzione `groupby`.\n",
    "- Alcune caratteristiche possono essere sia qualitative che quantitative.\n"
   ]
  },
  {
   "cell_type": "markdown",
   "id": "1dd0b71c-4e58-49de-971a-3088476bbe43",
   "metadata": {},
   "source": [
    "### Quantitative features\n",
    "2 delle più importanti funzioni da usare con caratteristiche sono `sum` e `mean`; il codice seguente mostra esempi di utilizzo di `sum` e `mean`. Il dataframe `df` rappresenta tre diversi test di velocità per tre diversi processori. I valori dei dati corrispodono ai secondi necessari per un determinato test di velocità e processore."
   ]
  },
  {
   "cell_type": "code",
   "execution_count": 105,
   "id": "d7d03f35-e335-4fb0-a35f-331a5c12f73a",
   "metadata": {},
   "outputs": [
    {
     "name": "stdout",
     "output_type": "stream",
     "text": [
      "   T1  T2  T3\n",
      "0  10  25  16\n",
      "1  15  27  15\n",
      "2   8  25  10\n",
      "\n"
     ]
    }
   ],
   "source": [
    "df = pd.DataFrame({\n",
    "  'T1': [10, 15, 8],\n",
    "  'T2': [25, 27, 25],\n",
    "  'T3': [16, 15, 10]})\n",
    "print('{}\\n'.format(df))"
   ]
  },
  {
   "cell_type": "code",
   "execution_count": 106,
   "id": "5748d417-846e-4d58-bae5-b033c9278251",
   "metadata": {},
   "outputs": [
    {
     "name": "stdout",
     "output_type": "stream",
     "text": [
      "T1    33\n",
      "T2    77\n",
      "T3    41\n",
      "dtype: int64\n",
      "\n"
     ]
    }
   ],
   "source": [
    "print('{}\\n'.format(df.sum()))\n"
   ]
  },
  {
   "cell_type": "code",
   "execution_count": 107,
   "id": "31e3a525-d2e3-4174-8c67-26442ff246dd",
   "metadata": {},
   "outputs": [
    {
     "name": "stdout",
     "output_type": "stream",
     "text": [
      "0    51\n",
      "1    57\n",
      "2    43\n",
      "dtype: int64\n",
      "\n"
     ]
    }
   ],
   "source": [
    "print('{}\\n'.format(df.sum(axis=1)))"
   ]
  },
  {
   "cell_type": "code",
   "execution_count": 108,
   "id": "7cd5fe63-4985-4cae-828a-f630899532f8",
   "metadata": {},
   "outputs": [
    {
     "name": "stdout",
     "output_type": "stream",
     "text": [
      "T1    11.000000\n",
      "T2    25.666667\n",
      "T3    13.666667\n",
      "dtype: float64\n",
      "\n"
     ]
    }
   ],
   "source": [
    "print('{}\\n'.format(df.mean()))"
   ]
  },
  {
   "cell_type": "code",
   "execution_count": 109,
   "id": "cbe41f23-0c6c-4007-8a74-284067aa12d8",
   "metadata": {},
   "outputs": [
    {
     "name": "stdout",
     "output_type": "stream",
     "text": [
      "0    17.000000\n",
      "1    19.000000\n",
      "2    14.333333\n",
      "dtype: float64\n",
      "\n"
     ]
    }
   ],
   "source": [
    "print('{}\\n'.format(df.mean(axis=1)))"
   ]
  },
  {
   "cell_type": "markdown",
   "id": "b89c883d-d9ed-431a-b176-8719d2f025cb",
   "metadata": {},
   "source": [
    "L'argomento della keyword più comunemente usato per entrambe le funzioni è `axis`. L'argomento di `axis` specifica se:\n",
    "- aggregare su righe `axis=0` (o sottointeso)\n",
    "- aggregare su colonne `axis=1`"
   ]
  },
  {
   "cell_type": "markdown",
   "id": "dd42a082-9494-4873-882a-be71178185c0",
   "metadata": {},
   "source": [
    "### Weighted features\n",
    "Oltre ad aggregare le caratteristiche quantitative, si possono anche applicare pesi. Lo si fa attraverso la funzione `multiply`.\n",
    "La funzione `multiply` prende in elenco i pesi o una costante come argomento richiesto. Se è usata una costante, la costante è moltiplcata attraverso le righe o le colonne, dipende dal valore della keyword `àxis`.\n",
    "<br><br>Se viene utilizzata una lista, la posizione di ciascun peso nella lista corrisponde alla riga/colonna in cui viene moltiplicato.\n",
    "<br> Per moltiplicare i pesi lungo le righe di un DataFrame, è necessario impostare in modo esplicito `axis=0`"
   ]
  },
  {
   "cell_type": "code",
   "execution_count": 110,
   "id": "bfd1315d-beca-42ac-96b5-2fe9a61afb55",
   "metadata": {},
   "outputs": [
    {
     "name": "stdout",
     "output_type": "stream",
     "text": [
      "      T1      T2      T3\n",
      "0    0.1    0.25    0.16\n",
      "1  150.0  240.00  100.00\n",
      "\n"
     ]
    }
   ],
   "source": [
    "df = pd.DataFrame({\n",
    "  'T1': [0.1, 150.],\n",
    "  'T2': [0.25, 240.],\n",
    "  'T3': [0.16, 100.]})\n",
    "print('{}\\n'.format(df))"
   ]
  },
  {
   "cell_type": "code",
   "execution_count": 111,
   "id": "ab651826-49e3-46dd-a0c5-73d29db6cb21",
   "metadata": {},
   "outputs": [
    {
     "name": "stdout",
     "output_type": "stream",
     "text": [
      "      T1     T2      T3\n",
      "0    0.2    0.5    0.32\n",
      "1  300.0  480.0  200.00\n",
      "\n"
     ]
    }
   ],
   "source": [
    "print('{}\\n'.format(df.multiply(2)))"
   ]
  },
  {
   "cell_type": "code",
   "execution_count": 112,
   "id": "71bc4e97-294a-405a-9bc9-533681f9394c",
   "metadata": {},
   "outputs": [
    {
     "name": "stdout",
     "output_type": "stream",
     "text": [
      "      T1     T2     T3\n",
      "0  100.0  250.0  160.0\n",
      "1  150.0  240.0  100.0\n",
      "\n"
     ]
    }
   ],
   "source": [
    "df_ms = df.multiply([1000, 1], axis=0)\n",
    "print('{}\\n'.format(df_ms))"
   ]
  },
  {
   "cell_type": "code",
   "execution_count": 113,
   "id": "4e50b5b0-2cee-42c0-88b4-b1ca3567defc",
   "metadata": {},
   "outputs": [
    {
     "name": "stdout",
     "output_type": "stream",
     "text": [
      "      T1     T2     T3\n",
      "0  100.0  125.0  160.0\n",
      "1  150.0  120.0  100.0\n",
      "\n",
      "0    385.0\n",
      "1    370.0\n",
      "dtype: float64\n",
      "\n"
     ]
    }
   ],
   "source": [
    "df_w = df_ms.multiply([1,0.5,1])\n",
    "print('{}\\n'.format(df_w))\n",
    "print('{}\\n'.format(df_w.sum(axis=1)))"
   ]
  },
  {
   "cell_type": "markdown",
   "id": "a11a2911-555c-4af7-8ed4-3519ef19d0af",
   "metadata": {},
   "source": [
    "Nell'esempio i tempi per il processore `p1` sono misurati in secondi mentre i tempi di `p2` sono in millisecondi. Quindi si convertono i tempi di `p1` in millisecondi moltiplicando per `1000`.\n",
    "<br>Poi si moltiplicano i valori di `T2` per 0.5, poichè questi test sono stati fattu con 2 processori piuttosto che con uno. Questo rende la somma finale, una somma ponderata tra le tre colonne."
   ]
  },
  {
   "cell_type": "markdown",
   "id": "0d1221cf-3c76-4217-afd0-b1353f9bc90f",
   "metadata": {},
   "source": [
    "### Time to Code!\n",
    "- funzione per calcolare la somma di più colonne in un DataFrame\n"
   ]
  },
  {
   "cell_type": "code",
   "execution_count": 114,
   "id": "f13954d5-f9e9-40b9-b364-db8411f9da0d",
   "metadata": {},
   "outputs": [],
   "source": [
    "def col_list_sum(df, col_list, weights=None):\n",
    "    col_df = df[col_list]\n",
    "    if weights is not None:\n",
    "        col_df = col_df.multiply(weights)\n",
    "    return col_df.sum(axis=1)"
   ]
  },
  {
   "cell_type": "markdown",
   "id": "b283cae6-2e0e-4c84-b65d-9ffe67551c29",
   "metadata": {},
   "source": [
    "- L'argomento di input è il DataFrame mentre l'argomento `col_list` è un elenco di etichette di colonne che si vogliono sommare.\n",
    "- La keyword `weights` rappresenta i coefficienti di peso che si usano per una somma di una colonna ponderata"
   ]
  },
  {
   "cell_type": "markdown",
   "id": "e6c24dc7-010e-445e-ba98-2de16c5278bd",
   "metadata": {},
   "source": [
    "- setta `other_hits` uguale a `mlb_df['H']` diviso per `mlb_df['AB']`"
   ]
  },
  {
   "cell_type": "markdown",
   "id": "ac3489f1-749c-4a20-860d-c8b16ba99850",
   "metadata": {},
   "source": [
    "- setta `mlb_df['BA']` uguale a `col_list_sum` con  per `mlb_df` come primo argomento. Il seocndo argomento dovrebbe essere un elenco di etichette di colonne per doppi, tripli e home run.\n",
    "- setta `mlb_df['1B']` uguale a `mlb_df['H']` sottratto per `other_hits`."
   ]
  },
  {
   "cell_type": "code",
   "execution_count": 115,
   "id": "b159dad4-2a50-4c1c-a6bf-d47e442d5daf",
   "metadata": {},
   "outputs": [],
   "source": [
    "# mlb_df['BA'] = mlb_df['H'] / \n",
    "#                mlb_df['AB']"
   ]
  },
  {
   "cell_type": "code",
   "execution_count": 116,
   "id": "5c03a0a7-4614-4f4b-b5e3-b760a6a4bda5",
   "metadata": {},
   "outputs": [],
   "source": [
    "# other_hits = col_list_sum(mlb_df, ['2B','3B','HR'])\n",
    "# mlb_df['1B'] = mlb_df['H'] - other_hits"
   ]
  },
  {
   "cell_type": "markdown",
   "id": "4dd9b883-721e-4df4-9a5b-5302fe6071d6",
   "metadata": {},
   "source": [
    "- setta `weighted_hits` uguale a `col_list_sum` con  per `mlb_df` come primo argomento e un elenco di etichette di colonna numeratore come secondo argomento. L'argomento della keyword `weights` deve essere un elenco di numeri interi da 1 a 4, incluso."
   ]
  },
  {
   "cell_type": "code",
   "execution_count": 117,
   "id": "eda80a5f-a3e2-41a4-90dd-80a1d04b86db",
   "metadata": {},
   "outputs": [],
   "source": [
    "# weighted_hits = col_list_sum(mlb_df, \n",
    "#                              ['1B', '2B', '3B', 'HR'],\n",
    "#                              weights=[1, 2, 3, 4])"
   ]
  },
  {
   "cell_type": "markdown",
   "id": "950a1e33-0f84-43dc-9ad1-c6458c2ac81d",
   "metadata": {},
   "source": [
    "- setta `mlb_df[‘SLG’]` uguale a `weighted_hits` diviso per `mlb_df['AB']`."
   ]
  },
  {
   "cell_type": "code",
   "execution_count": 118,
   "id": "69aa502f-d1fd-4784-8698-077cff86178b",
   "metadata": {},
   "outputs": [],
   "source": [
    "# mlb_df['SLG'] = (weighted_hits / \n",
    "#                  mlb_df['AB'])"
   ]
  },
  {
   "cell_type": "markdown",
   "id": "336ee89c-e7ca-4176-8cb3-a9d920e46741",
   "metadata": {},
   "source": [
    "## Filtering\n",
    "### Filter conditions\n",
    "Nella sezione di manipolazione dei dati, si sono usate operazioni di relazioni su matrici NumPy per creare condizioni di filtro che restituivano matrici booleane che reappresentavano le posizioni degli elementi che passano il filtro.\n",
    "<br><br>In Pandas si possono creare condizioni di filtro per DataFrames. E' possibile effettuare operazioni di fitro sulle colonne che restituiranno una Series booleana che rappresenta le righe DataFrame che passano il filtro."
   ]
  },
  {
   "cell_type": "code",
   "execution_count": 119,
   "id": "f595593b-d68a-4f45-b0f0-2ab35165990b",
   "metadata": {},
   "outputs": [
    {
     "name": "stdout",
     "output_type": "stream",
     "text": [
      "    playerID  yearID teamID  HR\n",
      "0  bettsmo01    2016    BOS  31\n",
      "1   canoro01    2016    SEA  39\n",
      "2   cruzne02    2016    SEA  43\n",
      "3  ortizda01    2016    BOS  38\n",
      "4   cruzne02    2017    SEA  39\n",
      "\n"
     ]
    }
   ],
   "source": [
    "df = pd.DataFrame({\n",
    "  'playerID': ['bettsmo01', 'canoro01', 'cruzne02', 'ortizda01', 'cruzne02'],\n",
    "  'yearID': [2016, 2016, 2016, 2016, 2017],\n",
    "  'teamID': ['BOS', 'SEA', 'SEA', 'BOS', 'SEA'],\n",
    "  'HR': [31, 39, 43, 38, 39]})\n",
    "print('{}\\n'.format(df))"
   ]
  },
  {
   "cell_type": "code",
   "execution_count": 120,
   "id": "9206ee55-60eb-4e15-b869-6dc492fb8432",
   "metadata": {},
   "outputs": [
    {
     "name": "stdout",
     "output_type": "stream",
     "text": [
      "0    False\n",
      "1    False\n",
      "2     True\n",
      "3    False\n",
      "4     True\n",
      "Name: playerID, dtype: bool\n",
      "\n"
     ]
    }
   ],
   "source": [
    "cruzne02 = df['playerID'] == 'cruzne02'\n",
    "print('{}\\n'.format(cruzne02))"
   ]
  },
  {
   "cell_type": "code",
   "execution_count": 121,
   "id": "c01eaaef-3d57-4d61-9786-64a7c3ae6b4b",
   "metadata": {},
   "outputs": [
    {
     "name": "stdout",
     "output_type": "stream",
     "text": [
      "0    False\n",
      "1    False\n",
      "2     True\n",
      "3    False\n",
      "4    False\n",
      "Name: HR, dtype: bool\n",
      "\n"
     ]
    }
   ],
   "source": [
    "hr40 = df['HR'] > 40\n",
    "print('{}\\n'.format(hr40))"
   ]
  },
  {
   "cell_type": "code",
   "execution_count": 122,
   "id": "f635af64-bd8b-4b73-8d23-a1ec00cab44e",
   "metadata": {},
   "outputs": [
    {
     "name": "stdout",
     "output_type": "stream",
     "text": [
      "0    False\n",
      "1     True\n",
      "2     True\n",
      "3    False\n",
      "4     True\n",
      "Name: teamID, dtype: bool\n",
      "\n"
     ]
    }
   ],
   "source": [
    "notbos = df['teamID'] != 'BOS'\n",
    "print('{}\\n'.format(notbos))"
   ]
  },
  {
   "cell_type": "markdown",
   "id": "619396e4-5ab9-4d51-aced-44a57b701c0c",
   "metadata": {},
   "source": [
    "### Filters from functions\n",
    "Oltre alle operazioni di relazione, pandas fornisce varie funzioni per la creazione di condizioni di filtro specifiche. Per colonne con valori `string`, si può usare `str.startswith`, `str.endswith` e `str.contains` per filtrare per specifiche stringhe.\n",
    "<br>Queste funzioni funzionano esattamente come i loro omonimi dalla libreria standard Python.\n",
    "<br><br>`~` condizione di negazione"
   ]
  },
  {
   "cell_type": "code",
   "execution_count": 123,
   "id": "98220ec8-fba6-4056-8850-2d4474bebc1c",
   "metadata": {},
   "outputs": [
    {
     "name": "stdout",
     "output_type": "stream",
     "text": [
      "    playerID  yearID teamID  HR\n",
      "0  bettsmo01    2016    BOS  31\n",
      "1   canoro01    2016    SEA  39\n",
      "2   cruzne02    2016    SEA  43\n",
      "3  ortizda01    2016    BOS  38\n",
      "4   cruzne02    2017    SEA  39\n",
      "\n"
     ]
    }
   ],
   "source": [
    "df = pd.DataFrame({\n",
    "  'playerID': ['bettsmo01', 'canoro01', 'cruzne02', 'ortizda01', 'cruzne02'],\n",
    "  'yearID': [2016, 2016, 2016, 2016, 2017],\n",
    "  'teamID': ['BOS', 'SEA', 'SEA', 'BOS', 'SEA'],\n",
    "  'HR': [31, 39, 43, 38, 39]})\n",
    "print('{}\\n'.format(df))"
   ]
  },
  {
   "cell_type": "code",
   "execution_count": 124,
   "id": "b8834427-d9a7-49d5-a741-8025329202ed",
   "metadata": {},
   "outputs": [
    {
     "name": "stdout",
     "output_type": "stream",
     "text": [
      "0    False\n",
      "1     True\n",
      "2     True\n",
      "3    False\n",
      "4     True\n",
      "Name: playerID, dtype: bool\n",
      "\n"
     ]
    }
   ],
   "source": [
    "str_f1 = df['playerID'].str.startswith('c')\n",
    "print('{}\\n'.format(str_f1))\n"
   ]
  },
  {
   "cell_type": "code",
   "execution_count": 125,
   "id": "43f9fe49-e603-49c1-98c9-26f1c5241577",
   "metadata": {},
   "outputs": [
    {
     "name": "stdout",
     "output_type": "stream",
     "text": [
      "0     True\n",
      "1    False\n",
      "2    False\n",
      "3     True\n",
      "4    False\n",
      "Name: teamID, dtype: bool\n",
      "\n"
     ]
    }
   ],
   "source": [
    "str_f2 = df['teamID'].str.endswith('S')\n",
    "print('{}\\n'.format(str_f2))"
   ]
  },
  {
   "cell_type": "code",
   "execution_count": 126,
   "id": "3d7a8535-6c88-4633-8287-12cad698e09a",
   "metadata": {},
   "outputs": [
    {
     "name": "stdout",
     "output_type": "stream",
     "text": [
      "0    False\n",
      "1    False\n",
      "2     True\n",
      "3    False\n",
      "4     True\n",
      "Name: playerID, dtype: bool\n",
      "\n"
     ]
    }
   ],
   "source": [
    "str_f3 = ~df['playerID'].str.contains('o')\n",
    "print('{}\\n'.format(str_f3))"
   ]
  },
  {
   "cell_type": "markdown",
   "id": "404f3e96-7554-41eb-b74c-d98eeb0c6bb1",
   "metadata": {},
   "source": [
    "Si possono anche creare condizioni di filtro che controllino i valori in un set specifico, usando la funzione `isin`. La funzione prende un solo argomento, che prende in elenco dei valori per cui si vuole filtrare."
   ]
  },
  {
   "cell_type": "code",
   "execution_count": 127,
   "id": "6605f463-f18f-44a6-8a45-0181f8877a96",
   "metadata": {},
   "outputs": [
    {
     "name": "stdout",
     "output_type": "stream",
     "text": [
      "    playerID  yearID teamID  HR\n",
      "0  bettsmo01    2016    BOS  31\n",
      "1   canoro01    2016    SEA  39\n",
      "2   cruzne02    2016    SEA  43\n",
      "3  ortizda01    2016    BOS  38\n",
      "4   cruzne02    2017    SEA  39\n",
      "\n"
     ]
    }
   ],
   "source": [
    "df = pd.DataFrame({\n",
    "  'playerID': ['bettsmo01', 'canoro01', 'cruzne02', 'ortizda01', 'cruzne02'],\n",
    "  'yearID': [2016, 2016, 2016, 2016, 2017],\n",
    "  'teamID': ['BOS', 'SEA', 'SEA', 'BOS', 'SEA'],\n",
    "  'HR': [31, 39, 43, 38, 39]})\n",
    "print('{}\\n'.format(df))"
   ]
  },
  {
   "cell_type": "code",
   "execution_count": 128,
   "id": "a5b22f7e-80a2-4155-80a3-c28b990b174e",
   "metadata": {},
   "outputs": [
    {
     "name": "stdout",
     "output_type": "stream",
     "text": [
      "0    False\n",
      "1    False\n",
      "2     True\n",
      "3     True\n",
      "4     True\n",
      "Name: playerID, dtype: bool\n",
      "\n"
     ]
    }
   ],
   "source": [
    "isin_f1 = df['playerID'].isin(['cruzne02',\n",
    "                               'ortizda01'])\n",
    "print('{}\\n'.format(isin_f1))"
   ]
  },
  {
   "cell_type": "code",
   "execution_count": 129,
   "id": "e6d47fa9-b5a1-4077-a961-944ae1b6174b",
   "metadata": {},
   "outputs": [
    {
     "name": "stdout",
     "output_type": "stream",
     "text": [
      "0    False\n",
      "1    False\n",
      "2    False\n",
      "3    False\n",
      "4     True\n",
      "Name: yearID, dtype: bool\n",
      "\n"
     ]
    }
   ],
   "source": [
    "isin_f2 = df['yearID'].isin([2015, 2017])\n",
    "print('{}\\n'.format(isin_f2))"
   ]
  },
  {
   "cell_type": "markdown",
   "id": "80c98cb7-a58e-46f0-a0d1-7744bf2dded4",
   "metadata": {},
   "source": [
    "In Pandas quando una Series o un DataFrame ha un valore mancante in una posizione, viene rappresentato da `NaN`. Il valore `NaN` in pandas è l'equivalente du `np.NaN` in NumPy.\n",
    "<br><br>Analogamente a NumPy, non è possibile utilizzare un'operazione di relazione per creare una condizione di filtro per i valori `NaN`. Si usano le funzioni `isna` e ``notna`."
   ]
  },
  {
   "cell_type": "code",
   "execution_count": 130,
   "id": "2cae0a6b-b56b-4cc5-be95-a135430904f7",
   "metadata": {},
   "outputs": [
    {
     "name": "stdout",
     "output_type": "stream",
     "text": [
      "    playerID  yearID teamID  HR\n",
      "0  bettsmo01    2016    BOS  31\n",
      "1   canoro01    2016    SEA  39\n",
      "2    doejo01    2017    NaN  99\n",
      "\n"
     ]
    }
   ],
   "source": [
    "df = pd.DataFrame({\n",
    "  'playerID': ['bettsmo01', 'canoro01', 'doejo01'],\n",
    "  'yearID': [2016, 2016, 2017],\n",
    "  'teamID': ['BOS', 'SEA', np.nan],\n",
    "  'HR': [31, 39, 99]}) \n",
    "print('{}\\n'.format(df))"
   ]
  },
  {
   "cell_type": "code",
   "execution_count": 131,
   "id": "eea2f72c-7e5a-4074-a40a-d2f877d30cc2",
   "metadata": {},
   "outputs": [
    {
     "name": "stdout",
     "output_type": "stream",
     "text": [
      "0    False\n",
      "1    False\n",
      "2     True\n",
      "Name: teamID, dtype: bool\n",
      "\n"
     ]
    }
   ],
   "source": [
    "isna = df['teamID'].isna()\n",
    "print('{}\\n'.format(isna))"
   ]
  },
  {
   "cell_type": "code",
   "execution_count": 132,
   "id": "18e40bac-a792-487e-8a17-6943600e23bf",
   "metadata": {},
   "outputs": [
    {
     "name": "stdout",
     "output_type": "stream",
     "text": [
      "0     True\n",
      "1     True\n",
      "2    False\n",
      "Name: teamID, dtype: bool\n",
      "\n"
     ]
    }
   ],
   "source": [
    "notna = df['teamID'].notna()\n",
    "print('{}\\n'.format(notna))"
   ]
  },
  {
   "cell_type": "markdown",
   "id": "62f8c84e-e28d-437f-9290-226a1975ff49",
   "metadata": {},
   "source": [
    "### Feature filtering\n",
    "È davvero facile filtrare le righe di un DataFrame in base alle condizioni del filtro. Analogamente all'indicizzazione diretta di un DataFrame, si utilizzano le parentesi quadre. Tuttavia, l'interno delle parentesi quadre conterrà ora una condizione di filtro.\n",
    "<br><br>\n",
    "Quando si applicano le condizioni di filtro tra parentesi quadre, si recuperano le righe del DataFrame che passano la condizione di filtro (ovvero le righe per le quali la condizione di filtro è `True`).\n",
    "\n"
   ]
  },
  {
   "cell_type": "code",
   "execution_count": 133,
   "id": "33a1abcf-51ac-4dfa-87f2-6cba4957b487",
   "metadata": {},
   "outputs": [
    {
     "name": "stdout",
     "output_type": "stream",
     "text": [
      "    playerID  yearID teamID  HR\n",
      "0  bettsmo01    2016    BOS  31\n",
      "1   canoro01    2016    SEA  39\n",
      "2   cruzne02    2016    SEA  43\n",
      "3  ortizda01    2016    BOS  38\n",
      "4  bettsmo01    2015    BOS  18\n",
      "\n"
     ]
    }
   ],
   "source": [
    "df = pd.DataFrame({\n",
    "  'playerID': ['bettsmo01', 'canoro01', 'cruzne02', 'ortizda01', 'bettsmo01'],\n",
    "  'yearID': [2016, 2016, 2016, 2016, 2015],\n",
    "  'teamID': ['BOS', 'SEA', 'SEA', 'BOS', 'BOS'],\n",
    "  'HR': [31, 39, 43, 38, 18]})  \n",
    "print('{}\\n'.format(df))"
   ]
  },
  {
   "cell_type": "code",
   "execution_count": 134,
   "id": "55d85bb4-90f2-46c5-a9a3-a334368f5b2e",
   "metadata": {},
   "outputs": [
    {
     "name": "stdout",
     "output_type": "stream",
     "text": [
      "   playerID  yearID teamID  HR\n",
      "2  cruzne02    2016    SEA  43\n",
      "\n"
     ]
    }
   ],
   "source": [
    "hr40_df = df[df['HR'] > 40]\n",
    "print('{}\\n'.format(hr40_df))"
   ]
  },
  {
   "cell_type": "code",
   "execution_count": 135,
   "id": "6ce5e2db-e376-4666-abd3-2f7a18f6b94e",
   "metadata": {},
   "outputs": [
    {
     "name": "stdout",
     "output_type": "stream",
     "text": [
      "    playerID  yearID teamID  HR\n",
      "4  bettsmo01    2015    BOS  18\n",
      "\n"
     ]
    }
   ],
   "source": [
    "not_hr30_df = df[~(df['HR'] > 30)]\n",
    "print('{}\\n'.format(not_hr30_df))"
   ]
  },
  {
   "cell_type": "code",
   "execution_count": 136,
   "id": "fa58fd46-8873-45d5-91b9-28b45a067e57",
   "metadata": {},
   "outputs": [
    {
     "name": "stdout",
     "output_type": "stream",
     "text": [
      "    playerID  yearID teamID  HR\n",
      "0  bettsmo01    2016    BOS  31\n",
      "3  ortizda01    2016    BOS  38\n",
      "4  bettsmo01    2015    BOS  18\n",
      "\n"
     ]
    }
   ],
   "source": [
    "str_df = df[df['teamID'].str.startswith('B')]\n",
    "print('{}\\n'.format(str_df))"
   ]
  },
  {
   "cell_type": "markdown",
   "id": "9bdb531a-e0aa-450e-9bc8-65bd37e2a0b3",
   "metadata": {},
   "source": [
    "### Time to Code!\n",
    "- setta `top_hitters` uguale a `mlb_df[]` applicato con `mlb_df['BA'] > .300` come condizione di filtro"
   ]
  },
  {
   "cell_type": "code",
   "execution_count": 137,
   "id": "71cfb795-e928-4310-8600-8f46947addbb",
   "metadata": {},
   "outputs": [],
   "source": [
    "# top_hitters = mlb_df[mlb_df['BA'] > .300]"
   ]
  },
  {
   "cell_type": "markdown",
   "id": "80405bef-c257-40ad-a7f6-c99cb0756b69",
   "metadata": {},
   "source": [
    "- setta `exclude_a` uguale a `mlb_df[]` applicato con la negazione di `mlb_df['playerID'].str.startswith('a')` come condizione di filtro"
   ]
  },
  {
   "cell_type": "code",
   "execution_count": 138,
   "id": "ae5c305c-f061-45f8-aeac-133b76d51300",
   "metadata": {},
   "outputs": [],
   "source": [
    "# exclude_a = mlb_df[~mlb_df['playerID'].str.startswith('a')]"
   ]
  },
  {
   "cell_type": "markdown",
   "id": "8ec7d3b3-a180-4c86-86a2-c22e46ef3f66",
   "metadata": {},
   "source": [
    "- id: `['bondsba01', 'troutmi01']`\n",
    "- setta `two_ids` uguale a una lista contenente i due ID giocatore specificati.\n",
    "- setta `two_players` uguale a `mlb_df[]` applicata a `mlb_df['playerID'].isin(two_ids)` come condizione di filtro."
   ]
  },
  {
   "cell_type": "code",
   "execution_count": 139,
   "id": "afd8ee9e-99d6-45f1-8754-534ec5e3098a",
   "metadata": {},
   "outputs": [],
   "source": [
    "# two_ids = ['bondsba01', 'troutmi01']\n",
    "# two_players = mlb_df[mlb_df['playerID'].isin(two_ids)]"
   ]
  },
  {
   "cell_type": "markdown",
   "id": "e544b769-1d77-48d1-b066-71b2b2544dae",
   "metadata": {},
   "source": [
    "## Sorting\n",
    "### Sorting by feature\n",
    "In Pandas la funzione `sort_values`permette di ordinare un DataFrane per una delle sue colonne. Il primo argomento è un'etichetta di colonna o una lista di etichette di colonna.\n",
    "<br>La keyword `ascending` permette di specificare se l'ordinamento sarà fatto in ordine crescente o decrescente in base all'argomento `True/False` della keyword."
   ]
  },
  {
   "cell_type": "code",
   "execution_count": 141,
   "id": "56b4c20c-42a7-4ba6-9b80-74259180b8f1",
   "metadata": {},
   "outputs": [
    {
     "name": "stdout",
     "output_type": "stream",
     "text": [
      "    playerID  yearID teamID  HR\n",
      "0  bettsmo01    2016    BOS  31\n",
      "1   canoro01    2016    SEA  39\n",
      "2   cruzne02    2016    SEA  43\n",
      "3  ortizda01    2016    BOS  38\n",
      "4  bettsmo01    2015    BOS  18\n",
      "\n"
     ]
    }
   ],
   "source": [
    "# df is predefined\n",
    "print('{}\\n'.format(df))"
   ]
  },
  {
   "cell_type": "code",
   "execution_count": 142,
   "id": "953593d9-6ff3-47a7-bc6c-f25ce1b2a722",
   "metadata": {},
   "outputs": [
    {
     "name": "stdout",
     "output_type": "stream",
     "text": [
      "    playerID  yearID teamID  HR\n",
      "4  bettsmo01    2015    BOS  18\n",
      "0  bettsmo01    2016    BOS  31\n",
      "1   canoro01    2016    SEA  39\n",
      "2   cruzne02    2016    SEA  43\n",
      "3  ortizda01    2016    BOS  38\n",
      "\n"
     ]
    }
   ],
   "source": [
    "sort1 = df.sort_values('yearID')\n",
    "print('{}\\n'.format(sort1))"
   ]
  },
  {
   "cell_type": "code",
   "execution_count": 143,
   "id": "29d03a30-83e4-4c39-ad33-4498c717cf95",
   "metadata": {},
   "outputs": [
    {
     "name": "stdout",
     "output_type": "stream",
     "text": [
      "    playerID  yearID teamID  HR\n",
      "3  ortizda01    2016    BOS  38\n",
      "2   cruzne02    2016    SEA  43\n",
      "1   canoro01    2016    SEA  39\n",
      "0  bettsmo01    2016    BOS  31\n",
      "4  bettsmo01    2015    BOS  18\n",
      "\n"
     ]
    }
   ],
   "source": [
    "sort2 = df.sort_values('playerID', ascending=False)\n",
    "print('{}\\n'.format(sort2))"
   ]
  },
  {
   "cell_type": "markdown",
   "id": "930d05af-d8e4-40e5-abf6-c2b94c6e977a",
   "metadata": {},
   "source": [
    "Quando si ordina con una lista di etichette di colonna, ogni etichetta aggiuntiva è usata per rompere i legami. Nello specifico, l'etichetta i nella lista funge da rompi-legame per l'etichetta i-1."
   ]
  },
  {
   "cell_type": "code",
   "execution_count": 144,
   "id": "3af7f226-65a2-40e2-b84d-993f6679b2b2",
   "metadata": {},
   "outputs": [
    {
     "name": "stdout",
     "output_type": "stream",
     "text": [
      "    playerID  yearID teamID  HR\n",
      "0  bettsmo01    2016    BOS  31\n",
      "1   canoro01    2016    SEA  39\n",
      "2   cruzne02    2016    SEA  43\n",
      "3  ortizda01    2016    BOS  38\n",
      "4  bettsmo01    2015    BOS  18\n",
      "\n"
     ]
    }
   ],
   "source": [
    "# df is predefined\n",
    "print('{}\\n'.format(df))"
   ]
  },
  {
   "cell_type": "code",
   "execution_count": 145,
   "id": "34ed9702-0084-4762-afa2-48aaffe870f4",
   "metadata": {},
   "outputs": [
    {
     "name": "stdout",
     "output_type": "stream",
     "text": [
      "    playerID  yearID teamID  HR\n",
      "4  bettsmo01    2015    BOS  18\n",
      "0  bettsmo01    2016    BOS  31\n",
      "1   canoro01    2016    SEA  39\n",
      "2   cruzne02    2016    SEA  43\n",
      "3  ortizda01    2016    BOS  38\n",
      "\n"
     ]
    }
   ],
   "source": [
    "sort1 = df.sort_values(['yearID', 'playerID'])\n",
    "print('{}\\n'.format(sort1))"
   ]
  },
  {
   "cell_type": "code",
   "execution_count": 146,
   "id": "ac9f0432-93ed-416a-a883-d4896d73b353",
   "metadata": {},
   "outputs": [
    {
     "name": "stdout",
     "output_type": "stream",
     "text": [
      "    playerID  yearID teamID  HR\n",
      "4  bettsmo01    2015    BOS  18\n",
      "2   cruzne02    2016    SEA  43\n",
      "1   canoro01    2016    SEA  39\n",
      "3  ortizda01    2016    BOS  38\n",
      "0  bettsmo01    2016    BOS  31\n",
      "\n"
     ]
    }
   ],
   "source": [
    "sort2 = df.sort_values(['yearID', 'HR'],\n",
    "                       ascending=[True, False])\n",
    "print('{}\\n'.format(sort2))"
   ]
  },
  {
   "cell_type": "markdown",
   "id": "01afab1a-8536-4f60-8460-5d305869cc03",
   "metadata": {},
   "source": [
    "Quando si usano 2 etichette di colonna per ordinare, la prima rappresenta il principale criterio di ordinamento mentre la seconda etichetta è usata per rompere i legami.\n",
    "<br><br>Nell'esempio con ordinamento per `yearID` e `playerID` , il DataFrame viene prima ordinato per anno (in ordine crescente). Per anni identici, si ordina di nuovo per ID giocatore (in ordine crescente).\n",
    "<br><br>\n",
    "Per ordinamenti con più etichette, si è autorizzati a specificare ordini di ordinamento diversi per ogni etichetta di colonna. Nel secondo esempio è stato specificto che sarebbe stato ordinato `yearID` in ordine crescente, mentre sarebbe stato ordinato per `HR` in ordine decrescente."
   ]
  },
  {
   "cell_type": "markdown",
   "id": "28c6354e-1d34-4817-aa04-8a26ce1f0193",
   "metadata": {},
   "source": [
    "### Time to Code!\n",
    "- setta `by_year` uguale a `yearly_stats_df.sort_values` con `yearID` come unico argomento."
   ]
  },
  {
   "cell_type": "code",
   "execution_count": 147,
   "id": "f1119d99-2ef6-4436-9349-e711595386ce",
   "metadata": {},
   "outputs": [],
   "source": [
    "# by_year = yearly_stats_df.sort_values('yearID')"
   ]
  },
  {
   "cell_type": "markdown",
   "id": "deff9b4e-1e67-4a80-8409-f64438d7536c",
   "metadata": {},
   "source": [
    "- setta `best_hr` uguale a `yearly_stats_df.sort_values` con `HR` come primo argomento e `ascending` uguale a `False`."
   ]
  },
  {
   "cell_type": "code",
   "execution_count": 149,
   "id": "18e1273c-cb8f-4915-b2df-85ec08e94d59",
   "metadata": {},
   "outputs": [],
   "source": [
    "# best_hr = yearly_stats_df.sort_values('HR', ascending=False)"
   ]
  },
  {
   "cell_type": "markdown",
   "id": "a4a1941f-261c-4fae-817c-089a1105635e",
   "metadata": {},
   "source": [
    "- setta `best_hr_so` uguale a `yearly_stats_df.sort_values` con `HR, SO` rispettivamente in ordine decrescente e crescente."
   ]
  },
  {
   "cell_type": "code",
   "execution_count": 150,
   "id": "9e46a1e1-dd23-4d2f-93fa-7a7483538089",
   "metadata": {},
   "outputs": [],
   "source": [
    "# best_hr_so = yearly_stats_df.sort_values(['HR', 'SO'],\n",
    "#                                          ascending=[False, True])"
   ]
  },
  {
   "cell_type": "markdown",
   "id": "f17c2ca0-7c2f-43b7-9f1c-1ec59d51f194",
   "metadata": {},
   "source": [
    "## Metrics\n",
    "### Numeric metrics\n",
    "Invece di calcolare diverse metriche separatamente, Pandas fornisce  la funzione `describe` per ottenere un riepilogo dei dati numerici di un DataFrame.\n",
    "- `count`: numero di righe\n",
    "- `mean`: media dei valori per colonna\n",
    "- `std`: deviazione standard per colonna\n",
    "- `min`: minimo per colonna\n",
    "- `25%`: 25esimo percentile per colonna\n",
    "- `50%`: 50esimo percentile per colonna e mediana\n",
    "- `75%`: 75esimo percentile per colonna\n",
    "- `max`: massimo per colonna"
   ]
  },
  {
   "cell_type": "code",
   "execution_count": 151,
   "id": "fc31b4db-ddec-4115-9edf-18fc0d1372f1",
   "metadata": {},
   "outputs": [
    {
     "name": "stdout",
     "output_type": "stream",
     "text": [
      "    playerID  yearID teamID  HR\n",
      "0  bettsmo01    2016    BOS  31\n",
      "1   canoro01    2016    SEA  39\n",
      "2   cruzne02    2016    SEA  43\n",
      "3  ortizda01    2016    BOS  38\n",
      "4  bettsmo01    2015    BOS  18\n",
      "\n"
     ]
    }
   ],
   "source": [
    "# df is predefined\n",
    "print('{}\\n'.format(df))"
   ]
  },
  {
   "cell_type": "code",
   "execution_count": 152,
   "id": "3d84cb47-61c8-4d2e-b8b3-aacb451da20e",
   "metadata": {},
   "outputs": [
    {
     "name": "stdout",
     "output_type": "stream",
     "text": [
      "            yearID         HR\n",
      "count     5.000000   5.000000\n",
      "mean   2015.800000  33.800000\n",
      "std       0.447214   9.833616\n",
      "min    2015.000000  18.000000\n",
      "25%    2016.000000  31.000000\n",
      "50%    2016.000000  38.000000\n",
      "75%    2016.000000  39.000000\n",
      "max    2016.000000  43.000000\n",
      "\n"
     ]
    }
   ],
   "source": [
    "metrics1 = df.describe()\n",
    "print('{}\\n'.format(metrics1))"
   ]
  },
  {
   "cell_type": "code",
   "execution_count": 154,
   "id": "49e61b43-7f01-47f3-bd23-52c3c5da1726",
   "metadata": {},
   "outputs": [],
   "source": [
    "# hr_rbi = df[['HR','RBI']]\n",
    "# metrics2 = hr_rbi.describe()\n",
    "# print('{}\\n'.format(metrics2))"
   ]
  },
  {
   "cell_type": "markdown",
   "id": "7e8bf1da-638f-4270-ac9c-836c864b757d",
   "metadata": {},
   "source": [
    "Si può usare la keyword `percentiles`, che prende come argomento una lista di percentuali, che rappresentano le percentili che si vuole che ritornino."
   ]
  },
  {
   "cell_type": "code",
   "execution_count": 156,
   "id": "f3612305-54c4-4c47-83fe-04090b88e908",
   "metadata": {},
   "outputs": [],
   "source": [
    "# metrics1 = hr_rbi.describe(percentiles=[.5])\n",
    "# print('{}\\n'.format(metrics1))\n",
    "\n",
    "# metrics2 = hr_rbi.describe(percentiles=[.1])\n",
    "# print('{}\\n'.format(metrics2))\n",
    "\n",
    "# metrics3 = hr_rbi.describe(percentiles=[.2,.8])\n",
    "# print('{}\\n'.format(metrics3))"
   ]
  },
  {
   "cell_type": "markdown",
   "id": "9e844bb6-c66d-419d-ba0e-02a532e64557",
   "metadata": {},
   "source": [
    "## Categorical features\n",
    "Con le caratteristiche categoriche, non si calcolano metriche come media, deviazione standard, ecc. Invece, si usano i conteggi delle frequenze per descrivere una caratteristica categorica.\n",
    "<br><br>Usando la keyword `normalize` viene restituito le proporzioni di frequenza e la somma di tutte le proporzioni è uguale a 1."
   ]
  },
  {
   "cell_type": "code",
   "execution_count": 158,
   "id": "55437bdd-3bc8-484f-ae7e-8a1a8b8cdde1",
   "metadata": {},
   "outputs": [
    {
     "name": "stdout",
     "output_type": "stream",
     "text": [
      "bettsmo01    2\n",
      "canoro01     1\n",
      "cruzne02     1\n",
      "ortizda01    1\n",
      "Name: playerID, dtype: int64\n",
      "\n"
     ]
    }
   ],
   "source": [
    "p_ids = df['playerID']\n",
    "print('{}\\n'.format(p_ids.value_counts()))"
   ]
  },
  {
   "cell_type": "code",
   "execution_count": 159,
   "id": "f5cbb9ca-303e-4d85-95db-06c47993578b",
   "metadata": {},
   "outputs": [
    {
     "name": "stdout",
     "output_type": "stream",
     "text": [
      "bettsmo01    0.4\n",
      "canoro01     0.2\n",
      "cruzne02     0.2\n",
      "ortizda01    0.2\n",
      "Name: playerID, dtype: float64\n",
      "\n"
     ]
    }
   ],
   "source": [
    "print('{}\\n'.format(p_ids.value_counts(normalize=True)))"
   ]
  },
  {
   "cell_type": "code",
   "execution_count": 160,
   "id": "fbb4d9a7-6ce7-47e6-860a-45e52dce44af",
   "metadata": {},
   "outputs": [
    {
     "name": "stdout",
     "output_type": "stream",
     "text": [
      "canoro01     1\n",
      "cruzne02     1\n",
      "ortizda01    1\n",
      "bettsmo01    2\n",
      "Name: playerID, dtype: int64\n",
      "\n"
     ]
    }
   ],
   "source": [
    "print('{}\\n'.format(p_ids.value_counts(ascending=True)))"
   ]
  },
  {
   "cell_type": "markdown",
   "id": "bdc18fc0-9c63-4b95-a24a-e02df780307e",
   "metadata": {},
   "source": [
    "Se si vogliono solo i nomi di ogni categoria unica in una colonna, si può usare la funzione `unique` "
   ]
  },
  {
   "cell_type": "code",
   "execution_count": 162,
   "id": "3fcd23a2-554c-431a-86f4-36cd793252a3",
   "metadata": {},
   "outputs": [
    {
     "name": "stdout",
     "output_type": "stream",
     "text": [
      "array(['bettsmo01', 'canoro01', 'cruzne02', 'ortizda01'], dtype=object)\n",
      "\n"
     ]
    }
   ],
   "source": [
    "unique_players = df['playerID'].unique()\n",
    "print('{}\\n'.format(repr(unique_players)))"
   ]
  },
  {
   "cell_type": "code",
   "execution_count": 163,
   "id": "d457ae05-2d0a-4360-a8e5-647e4a49b324",
   "metadata": {},
   "outputs": [
    {
     "name": "stdout",
     "output_type": "stream",
     "text": [
      "array(['BOS', 'SEA'], dtype=object)\n",
      "\n"
     ]
    }
   ],
   "source": [
    "unique_teams = df['teamID'].unique()\n",
    "print('{}\\n'.format(repr(unique_teams)))"
   ]
  },
  {
   "cell_type": "markdown",
   "id": "5ec2a6c8-219e-4c3c-ad28-9e83fe5041d6",
   "metadata": {},
   "source": [
    "Le feature categoriche possono avere anche valori interi."
   ]
  },
  {
   "cell_type": "code",
   "execution_count": 164,
   "id": "774ebf3b-d362-42f8-9d8b-514c4e34bb9d",
   "metadata": {},
   "outputs": [
    {
     "name": "stdout",
     "output_type": "stream",
     "text": [
      "0    2016\n",
      "1    2016\n",
      "2    2016\n",
      "3    2016\n",
      "4    2015\n",
      "Name: yearID, dtype: int64\n",
      "\n"
     ]
    }
   ],
   "source": [
    "y_ids = df['yearID']\n",
    "print('{}\\n'.format(y_ids))\n",
    "\n"
   ]
  },
  {
   "cell_type": "code",
   "execution_count": 165,
   "id": "24a7c346-cc11-4b05-8473-5cad0aa8c3c7",
   "metadata": {},
   "outputs": [
    {
     "name": "stdout",
     "output_type": "stream",
     "text": [
      "array([2016, 2015], dtype=int64)\n",
      "\n",
      "2016    4\n",
      "2015    1\n",
      "Name: yearID, dtype: int64\n",
      "\n"
     ]
    }
   ],
   "source": [
    "print('{}\\n'.format(repr(y_ids.unique())))\n",
    "print('{}\\n'.format(y_ids.value_counts()))"
   ]
  },
  {
   "cell_type": "markdown",
   "id": "3b300895-ce55-413e-b08f-d97a2a7fe079",
   "metadata": {},
   "source": [
    "### Time to Code!\n",
    "- setta `summary_all` uguale a `player_df.describe` senza argomenti"
   ]
  },
  {
   "cell_type": "code",
   "execution_count": 169,
   "id": "ea5c2ac6-be1c-4311-9152-6b0587ae74c0",
   "metadata": {},
   "outputs": [],
   "source": [
    "# summary_all = player_df.describe()"
   ]
  },
  {
   "cell_type": "markdown",
   "id": "fe01917a-9fff-461d-9ef9-2d30d72d7e70",
   "metadata": {},
   "source": [
    "- setta `hr_df` uguale a `player_df[]` direttamente indicizzato con `HR`.\n",
    "- setta `summary_hr` uguale a `hr_df.describe` senza argomenti.\n",
    "- setta `low_high_10` uguale a `hr_df.describe` con `[.1,.9]` come argomento della keyword `percentiles`.\n"
   ]
  },
  {
   "cell_type": "code",
   "execution_count": 170,
   "id": "9973436e-e8a3-4640-a6db-2794b75a201f",
   "metadata": {},
   "outputs": [],
   "source": [
    "# hr_df = player_df['HR']\n",
    "# summary_hr = hr_df.describe()\n",
    "# low_high_10 = hr_df.describe(percentiles=[.1, .9])"
   ]
  },
  {
   "cell_type": "markdown",
   "id": "df9ef639-cbeb-4c7c-b72c-ede6b764c568",
   "metadata": {},
   "source": [
    "- setta `hr_counts` uguale a `hr_df.value_counts` senza argomenti.\n"
   ]
  },
  {
   "cell_type": "code",
   "execution_count": 171,
   "id": "c8c9bccd-e2aa-49b7-aa43-dd0066835426",
   "metadata": {},
   "outputs": [],
   "source": [
    "# hr_counts = hr_df.value_counts()"
   ]
  },
  {
   "cell_type": "markdown",
   "id": "f7c7afe6-9926-4977-86b1-5459c1b02b34",
   "metadata": {},
   "source": [
    "## Plotting\n",
    "### Basics\n",
    "La principale funzione usata per plottare DataFrame è `plot`. Questa funzione è usata insieme alla funzione `show` per produrre la visualizzazione del grafico."
   ]
  },
  {
   "cell_type": "code",
   "execution_count": 173,
   "id": "0fefbc71-2139-454b-b405-54f12bcc8c25",
   "metadata": {},
   "outputs": [
    {
     "name": "stdout",
     "output_type": "stream",
     "text": [
      "    playerID  yearID teamID  HR\n",
      "0  bettsmo01    2016    BOS  31\n",
      "1   canoro01    2016    SEA  39\n",
      "2   cruzne02    2016    SEA  43\n",
      "3  ortizda01    2016    BOS  38\n",
      "4  bettsmo01    2015    BOS  18\n",
      "\n"
     ]
    },
    {
     "data": {
      "image/png": "[encoded data removed]",
      "text/plain": [
       "<Figure size 432x288 with 1 Axes>"
      ]
     },
     "metadata": {
      "needs_background": "light"
     },
     "output_type": "display_data"
    }
   ],
   "source": [
    "# predefined df\n",
    "print('{}\\n'.format(df))\n",
    "\n",
    "df.plot(kind='line',x='yearID',y='HR')\n",
    "plt.show()"
   ]
  },
  {
   "cell_type": "markdown",
   "id": "326e6edf-6ffc-4cfd-aa22-4477cebe446d",
   "metadata": {},
   "source": [
    "Dopo aver chimato, `df.plot` che crea un grafico a linee, si usa `plt.show` per aprire una finestra separata contenente la visualizzazione della trama. Si può utilizzare `plt.savefig` per salvare il grafico in PNG o PDF."
   ]
  },
  {
   "cell_type": "code",
   "execution_count": 175,
   "id": "df16356d-e96b-4a3f-b735-716d2d2db740",
   "metadata": {},
   "outputs": [
    {
     "name": "stdout",
     "output_type": "stream",
     "text": [
      "    playerID  yearID teamID  HR\n",
      "0  bettsmo01    2016    BOS  31\n",
      "1   canoro01    2016    SEA  39\n",
      "2   cruzne02    2016    SEA  43\n",
      "3  ortizda01    2016    BOS  38\n",
      "4  bettsmo01    2015    BOS  18\n",
      "\n"
     ]
    },
    {
     "data": {
      "image/png": "[encoded data removed]",
      "text/plain": [
       "<Figure size 432x288 with 1 Axes>"
      ]
     },
     "metadata": {
      "needs_background": "light"
     },
     "output_type": "display_data"
    },
    {
     "data": {
      "text/plain": [
       "<Figure size 432x288 with 0 Axes>"
      ]
     },
     "metadata": {},
     "output_type": "display_data"
    }
   ],
   "source": [
    "# predefined df\n",
    "print('{}\\n'.format(df))\n",
    "\n",
    "df.plot(kind='line',x='yearID',y='HR')\n",
    "plt.show()\n",
    "plt.savefig('legend.png')  # save to PNG file"
   ]
  },
  {
   "cell_type": "markdown",
   "id": "15394511-bc6d-4965-9786-33b029aa8595",
   "metadata": {},
   "source": [
    "Per aggiungere il titolo del grafico e degli assi, si può fare manualmente usando `pyplot`."
   ]
  },
  {
   "cell_type": "code",
   "execution_count": 176,
   "id": "47a6d0f7-4244-4cad-967b-6dc977239628",
   "metadata": {},
   "outputs": [
    {
     "name": "stdout",
     "output_type": "stream",
     "text": [
      "    playerID  yearID teamID  HR\n",
      "0  bettsmo01    2016    BOS  31\n",
      "1   canoro01    2016    SEA  39\n",
      "2   cruzne02    2016    SEA  43\n",
      "3  ortizda01    2016    BOS  38\n",
      "4  bettsmo01    2015    BOS  18\n",
      "\n"
     ]
    },
    {
     "data": {
      "image/png": "[encoded data removed]",
      "text/plain": [
       "<Figure size 432x288 with 1 Axes>"
      ]
     },
     "metadata": {
      "needs_background": "light"
     },
     "output_type": "display_data"
    }
   ],
   "source": [
    "# predefined df\n",
    "print('{}\\n'.format(df))\n",
    "\n",
    "df.plot(kind='line',x='yearID',y='HR')\n",
    "plt.title('HR vs. Year')\n",
    "plt.xlabel('Year')\n",
    "plt.ylabel('HR Count')\n",
    "plt.show()"
   ]
  },
  {
   "cell_type": "markdown",
   "id": "788f4b60-4807-435d-8831-f87fd88497fa",
   "metadata": {},
   "source": [
    "Si usano le funzioni `title`, `xlabel` e `ylabel`."
   ]
  },
  {
   "cell_type": "markdown",
   "id": "c1ebb4c2-684a-4560-8f5b-1d1ee6d65a9d",
   "metadata": {},
   "source": [
    "### Other plots\n",
    "In più al grafico a linee, si possono creare altri grafici come istogrammi o boxplot usando la keyword `kind` in `plot`."
   ]
  },
  {
   "cell_type": "code",
   "execution_count": 178,
   "id": "77fe9900-0e24-4239-93d5-63e9c87e7db4",
   "metadata": {},
   "outputs": [
    {
     "name": "stdout",
     "output_type": "stream",
     "text": [
      "    playerID  yearID teamID  HR\n",
      "0  bettsmo01    2016    BOS  31\n",
      "1   canoro01    2016    SEA  39\n",
      "2   cruzne02    2016    SEA  43\n",
      "3  ortizda01    2016    BOS  38\n",
      "4  bettsmo01    2015    BOS  18\n",
      "\n"
     ]
    },
    {
     "data": {
      "image/png": "[encoded data removed]",
      "text/plain": [
       "<Figure size 432x288 with 1 Axes>"
      ]
     },
     "metadata": {
      "needs_background": "light"
     },
     "output_type": "display_data"
    }
   ],
   "source": [
    "# predefined df\n",
    "print('{}\\n'.format(df))\n",
    "\n",
    "df.plot(kind='bar',y='HR')\n",
    "plt.ylabel('Frequency')\n",
    "plt.show()"
   ]
  },
  {
   "cell_type": "code",
   "execution_count": 179,
   "id": "03f1ce2d-8471-43ac-a39c-9682876d73ab",
   "metadata": {},
   "outputs": [
    {
     "name": "stdout",
     "output_type": "stream",
     "text": [
      "    playerID  yearID teamID  HR\n",
      "0  bettsmo01    2016    BOS  31\n",
      "1   canoro01    2016    SEA  39\n",
      "2   cruzne02    2016    SEA  43\n",
      "3  ortizda01    2016    BOS  38\n",
      "4  bettsmo01    2015    BOS  18\n",
      "\n"
     ]
    },
    {
     "data": {
      "image/png": "[encoded data removed]",
      "text/plain": [
       "<Figure size 432x288 with 1 Axes>"
      ]
     },
     "metadata": {
      "needs_background": "light"
     },
     "output_type": "display_data"
    }
   ],
   "source": [
    "# predefined df\n",
    "print('{}\\n'.format(df))\n",
    "\n",
    "df.plot(kind='box',y='HR')\n",
    "plt.show()"
   ]
  },
  {
   "cell_type": "markdown",
   "id": "22aad3dc-ce16-45f1-9929-b573531b94b9",
   "metadata": {},
   "source": [
    "https://pandas.pydata.org/pandas-docs/stable/reference/api/pandas.DataFrame.plot.html#pandas.DataFrame.plot"
   ]
  },
  {
   "cell_type": "markdown",
   "id": "4a9c627e-9d34-4d88-81ad-d942db8f07d5",
   "metadata": {},
   "source": [
    "### Multiple features\n",
    "Si può anche tracciare più feature sullo stesso grafico. Questo può essere estremamente utile quando si vuole che le visualizzazioni confrontino diverse funzionalità.\n"
   ]
  },
  {
   "cell_type": "code",
   "execution_count": 190,
   "id": "54f9109d-2675-4025-a703-53d9a5aa0e8b",
   "metadata": {},
   "outputs": [
    {
     "name": "stdout",
     "output_type": "stream",
     "text": [
      "    playerID  yearID teamID  HR\n",
      "0  bettsmo01    2016    BOS  31\n",
      "1   canoro01    2016    SEA  39\n",
      "2   cruzne02    2016    SEA  43\n",
      "3  ortizda01    2016    BOS  38\n",
      "4  bettsmo01    2015    BOS  18\n",
      "\n"
     ]
    }
   ],
   "source": [
    "## predefined df\n",
    "print('{}\\n'.format(df))"
   ]
  },
  {
   "cell_type": "code",
   "execution_count": 191,
   "id": "3318be43-7ade-4ce5-b6d6-1ff0ac310b24",
   "metadata": {},
   "outputs": [
    {
     "data": {
      "image/png": "[encoded data removed]",
      "text/plain": [
       "<IPython.core.display.Image object>"
      ]
     },
     "execution_count": 191,
     "metadata": {},
     "output_type": "execute_result"
    }
   ],
   "source": [
    "## gca stands for 'get current axis'\n",
    "# ax = plt.gca()\n",
    "\n",
    "# df.plot(kind='line',x='yearID',y='HR',ax=ax)\n",
    "# df.plot(kind='line',x='yearID',y='BB', color='red', ax=ax)\n",
    "# plt.show()\n",
    "Image(\"plot1.png\")"
   ]
  },
  {
   "cell_type": "code",
   "execution_count": 189,
   "id": "8929380d-3aa6-4828-a666-902560687254",
   "metadata": {},
   "outputs": [
    {
     "name": "stdout",
     "output_type": "stream",
     "text": [
      "    playerID  yearID teamID  HR\n",
      "0  bettsmo01    2016    BOS  31\n",
      "1   canoro01    2016    SEA  39\n",
      "2   cruzne02    2016    SEA  43\n",
      "3  ortizda01    2016    BOS  38\n",
      "4  bettsmo01    2015    BOS  18\n",
      "\n"
     ]
    }
   ],
   "source": [
    "## predefined df\n",
    "print('{}\\n'.format(df))"
   ]
  },
  {
   "cell_type": "code",
   "execution_count": 192,
   "id": "b95e5128-bda6-4b97-a728-9905acf6b7a2",
   "metadata": {},
   "outputs": [
    {
     "data": {
      "image/png": "[encoded data removed]",
      "text/plain": [
       "<IPython.core.display.Image object>"
      ]
     },
     "execution_count": 192,
     "metadata": {},
     "output_type": "execute_result"
    }
   ],
   "source": [
    "# df.plot(kind='box')\n",
    "# plt.show()\n",
    "Image(\"plot2.png\")"
   ]
  },
  {
   "cell_type": "markdown",
   "id": "63699ef5-19eb-4019-b22c-540108f75d1f",
   "metadata": {},
   "source": [
    "## To NumPy\n",
    "### Machine Learning\n",
    "I `DataFrame` sono ideali per archiviare set di dati ed eseguire analisi dei dati in Python. Tuttavia, la maggior parte dei framework di `machine learning` (ad esempio `TensorFlow`) funziona direttamente con i dati `NumPy`. \n",
    "<br>Inoltre, i dati NumPy utilizzati come input per i modelli di machine learning devono contenere esclusivamente valori quantitativi.\n",
    "\n",
    "Pertanto, per utilizzare i dati di un DataFrame con un modello di machine learning,\n",
    "- è necessario convertire il DataFrame in una matrice NumPy di dati quantitativi. \n",
    "\n",
    "Quindi anche le caratteristiche categoriche di un DataFrame, come il genere e il luogo di nascita, devono essere convertite in valori quantitativi."
   ]
  },
  {
   "cell_type": "markdown",
   "id": "749697b0-8f4f-4da9-808f-99a4a1674774",
   "metadata": {},
   "source": [
    "### Indicator features\n",
    "Quando si converte un DataFrame in una matrice NumPy di dati quantitativi, è necessario trovare un modo per modificare le feature categoriche nel DataFrame.\n",
    "<br><br>\n",
    "Il modo più semplice per farlo è convertire ogni caratteristica categorica in un set di `funzionalità indicatore` per ciascuna delle sue categorie. La caratteristica indicatore per una categoria specifica rappresenta se un determinato campione di dati appartiene o meno a tale categoria."
   ]
  },
  {
   "cell_type": "code",
   "execution_count": 196,
   "id": "60f3a538-18e9-48af-885b-8e11929c22f9",
   "metadata": {},
   "outputs": [],
   "source": [
    "## predefined non-indicator DataFrame\n",
    "#print('{}\\n'.format(df))\n",
    "\n",
    "## predefined indicator Dataframe\n",
    "# print('{}\\n'.format(indicator_df))"
   ]
  },
  {
   "cell_type": "code",
   "execution_count": 197,
   "id": "f5ca7818-fbd3-4851-bf89-054be7404e71",
   "metadata": {},
   "outputs": [
    {
     "data": {
      "image/png": "[encoded data removed]",
      "text/plain": [
       "<IPython.core.display.Image object>"
      ]
     },
     "execution_count": 197,
     "metadata": {},
     "output_type": "execute_result"
    }
   ],
   "source": [
    "Image(\"tonumpy.png\")"
   ]
  },
  {
   "cell_type": "markdown",
   "id": "1f34f073-4448-4a47-abae-23f8b90ce192",
   "metadata": {},
   "source": [
    "La colonna ha `1` quando la caratteristica gli appartiene e `0` quando non gli appartiene."
   ]
  },
  {
   "cell_type": "markdown",
   "id": "4b8fda1a-5f36-4b66-bedc-f16cacc99fd3",
   "metadata": {},
   "source": [
    "### Converting to indicators\n",
    "In Pandas, si converte ogni caratteristica categorica di un DataFrame in caratteristiche indicatore con la funzione `get_dummies`. La funzione accetta un oggetto DataFrame come argomento obbligatorio e restituisce il DataFrame con ciascuna delle relative caratteristiche categoriche converitite in feature indicatori."
   ]
  },
  {
   "cell_type": "code",
   "execution_count": 199,
   "id": "31ed779a-be40-42cf-ae76-8e9e7b0c56fd",
   "metadata": {},
   "outputs": [],
   "source": [
    "## predefined df\n",
    "# print('{}\\n'.format(df))"
   ]
  },
  {
   "cell_type": "code",
   "execution_count": 200,
   "id": "17e4fe62-ad01-43a5-a2c9-b54513ea7988",
   "metadata": {},
   "outputs": [],
   "source": [
    "# converted = pd.get_dummies(df)\n",
    "# print('{}\\n'.format(converted.columns))"
   ]
  },
  {
   "cell_type": "code",
   "execution_count": 201,
   "id": "aa147dc6-5168-4146-bd73-d3f5ce3edf31",
   "metadata": {},
   "outputs": [],
   "source": [
    "# print('{}\\n'.format(converted[['teamID_BOS',\n",
    "#                                'teamID_PIT']]))"
   ]
  },
  {
   "cell_type": "code",
   "execution_count": 202,
   "id": "31be0ef1-bb1e-405f-b94a-4d11889af3b4",
   "metadata": {},
   "outputs": [],
   "source": [
    "# print('{}\\n'.format(converted[['lgID_AL',\n",
    "#                                'lgID_NL']]))"
   ]
  },
  {
   "cell_type": "code",
   "execution_count": 203,
   "id": "6e3ba6fe-7d4f-449b-8ca1-0c915c9c2c2b",
   "metadata": {},
   "outputs": [
    {
     "data": {
      "image/png": "[encoded data removed]",
      "text/plain": [
       "<IPython.core.display.Image object>"
      ]
     },
     "execution_count": 203,
     "metadata": {},
     "output_type": "execute_result"
    }
   ],
   "source": [
    "Image(\"getdummies_tonumpy.png\")"
   ]
  },
  {
   "cell_type": "markdown",
   "id": "036e354f-a01d-4a3d-89d4-cefb0a25ff54",
   "metadata": {},
   "source": [
    "Si noti che le feature dell'indicatore hanno l'etichetta della feature categorica originale come prefisso. In questo modo è facile vedere da dove proviene originariamente ogni funzione dell'indicatore."
   ]
  },
  {
   "cell_type": "markdown",
   "id": "7727a607-7502-48fa-967c-5c2baca1a67b",
   "metadata": {},
   "source": [
    "### Converting NumPy\n",
    "Dopo aver convertito tutte le caratteristiche categoriche a caratteristiche indicatori, il DataFrame dovrebbe avere tutti dati quantitativi. Si può convertire in un array NumPy usando la funzione `values`."
   ]
  },
  {
   "cell_type": "code",
   "execution_count": 204,
   "id": "c268e769-ee9a-4392-849b-330a22011632",
   "metadata": {},
   "outputs": [],
   "source": [
    "## predefined indicator df\n",
    "# print('{}\\n'.format(df))\n",
    "\n",
    "# n_matrix = df.values\n",
    "# print(repr(n_matrix))"
   ]
  },
  {
   "cell_type": "code",
   "execution_count": 205,
   "id": "e3cbc395-0b8c-48b6-b92f-fe909424cba5",
   "metadata": {},
   "outputs": [
    {
     "data": {
      "image/png": "[encoded data removed]",
      "text/plain": [
       "<IPython.core.display.Image object>"
      ]
     },
     "execution_count": 205,
     "metadata": {},
     "output_type": "execute_result"
    }
   ],
   "source": [
    "Image(\"converting_numpy_to_numpy.png\")"
   ]
  },
  {
   "cell_type": "markdown",
   "id": "eb1e0ec1-805b-4fc5-bdf7-4efe6b5bf20e",
   "metadata": {},
   "source": [
    "Le righe e le colonne dell'output della matrice corrispondo alle righe e alle colonne del DataFrame. "
   ]
  },
  {
   "cell_type": "markdown",
   "id": "22554fa1-f988-4c86-8cec-1e30ef185de2",
   "metadata": {},
   "source": [
    "### Time to Code!\n",
    "- Filtra `df` per le righe dove `yearID` è inferiore di 2000, poi resetta `df` uguale all'output filtrato."
   ]
  },
  {
   "cell_type": "code",
   "execution_count": 207,
   "id": "a2f7d6b1-3276-42a3-bb56-3e940a9e714b",
   "metadata": {},
   "outputs": [],
   "source": [
    "# df = df[df['yearID'] >= 2000]"
   ]
  },
  {
   "cell_type": "markdown",
   "id": "46d785d0-c365-471e-bb12-fabefd4d40e3",
   "metadata": {},
   "source": [
    "- setta `df` uguale a `df.dropna` applicato senza argomenti"
   ]
  },
  {
   "cell_type": "code",
   "execution_count": 208,
   "id": "065a1599-f1ae-497f-a39b-c361b4ba61bf",
   "metadata": {},
   "outputs": [],
   "source": [
    "# df = df.dropna()"
   ]
  },
  {
   "cell_type": "markdown",
   "id": "ff0053f6-b5bd-4a50-8f84-2abdffc86c88",
   "metadata": {},
   "source": [
    "- Setta `df` uguale a `pd.get_dummies` con `df` come unico argomento.\n",
    "- Setta `matrix` uguale a `df.values`."
   ]
  },
  {
   "cell_type": "code",
   "execution_count": 209,
   "id": "f24adb3c-76da-4d2d-9d03-9fd75653f796",
   "metadata": {},
   "outputs": [],
   "source": [
    "# df = pd.get_dummies(df)\n",
    "# matrix = df.values"
   ]
  }
 ],
 "metadata": {
  "kernelspec": {
   "display_name": "Python 3 (ipykernel)",
   "language": "python",
   "name": "python3"
  },
  "language_info": {
   "codemirror_mode": {
    "name": "ipython",
    "version": 3
   },
   "file_extension": ".py",
   "mimetype": "text/x-python",
   "name": "python",
   "nbconvert_exporter": "python",
   "pygments_lexer": "ipython3",
   "version": "3.9.7"
  },
  "toc-showtags": false
 },
 "nbformat": 4,
 "nbformat_minor": 5
}
