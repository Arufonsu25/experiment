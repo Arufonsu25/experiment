{
 "cells": [
  {
   "cell_type": "markdown",
   "id": "c9cebc58-d39e-4bf7-84a7-a0aa85262775",
   "metadata": {},
   "source": [
    "# Overview"
   ]
  },
  {
   "cell_type": "markdown",
   "id": "897425d3-6496-413a-8b8b-9adf7cdd21b8",
   "metadata": {},
   "source": [
    "## Che cos'è il Machine Learning?\n",
    "Si occupa di algoritmi  e  sistemi che eseguono compiti specifici utilizzando modelli e inferenze.\n",
    "<br><br>\n",
    "Esistono diversi casi d'uso per il machine learning:\n",
    "- dal riconoscimento delle immagini,\n",
    "- alla generazione di testo.\n",
    "\n",
    "La maggior parte delle attività di machine learning si generalizza a uno dei due tipi di apprendimento:\n",
    "### apprendimento supervisionato\n",
    "- che utilizza dati etichettati per il training di un modello.<br>Le etichette rappresentano la classe/categoria a cui appartiene ogni classe di dati.<br>Dopo l'addestramento il modello dovrebbe essere in grado di prevedere le etichette per le nuove osservazioni dei dati.<br><br>Esempio: per il riconoscimento di un'immagine con un elemento si etichetta con sì le immagini con il determinato elemento e con no, quelli che non c'è l'hanno.\n",
    "\n",
    "\n",
    "### apprendimento non supervisionato\n",
    "- che utilizza dati non etichettati per consentire a un modello di apprendere le relazioni tra le osservazioni dei dati e raccogliere i modelli sottostanti.<br>La maggior parte dei dati non sono etichettati, quindi l'apprendimento supervisinato è un metodo utile di apprendimento automatico.<br><br>Esempio: si faccia riferimento all'esempio precedente ma senza l'azione di etichettare le immagini. <br>Usando questo tipo di apprendimento il modello è in grado di cogliere le differenze tra le immagini con un elemento o meno (differenze cromatiche, orientamento pixel).\n",
    "\n",
    "Se è possibile ottenere set di dati di formazione etichettati abbastanza grandi, l'apprendimento supervisionato è il metodo migliore.<br>\n",
    "- È inoltre necessario scegliere l'architettura del modello appropriata per l'attività,\n",
    "- ed essere in grado di elaborare i dati in una pipeline di training\n",
    "- e interpretare/analizzare i risultati del modello. "
   ]
  },
  {
   "cell_type": "markdown",
   "id": "8c1a565e-54d0-4574-a697-c0cbe61e052e",
   "metadata": {},
   "source": [
    "## ML vs AI vs Data Science\n",
    "- Il ML è un sottoinsieme dell'intelligenza artificiale e si sovrappone pesantemente alla Data Science.\n",
    "- AI si occupa di una qualsiasi tencnica che consenta alle macchine di possedere un'intelligenza simile a quella umana.\n",
    "- il ML è una delle principali tecniche utilizzate per creare l'intelligenza artificiale\n",
    "- La Data Science si occupa di raccogliere informazioni dai set di dati. Nel tempo il ML si è infiltrato nella Data Science."
   ]
  },
  {
   "cell_type": "markdown",
   "id": "213f99f9-ccca-451c-bcaa-148f90ec1e69",
   "metadata": {},
   "source": [
    "## Le 7 fasi del processo di ML\n",
    "1) **Data Collection**: è il processo di estrazione di set dati non elaborati per l'attività di ML. E' il passaggio più importante perchè definisce la qualità del dataset che si verrà a creare<br><br>\n",
    "2) **Data Processing and Preparation**: Una volta che i dati sono stati raccolti è necessario elaborarli e accertarsi che siano in un formato utilizzabile per il training di un modello di ML. Ciò include la gestione dei valori NaN, la gestione di valori anomali, ecc.<br><br>\n",
    "3) **Feature Engineering**: Una volta racccolto ed elaborato il set di dati , sarà necessario trasformare alcune delle funzionalità pe ottimizzare il modo in cui il modello può essere addestrato sui dati.<br><br>\n",
    "4) **Model Selection**: In base al set di dati si sceglierà l'architettura del modello di dati da utilizzare. La maggior parte delle attività può essere eseguita a fondo con un'architettura esistente o con una cominazione di architetture modello.<br><br>\n",
    "5) **Model Training and Data Pipeline**: Dopo aver selezionato l'architettura del modello verrà creata una pipeline di dati per il training del modello. Con questo si intende creare un flusso continuo di ossservazioni di dati per addestrare in modo efficiente il modello.<br><br>\n",
    "6) **Model Validation**: Dopo aver eseguito il training del modello per un periodo di tempo sufficiente, sarà necessario convalidare le prestazioni del modello su una parte tenuta del set di dati complessivo. \n",
    "- Questi dati devono provenire dalla stessa distribuzione  sottostante del set di dati di training,\n",
    "- ma devono essere dati diversi che il modello non abbia mai visto prima.<br><br>\n",
    "\n",
    "7) **Model Persistence**: Infine è necessario essere in grado di salvare correttamente i pesi del modello ed eventualmente spingere il modello in produzione.<br>Questo significa impostare un processo con cui  i nuovi utenti possono facilmente utilizzare il modello pre-addestrato per fare previsioni.<br><br>"
   ]
  }
 ],
 "metadata": {
  "kernelspec": {
   "display_name": "Python 3 (ipykernel)",
   "language": "python",
   "name": "python3"
  },
  "language_info": {
   "codemirror_mode": {
    "name": "ipython",
    "version": 3
   },
   "file_extension": ".py",
   "mimetype": "text/x-python",
   "name": "python",
   "nbconvert_exporter": "python",
   "pygments_lexer": "ipython3",
   "version": "3.9.7"
  }
 },
 "nbformat": 4,
 "nbformat_minor": 5
}
