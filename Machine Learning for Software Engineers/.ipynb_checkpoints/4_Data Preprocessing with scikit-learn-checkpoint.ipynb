{
 "cells": [
  {
   "cell_type": "code",
   "execution_count": 2,
   "id": "8baeb8f2-e0c6-4f54-bbaf-bc5abf1dd17b",
   "metadata": {},
   "outputs": [],
   "source": [
    "from IPython.display import Image"
   ]
  },
  {
   "cell_type": "markdown",
   "id": "b01e008f-7df7-485b-abc1-52d95c8695d1",
   "metadata": {},
   "source": [
    "# Data Preprocessing with scikit-learn"
   ]
  },
  {
   "cell_type": "markdown",
   "id": "3916a4ed-f0f0-4489-8502-1c4a1862f449",
   "metadata": {},
   "source": [
    "## Introduction\n",
    "### ML engineering vs. data science\n",
    "Il compito principale degli ingegneri di Machine Learning è quello di analizzare prima i dati per le tendenze praticabili, quindi creare una pipeline di input efficiente per il training di un modello. <br> Per far ciò si fa uso delle librerie di `NumPy` e `Pandas`.<br><br>\n",
    "Mentre `NumPy` e `Pandas` sono utilizzate in Data Manipolation, la sezione `Data Preprocessing` utilizzerà `scikit/learn`.\n",
    "<br><br> I data scientist tendono a lavorare su set di dati più piccoli rispetto agli ingegneri di Machine Learning e il loro obiettivo principale è analizzare i dati ed estrarre rapidamente risultati utilizzabili. Pertanto, si concentrano maggiormente sui modelli di inferenza dei dati tradizionali (trovati in scikit-learn), piuttosto che sulle reti neurali profonde."
   ]
  },
  {
   "cell_type": "markdown",
   "id": "a46a407e-8fb1-437c-8859-0149cece1253",
   "metadata": {},
   "source": [
    "## Standardizing Data\n",
    "### Standard data format\n",
    "I dati possono contenere tutti i tipi di valori diversi. Es:\n",
    "- i tempi di sprint olimpici dei 100 metri andrano da 9,5 a 10,5 secondi,\n",
    "- mentre il conteggio delle calorie può variare da 1500 a 3000 calorie.\n",
    "- Anche i dati che misurano le stesse quantità possono variare in valore (peso in kg, o in libbre)\n",
    "\n",
    "Quando i dati possono assumere qualsiasi intervallo di valori, l'interpretazione è difficile. I data scientist convertiranno i dati in un formato standard per renderli più comprensibili.\n",
    "<br>Il formato standard si riferisce ai dati che hanno:\n",
    "- 0 media \n",
    "- e varianza unitaria, cioè deviazione standard = 1.\n",
    "\n",
    "La `standardizzazione` dei dati è un processo abbastanza semplice.\n",
    "- Per ogni valore di x, si sottrae la media complessiva dei dati `μ` e si divide per la deviazione standard complessiva `σ`.\n",
    "Il nuovo valore `z` rappresenta il valore dei dati standardizzato."
   ]
  },
  {
   "cell_type": "code",
   "execution_count": 2,
   "id": "456c85cd-b96c-4858-be30-25f7fcd3bbdd",
   "metadata": {},
   "outputs": [
    {
     "data": {
      "image/png": "[encoded data removed]",
      "text/plain": [
       "<IPython.core.display.Image object>"
      ]
     },
     "execution_count": 2,
     "metadata": {},
     "output_type": "execute_result"
    }
   ],
   "source": [
    "Image(\"standardizzazione.png\")"
   ]
  },
  {
   "cell_type": "markdown",
   "id": "4010feaa-7998-4c9e-bce3-a2036497b2c6",
   "metadata": {},
   "source": [
    "### NumPy and scikit-learn\n",
    "Per la maggior parte delle funzioni scikit-learn, i dati di input si presentano sotto forma di un `array NumPy`:\n",
    "- Le righe dell'array rappresentano le singole osservazioni dei dati, \n",
    "- ogni colonna rappresenta una particolare caratteristica dei dati.\n",
    "\n",
    "Il modulo di data preprocessing è chiamato `sklearn.preprocessing`. Una delle funzioni in questo modulo, `scale`, applica la standardizzazione dei dati di un deteterminato asse di una matrice NumPy."
   ]
  },
  {
   "cell_type": "code",
   "execution_count": 6,
   "id": "ffe409d4-1cce-4786-9b3d-c3d6cafb8d49",
   "metadata": {},
   "outputs": [],
   "source": [
    "## predefined pizza data\n",
    "# Newline to separate print statements\n",
    "# print('{}\\n'.format(repr(pizza_data)))"
   ]
  },
  {
   "cell_type": "code",
   "execution_count": 7,
   "id": "f9398790-7eb7-4fba-a26b-db5eca051b6a",
   "metadata": {},
   "outputs": [],
   "source": [
    "## import del modulo scale\n",
    "# from sklearn.preprocessing import scale"
   ]
  },
  {
   "cell_type": "code",
   "execution_count": 9,
   "id": "b707ab5b-30ab-4329-93e1-52391999a6dc",
   "metadata": {},
   "outputs": [],
   "source": [
    "## Standardizing each column of pizza_data\n",
    "# col_standardized = scale(pizza_data)\n",
    "# print('{}\\n'.format(repr(col_standardized)))"
   ]
  },
  {
   "cell_type": "code",
   "execution_count": 10,
   "id": "f9256057-47c6-44a4-9a15-1379b0932917",
   "metadata": {},
   "outputs": [],
   "source": [
    "## Standardizing each column of pizza_data\n",
    "# col_standardized = scale(pizza_data)\n",
    "# print('{}\\n'.format(repr(col_standardized)))"
   ]
  },
  {
   "cell_type": "code",
   "execution_count": 13,
   "id": "72e11ed8-d616-4aa4-b451-7e3a81b63097",
   "metadata": {
    "tags": []
   },
   "outputs": [],
   "source": [
    "## Column means (rounded to nearest thousandth)\n",
    "# col_means = col_standardized.mean(axis=0).round(decimals=3)\n",
    "# print('{}\\n'.format(repr(col_means)))"
   ]
  },
  {
   "cell_type": "code",
   "execution_count": 14,
   "id": "fed96d09-a958-41fa-a972-e3d31b31eed3",
   "metadata": {},
   "outputs": [],
   "source": [
    "## Column standard deviations\n",
    "# col_stds = col_standardized.std(axis=0)\n",
    "# print('{}\\n'.format(repr(col_stds)))"
   ]
  },
  {
   "cell_type": "code",
   "execution_count": 17,
   "id": "47d8f159-9508-40da-a463-559c4e842b25",
   "metadata": {},
   "outputs": [
    {
     "data": {
      "image/png": "[encoded data removed]",
      "text/plain": [
       "<IPython.core.display.Image object>"
      ]
     },
     "execution_count": 17,
     "metadata": {},
     "output_type": "execute_result"
    }
   ],
   "source": [
    "Image(\"scale_pizzadata.png\")"
   ]
  },
  {
   "cell_type": "markdown",
   "id": "81868046-ceea-45bc-a6c2-14e93a012c65",
   "metadata": {},
   "source": [
    "In genere si standardizzano i dati in modo indipendente in ogni catteristica dell'array. In questo modo, si può vedere quanto la deviazione standard è il valore della caratteristica di una particolare osservazione dalla media.\n",
    "\n",
    "Per esempio: la seconda osservazione di `pizza_data` ha un peso netto di 1,6 deviazione standard al di sopra del peso medio della pizza nel set di dati.\n",
    "\n",
    "Se bisogna standardizzare i dati tra le righe, si può impostare l'argomento della keyword di `axis`, nella funzione `scale`, uguale a `1`. Questo potrebbe essere il caso di quando si analizzano i dati all'interno delle osservazioni, piuttosto che all'interno delle caratteristiche."
   ]
  },
  {
   "cell_type": "markdown",
   "id": "b9415ea2-368c-43f5-b5ad-fde3bcfc00de",
   "metadata": {},
   "source": [
    "### Time to Code!\n",
    "- setta `scaled_data` uguale a `scale` applicato con `data` come unico argomento."
   ]
  },
  {
   "cell_type": "code",
   "execution_count": 18,
   "id": "ec29ef0a-70fe-4e88-8c4b-d7bd5a442db3",
   "metadata": {},
   "outputs": [],
   "source": [
    "def standardize_data(data):\n",
    "    scaled_data = scale(data)\n",
    "    return scaled_data"
   ]
  },
  {
   "cell_type": "markdown",
   "id": "c59cf0b9-ff60-470d-854c-2e73b25db067",
   "metadata": {},
   "source": [
    "## Data Range\n",
    "### Range scaling\n",
    "Oltre standardizzare i dati, si possono anche ridimensionarli comprimendoli in un intervallo fisso. Uno dei maggiori casi d'uso è la compressione dei dati nell'intervallo `[0,1]` che permette di visualizzare i dati in termini di proporzioni, o percenutali.\n",
    "<br><br>La formula per il ridimensionamento in base ad un intervallo è divisa in 2 fasi.\n",
    "- per un dato valore di dati, `x`, si calcoli prima la proporzione del valore rispetto al min e al max dei dati."
   ]
  },
  {
   "cell_type": "code",
   "execution_count": 19,
   "id": "434dad8e-10b5-433e-a796-c98c85a9b152",
   "metadata": {},
   "outputs": [
    {
     "data": {
      "image/png": "[encoded data removed]",
      "text/plain": [
       "<IPython.core.display.Image object>"
      ]
     },
     "execution_count": 19,
     "metadata": {},
     "output_type": "execute_result"
    }
   ],
   "source": [
    "Image(\"ridimensionamento.png\")"
   ]
  },
  {
   "cell_type": "markdown",
   "id": "23701dc3-3fe5-4d0a-9d02-893f0817c6f7",
   "metadata": {},
   "source": [
    "La formula sopra calcola la proporzione tra il valore dei dati. Questo funziona solo se non tutti i valori dei dati sono uguali: il valore massimo `non coincide` con il valore minimo."
   ]
  },
  {
   "cell_type": "markdown",
   "id": "4092aed2-60ec-4c97-94e9-276a6a21eca0",
   "metadata": {},
   "source": [
    "Si usa quindi la proporzione del valore per scalare all'intervallo specificato, `[‎r‎Min‎, r‎Max‎‎]`. \n",
    "<br>La formula seguente calcola il nuovo valore scalato, `xscala`.\n",
    "\n"
   ]
  },
  {
   "cell_type": "code",
   "execution_count": 20,
   "id": "ba0ed857-0acd-4153-be66-83b474588a80",
   "metadata": {},
   "outputs": [
    {
     "data": {
      "image/png": "[encoded data removed]",
      "text/plain": [
       "<IPython.core.display.Image object>"
      ]
     },
     "execution_count": 20,
     "metadata": {},
     "output_type": "execute_result"
    }
   ],
   "source": [
    "Image(\"ridimensionamento1.png\")"
   ]
  },
  {
   "cell_type": "markdown",
   "id": "3669bf6d-3b5d-459c-a0ff-dc6ea0678730",
   "metadata": {},
   "source": [
    "## Range compression in scikit-learn\n",
    "La libreria `scikit-learn` fornisce una varietà di trasformatori. Mentre nel capitolo precedente si è usato una singola funzione, `scale`, per eseguire la standardizzazione dei dati, i capitoli rimanenti si concentreranno sull'utilizzo di questi moduli trasformatori.\n",
    "<br><br>Il modulo `MinMaxScaler` esegue la compressione dell'intervallo utilizzando la formula sopra. In particolare ridimensiona ogni colonnna dei dati in un determinato intervallo.\n",
    "<br><br>L'oggeto `MinMaxScaler` contiene una funzine chiamata `fit_transform`, che permette di prendere in input un array di dati e poi di restituire dei dati ridimensionati. La funzione è una combinazione dell'oggetto `fit` e della funzione `transform`, dove il primo prende in un array di dati di input e il secondo trasforma un array in base ai dati dall'input alla funzione `fit`."
   ]
  },
  {
   "cell_type": "code",
   "execution_count": 21,
   "id": "197a3f7b-3ee4-49ed-acd5-1d826f6e3d78",
   "metadata": {},
   "outputs": [],
   "source": [
    "## predefined data\n",
    "# print('{}\\n'.format(repr(data)))"
   ]
  },
  {
   "cell_type": "code",
   "execution_count": 24,
   "id": "730b035e-555a-420a-8628-277b3e28ad63",
   "metadata": {},
   "outputs": [],
   "source": [
    "# from sklearn.preprocessing import MinMaxScaler\n",
    "# default_scaler = MinMaxScaler() # the default range is [0,1]\n",
    "# transformed = default_scaler.fit_transform(data)\n",
    "# print('{}\\n'.format(repr(transformed)))"
   ]
  },
  {
   "cell_type": "code",
   "execution_count": 31,
   "id": "b81cf566-0582-4e61-abd2-77e28eedd17d",
   "metadata": {},
   "outputs": [],
   "source": [
    "# custom_scaler = MinMaxScaler(feature_range=(-2, 3))\n",
    "# transformed = custom_scaler.fit_transform(data)\n",
    "# print('{}\\n'.format(repr(transformed)))"
   ]
  },
  {
   "cell_type": "code",
   "execution_count": 23,
   "id": "99462361-8d0f-4f5d-b2af-3e8f32586099",
   "metadata": {},
   "outputs": [
    {
     "data": {
      "image/png": "[encoded data removed]",
      "text/plain": [
       "<IPython.core.display.Image object>"
      ]
     },
     "execution_count": 23,
     "metadata": {},
     "output_type": "execute_result"
    }
   ],
   "source": [
    "Image(\"MinMaxScaler.png\")"
   ]
  },
  {
   "cell_type": "markdown",
   "id": "1fe4c3f5-f910-4d9c-9eb1-75c51560d057",
   "metadata": {},
   "source": [
    "Ora si runnino separatamente le funzioni `fit` e `transform` e le si comparino con la funzione `fit_transform`. `fit` prende in input un array e `transform` trasforma un array in base ai dati dall'input alla funzione fit."
   ]
  },
  {
   "cell_type": "code",
   "execution_count": 26,
   "id": "64684d05-8c7c-4051-8812-eb6c834db9b5",
   "metadata": {},
   "outputs": [],
   "source": [
    "## predefined new_data\n",
    "# print('{}\\n'.format(repr(new_data)))"
   ]
  },
  {
   "cell_type": "code",
   "execution_count": 27,
   "id": "2bb67eab-ff5f-487f-97d1-952b5254bd0a",
   "metadata": {},
   "outputs": [],
   "source": [
    "# from sklearn.preprocessing import MinMaxScaler\n",
    "# default_scaler = MinMaxScaler() # the default range is [0,1]\n",
    "# transformed = default_scaler.fit_transform(new_data)\n",
    "# print('{}\\n'.format(repr(transformed)))"
   ]
  },
  {
   "cell_type": "code",
   "execution_count": 28,
   "id": "c26d9c76-1533-4ab8-9c42-7a8dbb5c0bfc",
   "metadata": {},
   "outputs": [],
   "source": [
    "# default_scaler = MinMaxScaler()  # new instance\n",
    "# default_scaler.fit(data)  # different data value fit\n",
    "# transformed = default_scaler.transform(new_data)\n",
    "# print('{}\\n'.format(repr(transformed)))"
   ]
  },
  {
   "cell_type": "code",
   "execution_count": 30,
   "id": "794bde6d-83d5-4b71-af63-c8feedcff8ea",
   "metadata": {},
   "outputs": [
    {
     "data": {
      "image/png": "[encoded data removed]",
      "text/plain": [
       "<IPython.core.display.Image object>"
      ]
     },
     "execution_count": 30,
     "metadata": {},
     "output_type": "execute_result"
    }
   ],
   "source": [
    "Image(\"fit_transform.png\")"
   ]
  },
  {
   "cell_type": "markdown",
   "id": "ecba1437-be5c-4bd4-ac41-143d7a5e8a15",
   "metadata": {},
   "source": [
    "Il codice soprastante ridimensiona l'array `new_data` in un range [0,1] in base ai valori minimi e massimi (per colonna) della matrice `data` nell'esempio di codice originale."
   ]
  },
  {
   "cell_type": "markdown",
   "id": "41d8ef8b-7f75-448c-9488-27c30a738c1c",
   "metadata": {},
   "source": [
    "### Time to Code!\n",
    "- setta `min_max_scaler` uguale a `MinMaxScaler` inizializzato con `value_range` come argomento della keyword `feature_range`\n",
    "- setta `scaled_data` uguale a `min_max_scaler.fit_transform` applicato a `data` come unico argomento."
   ]
  },
  {
   "cell_type": "code",
   "execution_count": 32,
   "id": "9b559fae-46ad-46d5-8b04-3e9a9b4df984",
   "metadata": {},
   "outputs": [],
   "source": [
    "def ranged_data(data, value_range):\n",
    "    min_max_scaler = MinMaxScaler(feature_range=value_range)\n",
    "    scaled_data = min_max_scaler.fit_transform(data)\n",
    "    return scaled_data"
   ]
  },
  {
   "cell_type": "markdown",
   "id": "984fea00-3d8d-4cd4-82e5-1d0807465f5e",
   "metadata": {},
   "source": [
    "## Robust Scaling\n",
    "### Data outliers\n",
    "Un aspetto importante dei dati con cui abbiamo a che fare sono i valori anomali. In termini generali, un outlier è un punto dati che è significativamente più lontano dagli altri punti dati. Ad esempio, se avessimo angurie di pesi 5, 4, 6, 7 e 20 libbre, l'anguria da 20 libbre sarebbe un'anomalia.\n",
    "<br><br>I metodi di `ridimensionamento` visti in precendenza sono interessati da valori anomali. La standardizzazione dei dati utilizza la deviazione media e standard di ciascuna funzionalità, mentre il ridimensionamento a intervalli utilizza i valroi di funzionalità massima e minima, il che significa che entrambi sono suscettibili di essere distorti da valore anomali.\n",
    "<br><br>Si può scalre in modo robusto i dati utilizzando la mediana e l'intervallo interquartile dei dati.\n",
    "- Poichè la mediana e l'IQR sono misurazione percentili dei dati non sono influenzati da valori anomali.\n",
    "- Per il metodo di ridimensionamento, si sottrae semplicemente la mediana da ciascun valore di dari, quindi si scala all'IQR."
   ]
  },
  {
   "cell_type": "markdown",
   "id": "f07885d5-6027-487f-ba2e-be05cc752f14",
   "metadata": {},
   "source": [
    "### Robust scaling with scikit-learn\n",
    "In scikit-learn, si performa un robusto ridimensionamento con il modulo `RobustScaler`. E' un altro oggetto trasformatore come `fit`, `transform` e `fit_transform`"
   ]
  },
  {
   "cell_type": "code",
   "execution_count": 33,
   "id": "62655864-17e7-4680-a498-ff0256f43635",
   "metadata": {},
   "outputs": [],
   "source": [
    "## predefined data\n",
    "# print('{}\\n'.format(repr(data)))"
   ]
  },
  {
   "cell_type": "code",
   "execution_count": 35,
   "id": "c005cd5a-ce65-4416-953f-0102dc547d5f",
   "metadata": {},
   "outputs": [],
   "source": [
    "# from sklearn.preprocessing import RobustScaler\n",
    "# robust_scaler = RobustScaler()\n",
    "# transformed = robust_scaler.fit_transform(data)\n",
    "# print('{}\\n'.format(repr(transformed)))"
   ]
  },
  {
   "cell_type": "code",
   "execution_count": 36,
   "id": "be45b9f4-3a6d-42ff-b0e2-cfba90e4fee3",
   "metadata": {},
   "outputs": [
    {
     "data": {
      "image/png": "[encoded data removed]",
      "text/plain": [
       "<IPython.core.display.Image object>"
      ]
     },
     "execution_count": 36,
     "metadata": {},
     "output_type": "execute_result"
    }
   ],
   "source": [
    "Image(\"RobustScaler.png\")"
   ]
  },
  {
   "cell_type": "markdown",
   "id": "f576664d-7761-4c9f-ad63-1c950967d9b5",
   "metadata": {},
   "source": [
    "### Time to Code!\n",
    "- setta `robust_scaler` uguale a `RobustScaler` inizializzato senza parametri.\n",
    "- setta `scaled_data` uguale a `robust_scaler.fit_transform` applicato con `data` come unico argomento."
   ]
  },
  {
   "cell_type": "code",
   "execution_count": 37,
   "id": "f4b2b0d1-9b2b-4db9-8b76-7f37d0eb030e",
   "metadata": {},
   "outputs": [],
   "source": [
    "def robust_scaling(data):\n",
    "    robust_scaler = RobustScaler()\n",
    "    scaled_data = robust_scaler.fit_transform(data)\n",
    "    return scaled_data"
   ]
  },
  {
   "cell_type": "markdown",
   "id": "e41ab7d7-0010-4e43-9c0a-1b02741d07e1",
   "metadata": {},
   "source": [
    "## Normalizing Data\n",
    "### L2 normalization\n",
    "Finora, ciascuna delle tencniche di ridimensionamento che è stata utilizzata è stata applicata alle colonne. Quando si raggruppano i dati è necessario applicare la nomalizzazione L2  a ciascuuna riga, al fine di calcolare i punteggi di somiglianza del coseno. \n",
    "<br><br>La `normalizzazione L2` applicata a una particolare riga di una matrice di dati dividerà ogni valore in quella riga per la `norma L2` della riga. \n",
    "<br>In termini generali, la norma L2 di una riga è solo la radice quadrata della somma dei valori quadrati per la riga."
   ]
  },
  {
   "cell_type": "code",
   "execution_count": 39,
   "id": "9282a8a5-1976-4a88-a4c1-be09b47270cd",
   "metadata": {},
   "outputs": [
    {
     "data": {
      "image/png": "[encoded data removed]",
      "text/plain": [
       "<IPython.core.display.Image object>"
      ]
     },
     "execution_count": 39,
     "metadata": {},
     "output_type": "execute_result"
    }
   ],
   "source": [
    "Image(\"normalizationl2.png\")"
   ]
  },
  {
   "cell_type": "markdown",
   "id": "89a1ca46-711d-45b8-aef8-f0d70979e301",
   "metadata": {},
   "source": [
    "Il codice soprastante dimmostra la normalizzazione L2 applicata alla riga `x` per ottendere la riga normalizzata di valori XL2.\n",
    "<br><br>Il modulo traformatore che implementa la normalizzazione L2 è il `normalizer`. "
   ]
  },
  {
   "cell_type": "code",
   "execution_count": 40,
   "id": "6f9a7c4f-2fd3-49bb-a281-83f78ee10543",
   "metadata": {},
   "outputs": [],
   "source": [
    "## predefined data\n",
    "# print('{}\\n'.format(repr(data)))"
   ]
  },
  {
   "cell_type": "code",
   "execution_count": 41,
   "id": "84093ba3-5943-4542-9d0d-006373094f83",
   "metadata": {},
   "outputs": [],
   "source": [
    "# from sklearn.preprocessing import Normalizer\n",
    "# normalizer = Normalizer()\n",
    "# transformed = normalizer.fit_transform(data)\n",
    "# print('{}\\n'.format(repr(transformed)))"
   ]
  },
  {
   "cell_type": "markdown",
   "id": "d9453d50-5ecb-4703-9514-481d11c890c8",
   "metadata": {},
   "source": [
    "### Time to Code!\n",
    "- setta `normalizer` uguale a `Normalizer` inizializzato senza parametri.\n",
    "- setta `norm_data` uguale a `normalizer.fit_transform` applicata con `data` come unico argomento."
   ]
  },
  {
   "cell_type": "code",
   "execution_count": 42,
   "id": "58824e3a-d48c-44f6-ab8d-1455577a3225",
   "metadata": {},
   "outputs": [],
   "source": [
    "def normalize_data(data):\n",
    "    normalizer = Normalizer()\n",
    "    norm_data = normalizer.fit_transform(data)\n",
    "    return norm_data"
   ]
  },
  {
   "cell_type": "markdown",
   "id": "8e04d898-2f8e-48b8-85bf-161097c0faa7",
   "metadata": {},
   "source": [
    "## Data Imputation\n",
    "### Data imputation methods\n",
    "Nella vita reale, spesso si ha a che fare con dati che contengono valori mancanti. A volte, se al set di dati mancano troppi valori, semplicemente non lo si usa. Tuttavia se mancano solo alcuni dei valori, si può eseguire l'imputazione dei dati per sostituire i dati mancanti con altri valori.\n",
    "<br><br>Esistono molti metodi per l'imputazione dei dati. In scikit-learn, il trasformatore `SimpleImpute` esegue 4 diversi metodi di imputazione dei dati.\n",
    "I 4 metodi sono:\n",
    "- utilizzo del valore medio\n",
    "- utilizzo del valore mediano\n",
    "- utilizzo del valore più frequente\n",
    "- utilizzo dei valori mancanti con una costante"
   ]
  },
  {
   "cell_type": "code",
   "execution_count": 3,
   "id": "d09f3140-1ea6-430b-8e2e-f8149b4e5bbf",
   "metadata": {},
   "outputs": [],
   "source": [
    "# from sklearn.impute import SimpleImputer\n",
    "# imp_mean = SimpleImputer()\n",
    "# transformed = imp_mean.fit_transform(data)\n",
    "# print('{}\\n'.format(repr(transformed)))"
   ]
  },
  {
   "cell_type": "markdown",
   "id": "2fd7230a-d2c8-457a-8e5c-1cc9e4a005c3",
   "metadata": {},
   "source": [
    "Rimpiazzamento con valore medio"
   ]
  },
  {
   "cell_type": "code",
   "execution_count": 4,
   "id": "6938997a-b76f-4d95-b13c-e486ba6be035",
   "metadata": {},
   "outputs": [
    {
     "data": {
      "image/png": "[encoded data removed]",
      "text/plain": [
       "<IPython.core.display.Image object>"
      ]
     },
     "execution_count": 4,
     "metadata": {},
     "output_type": "execute_result"
    }
   ],
   "source": [
    "Image(\"dataimputation1.png\")"
   ]
  },
  {
   "cell_type": "code",
   "execution_count": 5,
   "id": "de338ade-3db4-4fde-8d0c-915de4cf34d4",
   "metadata": {},
   "outputs": [
    {
     "data": {
      "image/png": "[encoded data removed]",
      "text/plain": [
       "<IPython.core.display.Image object>"
      ]
     },
     "execution_count": 5,
     "metadata": {},
     "output_type": "execute_result"
    }
   ],
   "source": [
    "Image(\"dataimputation2.png\")"
   ]
  },
  {
   "cell_type": "markdown",
   "id": "8725b91a-36da-481d-ae53-9cf37be68781",
   "metadata": {},
   "source": [
    "Negli array di NumPy, i dati mancanti sono rappresentati da `np.nan`. Il rimpiazzamento di default del metodo `SimpleImputer` è usando la media della colonna. Usando la keyword `strategy` quando si inizializza un oggetto `SimpleImputer`, si può specificare un rimpiazzamento differente."
   ]
  },
  {
   "cell_type": "code",
   "execution_count": 8,
   "id": "911feb1c-139c-41f6-b2a7-7aab54e66091",
   "metadata": {},
   "outputs": [
    {
     "data": {
      "image/png": "[encoded data removed]",
      "text/plain": [
       "<IPython.core.display.Image object>"
      ]
     },
     "execution_count": 8,
     "metadata": {},
     "output_type": "execute_result"
    }
   ],
   "source": [
    "Image(\"dataimputation3.png\")"
   ]
  },
  {
   "cell_type": "code",
   "execution_count": 9,
   "id": "0abb50f0-71e2-4897-b744-88ecf09a5e72",
   "metadata": {},
   "outputs": [],
   "source": [
    "# from sklearn.impute import SimpleImputer\n",
    "# imp_median = SimpleImputer(strategy='median')\n",
    "# transformed = imp_median.fit_transform(data)\n",
    "# print('{}\\n'.format(repr(transformed)))"
   ]
  },
  {
   "cell_type": "code",
   "execution_count": 10,
   "id": "0c877837-6135-4d21-91ab-4e55c286169c",
   "metadata": {},
   "outputs": [
    {
     "data": {
      "image/png": "[encoded data removed]",
      "text/plain": [
       "<IPython.core.display.Image object>"
      ]
     },
     "execution_count": 10,
     "metadata": {},
     "output_type": "execute_result"
    }
   ],
   "source": [
    "Image(\"dataimputation4.png\")"
   ]
  },
  {
   "cell_type": "code",
   "execution_count": 11,
   "id": "e97845c4-78aa-4a68-b710-94b8c753eab8",
   "metadata": {},
   "outputs": [],
   "source": [
    "# imp_frequent = SimpleImputer(strategy='most_frequent')\n",
    "# transformed = imp_frequent.fit_transform(data)\n",
    "# print('{}\\n'.format(repr(transformed)))"
   ]
  },
  {
   "cell_type": "code",
   "execution_count": 12,
   "id": "01c75924-2ed2-4631-84e4-c033d1027d79",
   "metadata": {},
   "outputs": [
    {
     "data": {
      "image/png": "[encoded data removed]",
      "text/plain": [
       "<IPython.core.display.Image object>"
      ]
     },
     "execution_count": 12,
     "metadata": {},
     "output_type": "execute_result"
    }
   ],
   "source": [
    "Image(\"dataimputation5.png\")"
   ]
  },
  {
   "cell_type": "markdown",
   "id": "0388423a-4b0f-400c-a599-2cc66090f99f",
   "metadata": {},
   "source": [
    "Rimpiazzamento dei dati con una singola costante, in questo caso -1"
   ]
  },
  {
   "cell_type": "code",
   "execution_count": 13,
   "id": "6cf82263-7172-402e-9d8c-953f4e28e28b",
   "metadata": {},
   "outputs": [],
   "source": [
    "# from sklearn.impute import SimpleImputer\n",
    "# imp_constant = SimpleImputer(strategy='constant',\n",
    "#                              fill_value=-1)\n",
    "# transformed = imp_constant.fit_transform(data)\n",
    "# print('{}\\n'.format(repr(transformed)))"
   ]
  },
  {
   "cell_type": "markdown",
   "id": "14067705-94a0-40cf-bcf3-01a8a0ae4396",
   "metadata": {},
   "source": [
    "### Other imputation methods\n",
    "L'oggeto `SimpleImpute` implementa solo i 4 metodi di imputazione mostrati sopra. Nonostante questo il rimpiazzamento dei dati non è limitato a questi 4 metodi.\n",
    "<br><br>Ci sono anche metodi più avanzati come:\n",
    "- `k-Nearest Neighbors` che riempe i valori mancanti su punteggi di somiglianza dall'algoritmo kNN\n",
    "- MICE (applicazione di multipli rimpiazzamenti concatenati, supponendo che i valori mancanti siano distribuiti casualmente tra le osservazioni).\n",
    "\n",
    "Nella maggior parte dei casi industriali questi metodi avanzati non sono necessari, poiché i dati sono perfettamente puliti o i valori mancanti sono scarsi. Tuttavia, i metodi avanzati potrebbero essere utili quando si tratta di set di dati open source, poiché questi tendono ad essere più incompleti."
   ]
  },
  {
   "cell_type": "markdown",
   "id": "27568e7f-ec10-448f-869d-dd92262cacbe",
   "metadata": {},
   "source": [
    "## PCA\n",
    "### Dimensionality reduction\n",
    "La maggior parte dei set di dati contiene un gran numero di funzionalità, alcune delle quali sono ridondanti o non informative. \n",
    "- Ad esempio, in un set di dati di statistiche di pallacanestro, i punti totali e i punti per partita per un giocatore (il più delle volte) racconteranno la stessa storia sull'abilità di punteggio del giocatore.\n",
    "\n",
    "Quando un set di dati contiene questi tipi di funzionalità numeriche correlate, è possibile eseguire **l'analisi pca** (Principal Component Analysis) per la riduzione della dimensionalità (ovvero la riduzione del numero di colonne nell'array di dati).\n",
    "<br><br>\n",
    "PCA estrae i componenti principali del set di dati, che sono un insieme non correlato di variabili latenti che comprendono la maggior parte delle informazioni dal set di dati originale. \n",
    "- L'utilizzo di un set più piccolo di componenti principali può rendere molto più semplice l'utilizzo del set di dati in modelli statistici o di apprendimento automatico (specialmente quando il set di dati originale contiene molte funzionalità correlate)."
   ]
  },
  {
   "cell_type": "markdown",
   "id": "4dbfd8aa-898b-4cc3-9f60-f424965a9750",
   "metadata": {},
   "source": [
    "### PCA in scikit-learn\n",
    "Come ogni trasformazione di dati, si può applicare PCA a un dataset in scikit-learn con un trasformatore, in questo caso il modulo `PCA`. Quando si inizializza il modulo PCA, si può usare la keyword `n_components` per specificare il numero di principali componenti, L'impostazione di default è estrarre m-1 componenenti principali, dove m è il numero di caratteristiche  nel dataset."
   ]
  },
  {
   "cell_type": "code",
   "execution_count": 14,
   "id": "1e8d7b4d-935b-444d-abc0-1f745ef33931",
   "metadata": {},
   "outputs": [
    {
     "data": {
      "image/png": "[encoded data removed]",
      "text/plain": [
       "<IPython.core.display.Image object>"
      ]
     },
     "execution_count": 14,
     "metadata": {},
     "output_type": "execute_result"
    }
   ],
   "source": [
    "Image(\"pca.png\")"
   ]
  },
  {
   "cell_type": "code",
   "execution_count": 15,
   "id": "de9ef457-4dcb-4f0a-bad7-674baefcbfc1",
   "metadata": {},
   "outputs": [],
   "source": [
    "# from sklearn.decomposition import PCA\n",
    "# pca_obj = PCA() # The value of n_component will be 4. As m is 5 and default is always m-1\n",
    "# pc = pca_obj.fit_transform(data).round(3)\n",
    "# print('{}\\n'.format(repr(pc)))"
   ]
  },
  {
   "cell_type": "code",
   "execution_count": 16,
   "id": "b2f7748b-53a2-41b8-8682-03311dba064b",
   "metadata": {},
   "outputs": [
    {
     "data": {
      "image/png": "[encoded data removed]",
      "text/plain": [
       "<IPython.core.display.Image object>"
      ]
     },
     "execution_count": 16,
     "metadata": {},
     "output_type": "execute_result"
    }
   ],
   "source": [
    "Image(\"pca1.png\")"
   ]
  },
  {
   "cell_type": "code",
   "execution_count": 17,
   "id": "a83f7803-3ed2-4ade-85b6-1830db599a0b",
   "metadata": {},
   "outputs": [],
   "source": [
    "# pca_obj = PCA(n_components=3)\n",
    "# pc = pca_obj.fit_transform(data).round(3)\n",
    "# print('{}\\n'.format(repr(pc)))"
   ]
  },
  {
   "cell_type": "code",
   "execution_count": 18,
   "id": "c3b22ba8-f266-469c-9219-13d3a1f0daa1",
   "metadata": {},
   "outputs": [
    {
     "data": {
      "image/png": "[encoded data removed]",
      "text/plain": [
       "<IPython.core.display.Image object>"
      ]
     },
     "execution_count": 18,
     "metadata": {},
     "output_type": "execute_result"
    }
   ],
   "source": [
    "Image(\"pca2.png\")"
   ]
  },
  {
   "cell_type": "code",
   "execution_count": 19,
   "id": "f375e790-e36e-48b2-92dc-449d507ae4a7",
   "metadata": {},
   "outputs": [],
   "source": [
    "# pca_obj = PCA(n_components=2)\n",
    "# pc = pca_obj.fit_transform(data).round(3)\n",
    "# print('{}\\n'.format(repr(pc)))"
   ]
  },
  {
   "cell_type": "code",
   "execution_count": 20,
   "id": "7d994545-cafe-4c9d-b879-da435b74b5b8",
   "metadata": {},
   "outputs": [
    {
     "data": {
      "image/png": "[encoded data removed]",
      "text/plain": [
       "<IPython.core.display.Image object>"
      ]
     },
     "execution_count": 20,
     "metadata": {},
     "output_type": "execute_result"
    }
   ],
   "source": [
    "Image(\"pca3.png\")"
   ]
  },
  {
   "cell_type": "markdown",
   "id": "288fc83c-47b4-47a1-935c-eca482f724c2",
   "metadata": {},
   "source": [
    "Si noti che quando PCA viene applicato con 4 componenti principali, la colonna finale (ultimo componente principale) ha solo 0. Ciò significa che in realtà ci sono solo un massimo di tre componenti principali non correlati che possono essere estratti."
   ]
  },
  {
   "cell_type": "markdown",
   "id": "6bad896e-cf08-49ee-8943-b264bb7ac8a8",
   "metadata": {},
   "source": [
    "### Time to Code!\n",
    "- Setta `pca_obj` uguale a `PCA` inizializzato con l'argomento `n_components` per la keyword `n_components`.\n",
    "- Setta `component_data` uguale a `pca_obj.fit_transform` applicato a `data` come unico argomento."
   ]
  },
  {
   "cell_type": "code",
   "execution_count": 22,
   "id": "f0102530-5309-4bfe-80cb-0d33d2f49b3f",
   "metadata": {},
   "outputs": [],
   "source": [
    "def pca_data(data, n_components):\n",
    "    pca_obj = PCA(n_components=n_components)\n",
    "    component_data = pca_obj.fit_transform(data)\n",
    "    return component_data"
   ]
  },
  {
   "cell_type": "markdown",
   "id": "85137cc4-8414-4adb-ac62-3a1693988dfd",
   "metadata": {},
   "source": [
    "## Labeled Data\n",
    "### Class labels\n",
    "Gran parte della data scientist è la classificazione delle osservazioni in un set di dati in categorie o classi separate.\n",
    "<br>Un caso d'uso popolare della classificazione dei dati è la separazione di un set di dati in categorie \"buone\" e \"cattive\". Ad esempio, possiamo classificare un set di dati di tumori al seno come maligni o benigni.‎"
   ]
  },
  {
   "cell_type": "code",
   "execution_count": 23,
   "id": "9b4682b0-cf82-46fb-9477-e1abf6d966dc",
   "metadata": {},
   "outputs": [
    {
     "name": "stdout",
     "output_type": "stream",
     "text": [
      "array([[1.799e+01, 1.038e+01, 1.228e+02, ..., 2.654e-01, 4.601e-01,\n",
      "        1.189e-01],\n",
      "       [2.057e+01, 1.777e+01, 1.329e+02, ..., 1.860e-01, 2.750e-01,\n",
      "        8.902e-02],\n",
      "       [1.969e+01, 2.125e+01, 1.300e+02, ..., 2.430e-01, 3.613e-01,\n",
      "        8.758e-02],\n",
      "       ...,\n",
      "       [1.660e+01, 2.808e+01, 1.083e+02, ..., 1.418e-01, 2.218e-01,\n",
      "        7.820e-02],\n",
      "       [2.060e+01, 2.933e+01, 1.401e+02, ..., 2.650e-01, 4.087e-01,\n",
      "        1.240e-01],\n",
      "       [7.760e+00, 2.454e+01, 4.792e+01, ..., 0.000e+00, 2.871e-01,\n",
      "        7.039e-02]])\n",
      "\n",
      "Data shape: (569, 30)\n",
      "\n"
     ]
    }
   ],
   "source": [
    "from sklearn.datasets import load_breast_cancer\n",
    "bc = load_breast_cancer()\n",
    "print('{}\\n'.format(repr(bc.data)))\n",
    "print('Data shape: {}\\n'.format(bc.data.shape))"
   ]
  },
  {
   "cell_type": "code",
   "execution_count": 24,
   "id": "da00a6cd-7447-4f31-a302-816835cf19fd",
   "metadata": {},
   "outputs": [
    {
     "name": "stdout",
     "output_type": "stream",
     "text": [
      "array([0, 0, 0, 0, 0, 0, 0, 0, 0, 0, 0, 0, 0, 0, 0, 0, 0, 0, 0, 1, 1, 1,\n",
      "       0, 0, 0, 0, 0, 0, 0, 0, 0, 0, 0, 0, 0, 0, 0, 1, 0, 0, 0, 0, 0, 0,\n",
      "       0, 0, 1, 0, 1, 1, 1, 1, 1, 0, 0, 1, 0, 0, 1, 1, 1, 1, 0, 1, 0, 0,\n",
      "       1, 1, 1, 1, 0, 1, 0, 0, 1, 0, 1, 0, 0, 1, 1, 1, 0, 0, 1, 0, 0, 0,\n",
      "       1, 1, 1, 0, 1, 1, 0, 0, 1, 1, 1, 0, 0, 1, 1, 1, 1, 0, 1, 1, 0, 1,\n",
      "       1, 1, 1, 1, 1, 1, 1, 0, 0, 0, 1, 0, 0, 1, 1, 1, 0, 0, 1, 0, 1, 0,\n",
      "       0, 1, 0, 0, 1, 1, 0, 1, 1, 0, 1, 1, 1, 1, 0, 1, 1, 1, 1, 1, 1, 1,\n",
      "       1, 1, 0, 1, 1, 1, 1, 0, 0, 1, 0, 1, 1, 0, 0, 1, 1, 0, 0, 1, 1, 1,\n",
      "       1, 0, 1, 1, 0, 0, 0, 1, 0, 1, 0, 1, 1, 1, 0, 1, 1, 0, 0, 1, 0, 0,\n",
      "       0, 0, 1, 0, 0, 0, 1, 0, 1, 0, 1, 1, 0, 1, 0, 0, 0, 0, 1, 1, 0, 0,\n",
      "       1, 1, 1, 0, 1, 1, 1, 1, 1, 0, 0, 1, 1, 0, 1, 1, 0, 0, 1, 0, 1, 1,\n",
      "       1, 1, 0, 1, 1, 1, 1, 1, 0, 1, 0, 0, 0, 0, 0, 0, 0, 0, 0, 0, 0, 0,\n",
      "       0, 0, 1, 1, 1, 1, 1, 1, 0, 1, 0, 1, 1, 0, 1, 1, 0, 1, 0, 0, 1, 1,\n",
      "       1, 1, 1, 1, 1, 1, 1, 1, 1, 1, 1, 0, 1, 1, 0, 1, 0, 1, 1, 1, 1, 1,\n",
      "       1, 1, 1, 1, 1, 1, 1, 1, 1, 0, 1, 1, 1, 0, 1, 0, 1, 1, 1, 1, 0, 0,\n",
      "       0, 1, 1, 1, 1, 0, 1, 0, 1, 0, 1, 1, 1, 0, 1, 1, 1, 1, 1, 1, 1, 0,\n",
      "       0, 0, 1, 1, 1, 1, 1, 1, 1, 1, 1, 1, 1, 0, 0, 1, 0, 0, 0, 1, 0, 0,\n",
      "       1, 1, 1, 1, 1, 0, 1, 1, 1, 1, 1, 0, 1, 1, 1, 0, 1, 1, 0, 0, 1, 1,\n",
      "       1, 1, 1, 1, 0, 1, 1, 1, 1, 1, 1, 1, 0, 1, 1, 1, 1, 1, 0, 1, 1, 0,\n",
      "       1, 1, 1, 1, 1, 1, 1, 1, 1, 1, 1, 1, 0, 1, 0, 0, 1, 0, 1, 1, 1, 1,\n",
      "       1, 0, 1, 1, 0, 1, 0, 1, 1, 0, 1, 0, 1, 1, 1, 1, 1, 1, 1, 1, 0, 0,\n",
      "       1, 1, 1, 1, 1, 1, 0, 1, 1, 1, 1, 1, 1, 1, 1, 1, 1, 0, 1, 1, 1, 1,\n",
      "       1, 1, 1, 0, 1, 0, 1, 1, 0, 1, 1, 1, 1, 1, 0, 0, 1, 0, 1, 0, 1, 1,\n",
      "       1, 1, 1, 0, 1, 1, 0, 1, 0, 1, 0, 0, 1, 1, 1, 0, 1, 1, 1, 1, 1, 1,\n",
      "       1, 1, 1, 1, 1, 0, 1, 0, 0, 1, 1, 1, 1, 1, 1, 1, 1, 1, 1, 1, 1, 1,\n",
      "       1, 1, 1, 1, 1, 1, 1, 1, 1, 1, 1, 1, 0, 0, 0, 0, 0, 0, 1])\n",
      "\n",
      "Labels shape: (569,)\n",
      "\n"
     ]
    }
   ],
   "source": [
    "# Class labels\n",
    "print('{}\\n'.format(repr(bc.target)))\n",
    "print('Labels shape: {}\\n'.format(bc.target.shape))"
   ]
  },
  {
   "cell_type": "code",
   "execution_count": 25,
   "id": "337d3737-de97-45c1-82cf-879932b1dd06",
   "metadata": {},
   "outputs": [
    {
     "name": "stdout",
     "output_type": "stream",
     "text": [
      "['malignant', 'benign']\n",
      "\n",
      "Malignant shape: (212, 30)\n",
      "\n",
      "Benign shape: (357, 30)\n",
      "\n"
     ]
    }
   ],
   "source": [
    "# Label names\n",
    "print('{}\\n'.format(list(bc.target_names)))\n",
    "\n",
    "malignant = bc.data[bc.target == 0]\n",
    "print('Malignant shape: {}\\n'.format(malignant.shape))\n",
    "\n",
    "benign = bc.data[bc.target == 1]\n",
    "print('Benign shape: {}\\n'.format(benign.shape))"
   ]
  },
  {
   "cell_type": "markdown",
   "id": "4acedf4d-1bd5-4594-aeaf-f54630639682",
   "metadata": {},
   "source": [
    "- L'array `bc.data` contiene tutti i valori del dataset,\n",
    "- mentre l'array `bc.target` contiene le etichette per ogni riga di ``bc.data`. \n",
    "\n",
    "0 corrisponde a un tumore maligno, mentre 1 corrisponde a un tumore benigno.\n",
    "<br><br>\n",
    "Usando gli id di classe di `bc.target`, il dataset è stato separato in array maligni e benigni."
   ]
  },
  {
   "cell_type": "markdown",
   "id": "65d02290-ff53-4075-bd8d-35055eaa45eb",
   "metadata": {},
   "source": [
    "### Time to Code!\n",
    "L'esercizio in questo capitolo prevede il completamento della funzione che separerà i dati dei componenti principali per classe.\n",
    "<br>Prima bisogna creare una funzione `get_label_info`, che ritorni il nome dell'etichetta e dati per ogni classe di etichetta.\n",
    "- `component_data` rappresenta i principali componenti dati,\n",
    "- `labels` è un array 1-D contenente l'etichetta di classe corrispondente per ogni riga di `component_data`. Si può usare per separare i principali componenti per classe,\n",
    "- `class_label` rappresenta una particolare etichetta di classe,\n",
    "- `label_names` rappresenta tutte i nomi delle strighe per ogni etichetta di classe.\n",
    "<br><br>\n",
    "- Setta `label_name` uguale alla stringa in corrispondenza dell'indice `class_label` di `label_names`.\n",
    "- Setta `label_data` uguale alle righe di `component_data` corrispondente agli indici dove `labels` è uguale a `class_label`. Ritorna la tupla `label_name, label_data`."
   ]
  },
  {
   "cell_type": "code",
   "execution_count": 3,
   "id": "59342ecb-c16f-4ff6-9c44-bb1bf16a8fcd",
   "metadata": {},
   "outputs": [],
   "source": [
    "def get_label_info(component_data, labels,\n",
    "                   class_label, label_names):\n",
    "\n",
    "    label_name = label_names[class_label]\n",
    "    label_data = component_data[labels == class_label]\n",
    "    return (label_name, label_data)"
   ]
  },
  {
   "cell_type": "markdown",
   "id": "41c651e6-3ca3-4209-8a4b-e3d4fcaec81c",
   "metadata": {},
   "source": [
    "Ora, dentro la funzione principale `separated_data`, si itererà attraverso ogni etichetta della lista `label_names`.\n",
    "- Setta `separated_data` uguale a una lista vuota.\n",
    "- Crea un `for` loop che itereri la variabile `class_label` attraverso il `range(len(label_names)).`\n",
    "\n",
    "Dentro al `for` loop, si usi la funzione di support per ottenere i dati separati per ogni classe.\n",
    "- Dentro il `for` loop, chiamare `get_label_info` con input `component_data`, `labes`, `class_labes` e `labes_names`. Aggiungere l'output della funzione a `separated_data.`\n",
    "\n",
    "Dopo aver finalizzato l'elenco dei componenti principali separati per classe, lo si restituisce.\n",
    "- alla fine del ciclo for si restituisca `separated_data`"
   ]
  },
  {
   "cell_type": "code",
   "execution_count": 4,
   "id": "76c729aa-d04a-453b-b459-061b02f2bb6d",
   "metadata": {},
   "outputs": [],
   "source": [
    "def separate_data(component_data, labels,\n",
    "                  label_names):\n",
    "    \n",
    "    separated_data = []\n",
    "    for class_label in range(len(label_names)):\n",
    "        separated_data.append(get_label_info(component_data, \n",
    "                                             labels, \n",
    "                                             class_label, \n",
    "                                             label_names))\n",
    "    return separated_data"
   ]
  },
  {
   "cell_type": "markdown",
   "id": "b3f62735-f361-42c9-835e-82c9ecb93eb8",
   "metadata": {},
   "source": [
    "La funzione `separate_data` è incredibilmente utile per visualizzare le componenti. Si pul usare `matplotlib` per creare buoni grafici di dati separati."
   ]
  },
  {
   "cell_type": "code",
   "execution_count": 6,
   "id": "490fed89-293e-44c5-8779-e078f1ec3b73",
   "metadata": {},
   "outputs": [],
   "source": [
    "from sklearn.datasets import load_breast_cancer\n",
    "from sklearn.decomposition import PCA\n",
    "\n",
    "bc = load_breast_cancer()\n",
    "pca_obj = PCA(n_components=2)\n",
    "component_data = pca_obj.fit_transform(bc.data)\n",
    "labels = bc.target\n",
    "label_names = bc.target_names\n",
    "\n",
    "# Using the completed separate_data function\n",
    "separated_data = separate_data(component_data,\n",
    "                               labels, \n",
    "                               label_names)"
   ]
  },
  {
   "cell_type": "code",
   "execution_count": 8,
   "id": "68df43fd-ed38-4720-b8ce-daecbde945be",
   "metadata": {},
   "outputs": [
    {
     "data": {
      "image/png": "[encoded data removed]",
      "text/plain": [
       "<Figure size 432x288 with 1 Axes>"
      ]
     },
     "metadata": {
      "needs_background": "light"
     },
     "output_type": "display_data"
    }
   ],
   "source": [
    "# Plotting the data\n",
    "import matplotlib.pyplot as plt\n",
    "for label_name, label_data in separated_data:\n",
    "    col1 = label_data[:, 0]  # 1st column (1st pr. comp.)\n",
    "    col2 = label_data[:, 1]  # 2nd column (2nd pr. comp.)\n",
    "    \n",
    "    plt.scatter(col1, col2, label=label_name) # scatterplot\n",
    "\n",
    "plt.legend()  # adds legend to plot\n",
    "plt.title('Breast Cancer Dataset PCA Plot')\n",
    "plt.show()"
   ]
  }
 ],
 "metadata": {
  "kernelspec": {
   "display_name": "Python 3 (ipykernel)",
   "language": "python",
   "name": "python3"
  },
  "language_info": {
   "codemirror_mode": {
    "name": "ipython",
    "version": 3
   },
   "file_extension": ".py",
   "mimetype": "text/x-python",
   "name": "python",
   "nbconvert_exporter": "python",
   "pygments_lexer": "ipython3",
   "version": "3.9.7"
  }
 },
 "nbformat": 4,
 "nbformat_minor": 5
}
