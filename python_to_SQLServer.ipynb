{
 "cells": [
  {
   "cell_type": "markdown",
   "id": "0de4da53-2822-4b95-bc48-fe48fce73ca5",
   "metadata": {
    "tags": []
   },
   "source": [
    "# CONNETTERE PYTHON A SQL SERVER"
   ]
  },
  {
   "cell_type": "markdown",
   "id": "74a52e2f-b3e8-456a-9957-2ec760b117ed",
   "metadata": {},
   "source": [
    "## installare pyodbc"
   ]
  },
  {
   "cell_type": "code",
   "execution_count": 1,
   "id": "15155606-a6a3-4edc-b9f3-1aa1bb187d07",
   "metadata": {},
   "outputs": [],
   "source": [
    "#pip install pyodbc"
   ]
  },
  {
   "cell_type": "markdown",
   "id": "24c5c815-3f93-4720-8459-143adff484b0",
   "metadata": {},
   "source": [
    "## import"
   ]
  },
  {
   "cell_type": "code",
   "execution_count": 2,
   "id": "9edd1e10-0dde-4f30-9186-3cf9dceac38b",
   "metadata": {},
   "outputs": [],
   "source": [
    "import pandas as pd\n",
    "import pyodbc as odbc"
   ]
  },
  {
   "cell_type": "markdown",
   "id": "0a4eb37b-b949-43d0-a083-15dc51ab75f2",
   "metadata": {},
   "source": [
    "# corpo centrale\n",
    "per accedere al database occore richiamare la funzione odbc.connect e passare come argomento il driver qui sotto (nel caso si voglia accedere tramite autenticazione windows) altrimenti c'è un'ampia gamma di driver accessibili. inserire il nome del server e del database in questione, passare 'yes' alla keyword 'Trusted_Connection'"
   ]
  },
  {
   "cell_type": "code",
   "execution_count": 93,
   "id": "fe870ef9-b814-4fda-a62e-cf95136d4604",
   "metadata": {},
   "outputs": [],
   "source": [
    "channel = odbc.connect(\"DRIVER={SQL Server};SERVER=.;DATABASE=Prova;Trusted_Connection=yes;\")      #ha funzionato solo con questo driver per ora, non cambiare questa linea di codice"
   ]
  },
  {
   "cell_type": "markdown",
   "id": "d1c72d93-c7af-4ded-814f-a53ffd573bfb",
   "metadata": {},
   "source": [
    "implementare poi un cursore che tramite la funzione .cursor viene associato al canale di prima, al cursore si può associare una query da chiedere al database"
   ]
  },
  {
   "cell_type": "code",
   "execution_count": 94,
   "id": "98f9cfb1-da9f-4eda-a2ec-88cbfc11fcdd",
   "metadata": {},
   "outputs": [],
   "source": [
    "cursor = channel.cursor()"
   ]
  },
  {
   "cell_type": "markdown",
   "id": "c655aea7-513c-4a76-b0ca-937031a79fa5",
   "metadata": {},
   "source": [
    "si può quindi ciclare il cursore lungo le righe della select"
   ]
  },
  {
   "cell_type": "code",
   "execution_count": 95,
   "id": "288b1b69-57b3-45f6-bebb-c0184299eabe",
   "metadata": {},
   "outputs": [
    {
     "name": "stdout",
     "output_type": "stream",
     "text": [
      "1ALS\n",
      "1BLS\n",
      "pas\n",
      "1BD\n",
      "2BD\n",
      "1FS\n",
      "2FS\n",
      "asd\n",
      "sdfg\n"
     ]
    }
   ],
   "source": [
    "cursor.execute('SELECT * FROM dbo.CLASS')\n",
    "while 1:\n",
    "    row = cursor.fetchone()\n",
    "    if not row:\n",
    "        break\n",
    "\n",
    "    print(row.ClassName)"
   ]
  },
  {
   "cell_type": "code",
   "execution_count": 96,
   "id": "177873df-a324-40ec-8998-df790c1bb75f",
   "metadata": {},
   "outputs": [
    {
     "name": "stdout",
     "output_type": "stream",
     "text": [
      "(1, 1, '1ALS', 'prima del liceo di scienze applicate')\n",
      "(2, 1, '1BLS', 'prima del liceo di sceinze applicate')\n",
      "(3, 3, 'pas', 'tua sorella')\n",
      "(31, 3, '1BD', 'Big Data Engineering primo anno')\n",
      "(32, 3, '2BD', 'Big Data Engineering anno 2')\n",
      "(33, 3, '1FS', 'Fullstack Developper primo anno')\n"
     ]
    }
   ],
   "source": [
    "cursor.execute('SELECT * FROM dbo.CLASS')\n",
    "while 1:\n",
    "    row = cursor.fetchone()\n",
    "    if not row:\n",
    "        break\n",
    "    if row.ClassID == 34:\n",
    "        break\n",
    "    print(row)"
   ]
  },
  {
   "cell_type": "code",
   "execution_count": 97,
   "id": "a309e711-36d3-4939-9cc8-ca211efd8e61",
   "metadata": {},
   "outputs": [
    {
     "name": "stdout",
     "output_type": "stream",
     "text": [
      "(1, 1, '1ALS', 'prima del liceo di scienze applicate')\n",
      "(2, 1, '1BLS', 'prima del liceo di sceinze applicate')\n",
      "(3, 3, 'pas', 'tua sorella')\n",
      "(31, 3, '1BD', 'Big Data Engineering primo anno')\n",
      "(32, 3, '2BD', 'Big Data Engineering anno 2')\n",
      "(33, 3, '1FS', 'Fullstack Developper primo anno')\n",
      "(34, 3, '2FS', 'sicanca')\n",
      "(35, 3, 'asd', 'sdfghj')\n",
      "(36, 1, 'sdfg', 'sdfghj')\n"
     ]
    }
   ],
   "source": [
    "cursor.execute('SELECT * FROM dbo.CLASS')\n",
    "for i in cursor:\n",
    "    print(i)"
   ]
  },
  {
   "cell_type": "code",
   "execution_count": 98,
   "id": "fecac302-9286-4da6-a37b-3d0c00f7f438",
   "metadata": {},
   "outputs": [],
   "source": [
    "#cursor.execute('SELECT * FROM dbo.CLASS')\n",
    "#for i in cursor:\n",
    " #   if i.ClassID == 34:\n",
    "  #      cursor.execute(\"update table"
   ]
  },
  {
   "cell_type": "markdown",
   "id": "c9af5d26-13f3-4952-a493-e1c18906a564",
   "metadata": {},
   "source": [
    "# insertion\n",
    "to insert into a database you use the 'insert into' queries"
   ]
  },
  {
   "cell_type": "code",
   "execution_count": 99,
   "id": "3e4fbf18-013e-4006-bf03-135840020616",
   "metadata": {
    "tags": []
   },
   "outputs": [
    {
     "data": {
      "text/plain": [
       "<pyodbc.Cursor at 0x1ecd19946b0>"
      ]
     },
     "execution_count": 99,
     "metadata": {},
     "output_type": "execute_result"
    }
   ],
   "source": [
    "cursor.execute('''\n",
    "                INSERT INTO CLASS (ClassID,SchoolID,ClassName,Description)\n",
    "                values (40,2,'glob','glibglob')''')"
   ]
  },
  {
   "cell_type": "code",
   "execution_count": 100,
   "id": "0ee112f8-4310-4eb7-8bcf-7efffa0a1612",
   "metadata": {},
   "outputs": [
    {
     "name": "stdout",
     "output_type": "stream",
     "text": [
      "(1, 1, '1ALS', 'prima del liceo di scienze applicate')\n",
      "(2, 1, '1BLS', 'prima del liceo di sceinze applicate')\n",
      "(3, 3, 'pas', 'tua sorella')\n",
      "(31, 3, '1BD', 'Big Data Engineering primo anno')\n",
      "(32, 3, '2BD', 'Big Data Engineering anno 2')\n",
      "(33, 3, '1FS', 'Fullstack Developper primo anno')\n",
      "(34, 3, '2FS', 'sicanca')\n",
      "(35, 3, 'asd', 'sdfghj')\n",
      "(36, 1, 'sdfg', 'sdfghj')\n",
      "(40, 2, 'glob', 'glibglob')\n"
     ]
    }
   ],
   "source": [
    "cursor.execute('SELECT * FROM dbo.CLASS')\n",
    "for i in cursor:\n",
    "    print(i)"
   ]
  },
  {
   "cell_type": "markdown",
   "id": "d927645a-2ab2-4fc7-af7d-17b04c8c72d8",
   "metadata": {},
   "source": [
    "**NB** important, you must remember to commit so the updaates get propagated into your SQLserver database"
   ]
  },
  {
   "cell_type": "code",
   "execution_count": 101,
   "id": "829378bf-589c-4b4a-ab2b-4fac583cefd4",
   "metadata": {},
   "outputs": [],
   "source": [
    "channel.commit()"
   ]
  },
  {
   "cell_type": "markdown",
   "id": "a563e964-b7a1-449d-9aed-9155e38dd3ee",
   "metadata": {},
   "source": [
    "# importante\n",
    "**alla fine di ogni connessione bisogna chiudere il canale di accesso al database**"
   ]
  },
  {
   "cell_type": "code",
   "execution_count": 102,
   "id": "ee286c33-7fd0-4edb-a178-f5874df56fde",
   "metadata": {},
   "outputs": [],
   "source": [
    "channel.close()"
   ]
  },
  {
   "cell_type": "code",
   "execution_count": null,
   "id": "4bc417f3-a3a1-45b2-bf1f-0c0f4039f7b8",
   "metadata": {},
   "outputs": [],
   "source": []
  },
  {
   "cell_type": "code",
   "execution_count": null,
   "id": "dce2516d-2d5b-4736-9bbf-f20b2bb28b6d",
   "metadata": {},
   "outputs": [],
   "source": [
    "https://github.com/Arufonsu25/experiment.git"
   ]
  }
 ],
 "metadata": {
  "kernelspec": {
   "display_name": "Python 3 (ipykernel)",
   "language": "python",
   "name": "python3"
  },
  "language_info": {
   "codemirror_mode": {
    "name": "ipython",
    "version": 3
   },
   "file_extension": ".py",
   "mimetype": "text/x-python",
   "name": "python",
   "nbconvert_exporter": "python",
   "pygments_lexer": "ipython3",
   "version": "3.9.12"
  }
 },
 "nbformat": 4,
 "nbformat_minor": 5
}
